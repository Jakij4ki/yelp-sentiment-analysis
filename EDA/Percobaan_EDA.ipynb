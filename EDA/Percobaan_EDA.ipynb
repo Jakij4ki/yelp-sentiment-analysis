{
  "nbformat": 4,
  "nbformat_minor": 0,
  "metadata": {
    "colab": {
      "provenance": []
    },
    "kernelspec": {
      "name": "python3",
      "display_name": "Python 3"
    },
    "language_info": {
      "name": "python"
    }
  },
  "cells": [
    {
      "cell_type": "code",
      "source": [
        "!git clone https://github.com/Jakij4ki/yelp-sentiment-analysis.git\n",
        "%cd yelp-sentiment-analysis"
      ],
      "metadata": {
        "colab": {
          "base_uri": "https://localhost:8080/"
        },
        "id": "PEIUh6dRFafa",
        "outputId": "a7637047-e097-4012-e3aa-38536d802ea7"
      },
      "execution_count": 18,
      "outputs": [
        {
          "output_type": "stream",
          "name": "stdout",
          "text": [
            "Cloning into 'yelp-sentiment-analysis'...\n",
            "remote: Enumerating objects: 11, done.\u001b[K\n",
            "remote: Counting objects: 100% (11/11), done.\u001b[K\n",
            "remote: Compressing objects: 100% (9/9), done.\u001b[K\n",
            "remote: Total 11 (delta 0), reused 0 (delta 0), pack-reused 0 (from 0)\u001b[K\n",
            "Receiving objects: 100% (11/11), 5.38 KiB | 324.00 KiB/s, done.\n",
            "/content/yelp-sentiment-analysis/yelp-sentiment-analysis\n"
          ]
        }
      ]
    },
    {
      "cell_type": "code",
      "source": [
        "!mkdir -p EDA"
      ],
      "metadata": {
        "id": "MXafXIycGNzm"
      },
      "execution_count": 19,
      "outputs": []
    },
    {
      "cell_type": "code",
      "source": [
        "!cp /content/Percobaan EDA.ipnyb EDA/"
      ],
      "metadata": {
        "colab": {
          "base_uri": "https://localhost:8080/"
        },
        "id": "paFs3i5NG7oL",
        "outputId": "ddee0831-3e1b-48d4-a9af-d4b63d787aae"
      },
      "execution_count": 20,
      "outputs": [
        {
          "output_type": "stream",
          "name": "stdout",
          "text": [
            "cp: cannot stat '/content/Percobaan': No such file or directory\n",
            "cp: cannot stat 'EDA.ipnyb': No such file or directory\n"
          ]
        }
      ]
    },
    {
      "cell_type": "code",
      "source": [
        "!git config --global user.email \"dzakyrezandi1714@gmail.com\"\n",
        "!git config --global user.name \"Jakij4ki\""
      ],
      "metadata": {
        "id": "DCoqR6LFHJ3a"
      },
      "execution_count": 17,
      "outputs": []
    },
    {
      "cell_type": "code",
      "source": [
        "!git add EDA/Percobaan EDA.ipnyb"
      ],
      "metadata": {
        "id": "t4JkfVTAGUvF"
      },
      "execution_count": 16,
      "outputs": []
    },
    {
      "cell_type": "code",
      "source": [
        "!git commit -m \"Percobaan EDA dengan melihat data tiap label pada keseluruhan data yelp\""
      ],
      "metadata": {
        "id": "zHlfLwj4GZ5U"
      },
      "execution_count": null,
      "outputs": []
    },
    {
      "cell_type": "code",
      "source": [
        "!git push origin main"
      ],
      "metadata": {
        "id": "t7wi7-VLHlxF"
      },
      "execution_count": null,
      "outputs": []
    },
    {
      "cell_type": "code",
      "execution_count": 1,
      "metadata": {
        "id": "t8MeSIoO9gkc",
        "colab": {
          "base_uri": "https://localhost:8080/"
        },
        "outputId": "b85530ca-437f-4c8f-bb37-bba260d58466"
      },
      "outputs": [
        {
          "output_type": "stream",
          "name": "stdout",
          "text": [
            "Collecting modin[ray]\n",
            "  Downloading modin-0.37.1-py3-none-any.whl.metadata (17 kB)\n",
            "Requirement already satisfied: pandas<2.4,>=2.2 in /usr/local/lib/python3.12/dist-packages (from modin[ray]) (2.2.2)\n",
            "Requirement already satisfied: packaging>=21.0 in /usr/local/lib/python3.12/dist-packages (from modin[ray]) (25.0)\n",
            "Requirement already satisfied: numpy>=1.22.4 in /usr/local/lib/python3.12/dist-packages (from modin[ray]) (2.0.2)\n",
            "Requirement already satisfied: fsspec>=2022.11.0 in /usr/local/lib/python3.12/dist-packages (from modin[ray]) (2025.3.0)\n",
            "Requirement already satisfied: psutil>=5.8.0 in /usr/local/lib/python3.12/dist-packages (from modin[ray]) (5.9.5)\n",
            "Requirement already satisfied: typing-extensions in /usr/local/lib/python3.12/dist-packages (from modin[ray]) (4.15.0)\n",
            "Collecting ray<3,>=2.10.0 (from modin[ray])\n",
            "  Downloading ray-2.49.2-cp312-cp312-manylinux2014_x86_64.whl.metadata (21 kB)\n",
            "Requirement already satisfied: pyarrow>=10.0.1 in /usr/local/lib/python3.12/dist-packages (from modin[ray]) (18.1.0)\n",
            "Requirement already satisfied: python-dateutil>=2.8.2 in /usr/local/lib/python3.12/dist-packages (from pandas<2.4,>=2.2->modin[ray]) (2.9.0.post0)\n",
            "Requirement already satisfied: pytz>=2020.1 in /usr/local/lib/python3.12/dist-packages (from pandas<2.4,>=2.2->modin[ray]) (2025.2)\n",
            "Requirement already satisfied: tzdata>=2022.7 in /usr/local/lib/python3.12/dist-packages (from pandas<2.4,>=2.2->modin[ray]) (2025.2)\n",
            "Requirement already satisfied: click>=7.0 in /usr/local/lib/python3.12/dist-packages (from ray<3,>=2.10.0->modin[ray]) (8.3.0)\n",
            "Requirement already satisfied: filelock in /usr/local/lib/python3.12/dist-packages (from ray<3,>=2.10.0->modin[ray]) (3.19.1)\n",
            "Requirement already satisfied: jsonschema in /usr/local/lib/python3.12/dist-packages (from ray<3,>=2.10.0->modin[ray]) (4.25.1)\n",
            "Requirement already satisfied: msgpack<2.0.0,>=1.0.0 in /usr/local/lib/python3.12/dist-packages (from ray<3,>=2.10.0->modin[ray]) (1.1.1)\n",
            "Requirement already satisfied: protobuf>=3.20.3 in /usr/local/lib/python3.12/dist-packages (from ray<3,>=2.10.0->modin[ray]) (5.29.5)\n",
            "Requirement already satisfied: pyyaml in /usr/local/lib/python3.12/dist-packages (from ray<3,>=2.10.0->modin[ray]) (6.0.3)\n",
            "Requirement already satisfied: requests in /usr/local/lib/python3.12/dist-packages (from ray<3,>=2.10.0->modin[ray]) (2.32.4)\n",
            "Requirement already satisfied: six>=1.5 in /usr/local/lib/python3.12/dist-packages (from python-dateutil>=2.8.2->pandas<2.4,>=2.2->modin[ray]) (1.17.0)\n",
            "Requirement already satisfied: attrs>=22.2.0 in /usr/local/lib/python3.12/dist-packages (from jsonschema->ray<3,>=2.10.0->modin[ray]) (25.3.0)\n",
            "Requirement already satisfied: jsonschema-specifications>=2023.03.6 in /usr/local/lib/python3.12/dist-packages (from jsonschema->ray<3,>=2.10.0->modin[ray]) (2025.9.1)\n",
            "Requirement already satisfied: referencing>=0.28.4 in /usr/local/lib/python3.12/dist-packages (from jsonschema->ray<3,>=2.10.0->modin[ray]) (0.36.2)\n",
            "Requirement already satisfied: rpds-py>=0.7.1 in /usr/local/lib/python3.12/dist-packages (from jsonschema->ray<3,>=2.10.0->modin[ray]) (0.27.1)\n",
            "Requirement already satisfied: charset_normalizer<4,>=2 in /usr/local/lib/python3.12/dist-packages (from requests->ray<3,>=2.10.0->modin[ray]) (3.4.3)\n",
            "Requirement already satisfied: idna<4,>=2.5 in /usr/local/lib/python3.12/dist-packages (from requests->ray<3,>=2.10.0->modin[ray]) (3.10)\n",
            "Requirement already satisfied: urllib3<3,>=1.21.1 in /usr/local/lib/python3.12/dist-packages (from requests->ray<3,>=2.10.0->modin[ray]) (2.5.0)\n",
            "Requirement already satisfied: certifi>=2017.4.17 in /usr/local/lib/python3.12/dist-packages (from requests->ray<3,>=2.10.0->modin[ray]) (2025.8.3)\n",
            "Downloading ray-2.49.2-cp312-cp312-manylinux2014_x86_64.whl (70.1 MB)\n",
            "\u001b[2K   \u001b[90m━━━━━━━━━━━━━━━━━━━━━━━━━━━━━━━━━━━━━━━━\u001b[0m \u001b[32m70.1/70.1 MB\u001b[0m \u001b[31m9.5 MB/s\u001b[0m eta \u001b[36m0:00:00\u001b[0m\n",
            "\u001b[?25hDownloading modin-0.37.1-py3-none-any.whl (1.2 MB)\n",
            "\u001b[2K   \u001b[90m━━━━━━━━━━━━━━━━━━━━━━━━━━━━━━━━━━━━━━━━\u001b[0m \u001b[32m1.2/1.2 MB\u001b[0m \u001b[31m41.2 MB/s\u001b[0m eta \u001b[36m0:00:00\u001b[0m\n",
            "\u001b[?25hInstalling collected packages: modin, ray\n",
            "Successfully installed modin-0.37.1 ray-2.49.2\n"
          ]
        }
      ],
      "source": [
        "!pip install modin[ray]  # atau modin[dask]"
      ]
    },
    {
      "cell_type": "code",
      "source": [
        "import modin.pandas as pd\n",
        "from google.colab import drive\n",
        "drive.mount('/content/drive')"
      ],
      "metadata": {
        "colab": {
          "base_uri": "https://localhost:8080/"
        },
        "id": "T2Eo889Tbpri",
        "outputId": "7087819a-6a44-427c-bf36-ea149963f560"
      },
      "execution_count": 2,
      "outputs": [
        {
          "output_type": "stream",
          "name": "stdout",
          "text": [
            "Mounted at /content/drive\n"
          ]
        }
      ]
    },
    {
      "cell_type": "code",
      "source": [
        "path = \"/content/drive/MyDrive/dataset/data transform.parquet\"\n",
        "df = pd.read_parquet(path)"
      ],
      "metadata": {
        "colab": {
          "base_uri": "https://localhost:8080/"
        },
        "id": "iYuc6M23bs9x",
        "outputId": "57f66fe0-97a8-467f-e91e-500b9cbebe0d"
      },
      "execution_count": 3,
      "outputs": [
        {
          "output_type": "stream",
          "name": "stderr",
          "text": [
            "UserWarning: The size of /dev/shm is too small (6133121024 bytes). The required size at least half of RAM (6802823168 bytes). Please, delete files in /dev/shm or increase size of /dev/shm with --shm-size in Docker. Also, you can can override the memory size for each Ray worker (in bytes) to the MODIN_MEMORY environment variable.\n",
            "2025-10-04 16:01:16,898\tINFO worker.py:1951 -- Started a local Ray instance.\n"
          ]
        }
      ]
    },
    {
      "cell_type": "code",
      "source": [
        "print(df.head(5))"
      ],
      "metadata": {
        "colab": {
          "base_uri": "https://localhost:8080/"
        },
        "id": "oivo_Q32fFb9",
        "outputId": "9779e816-91f9-48f0-9093-00d25b96a754"
      },
      "execution_count": 4,
      "outputs": [
        {
          "output_type": "stream",
          "name": "stdout",
          "text": [
            "                  date                                               text  \\\n",
            "0  2018-07-07 22:09:11  If you decide to eat here, just be aware it is...   \n",
            "1  2014-02-05 20:30:30  Family diner. Had the buffet. Eclectic assortm...   \n",
            "2  2015-01-04 00:01:03  Wow!  Yummy, different,  delicious.   Our favo...   \n",
            "3  2017-01-14 20:54:15  Cute interior and owner (?) gave us tour of up...   \n",
            "4  2015-09-23 23:10:31  I am a long term frequent customer of this est...   \n",
            "\n",
            "           city state  review_stars  sentiment sentiment_label  \n",
            "0   North Wales    PA           3.0          1         Neutral  \n",
            "1        Tucson    AZ           3.0          1         Neutral  \n",
            "2  Philadelphia    PA           5.0          2        Positive  \n",
            "3   New Orleans    LA           4.0          2        Positive  \n",
            "4  Philadelphia    PA           1.0          0        Negative  \n"
          ]
        }
      ]
    },
    {
      "cell_type": "code",
      "source": [
        "sentiment_counts = df[\"sentiment_label\"].value_counts().reset_index()\n",
        "sentiment_counts.columns = [\"Sentiment\", \"Count\"]\n",
        "print(sentiment_counts)"
      ],
      "metadata": {
        "colab": {
          "base_uri": "https://localhost:8080/"
        },
        "id": "UnLY1ZUNgkku",
        "outputId": "6415e38b-a7fc-4ac8-b695-64892857db82"
      },
      "execution_count": 5,
      "outputs": [
        {
          "output_type": "stream",
          "name": "stderr",
          "text": [
            "UserWarning: `df.groupby(categorical_by, sort=False)` implementation has mismatches with pandas:\n",
            "the groupby keys will be sorted anyway, although the 'sort=False' was passed. See the following issue for more details: https://github.com/modin-project/modin/issues/3571.\n"
          ]
        },
        {
          "output_type": "stream",
          "name": "stdout",
          "text": [
            "  Sentiment    Count\n",
            "0  Positive  3209836\n",
            "1  Negative   971722\n",
            "2   Neutral   543126\n"
          ]
        }
      ]
    },
    {
      "cell_type": "code",
      "source": [
        "import matplotlib.pyplot as plt\n",
        "\n",
        "counts = df[\"sentiment_label\"].value_counts()\n",
        "\n",
        "plt.figure(figsize=(6,6))\n",
        "plt.pie(counts, labels=counts.index, autopct=\"%1.1f%%\", startangle=140)\n",
        "plt.title(\"Distribusi Sentimen\")\n",
        "plt.show()"
      ],
      "metadata": {
        "colab": {
          "base_uri": "https://localhost:8080/",
          "height": 521
        },
        "id": "0qaPQh_-gvaP",
        "outputId": "19a8044c-5563-4054-e47e-98c7dbcd9aba"
      },
      "execution_count": 6,
      "outputs": [
        {
          "output_type": "display_data",
          "data": {
            "text/plain": [
              "<Figure size 600x600 with 1 Axes>"
            ],
            "image/png": "[encoded data removed]"
          },
          "metadata": {}
        }
      ]
    },
    {
      "cell_type": "code",
      "source": [],
      "metadata": {
        "id": "APVE7GcC80hL"
      },
      "execution_count": 12,
      "outputs": []
    },
    {
      "cell_type": "code",
      "source": [],
      "metadata": {
        "id": "qR9HNCxhC1we"
      },
      "execution_count": 12,
      "outputs": []
    }
  ]
}