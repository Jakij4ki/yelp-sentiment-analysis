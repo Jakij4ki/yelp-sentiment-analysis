{
  "cells": [
    {
      "cell_type": "markdown",
      "source": [
        "##DATA TRANSFORMATION"
      ],
      "metadata": {
        "id": "oPUwkdWliaEJ"
      },
      "id": "oPUwkdWliaEJ"
    },
    {
      "cell_type": "code",
      "execution_count": 1,
      "id": "f47c0759",
      "metadata": {
        "id": "f47c0759"
      },
      "outputs": [],
      "source": [
        "from pyspark.sql import SparkSession, DataFrame, Window, functions as F\n",
        "from pyspark.sql.functions import when, col, lower, regexp_replace\n",
        "from google.colab import drive"
      ]
    },
    {
      "cell_type": "markdown",
      "source": [
        "**PEMBUATAN SESI SPARK**"
      ],
      "metadata": {
        "id": "cq2qf4vsiop_"
      },
      "id": "cq2qf4vsiop_"
    },
    {
      "cell_type": "code",
      "execution_count": 4,
      "id": "578a9fde",
      "metadata": {
        "id": "578a9fde"
      },
      "outputs": [],
      "source": [
        "spark = SparkSession.builder.appName('yelp review').getOrCreate()"
      ]
    },
    {
      "cell_type": "markdown",
      "source": [
        "cells ini berfungsi sebagai titik awal untuk menggunakan semua fitur Spark seperti membaca data dan melakukan transformasi."
      ],
      "metadata": {
        "id": "xB6jRH_dKkq2"
      },
      "id": "xB6jRH_dKkq2"
    },
    {
      "cell_type": "code",
      "source": [
        "drive.mount('/content/drive')"
      ],
      "metadata": {
        "colab": {
          "base_uri": "https://localhost:8080/"
        },
        "id": "RALNf0Y8l0mB",
        "outputId": "3f6979be-2a22-4867-bd48-1a135527ebc1"
      },
      "id": "RALNf0Y8l0mB",
      "execution_count": 3,
      "outputs": [
        {
          "output_type": "stream",
          "name": "stdout",
          "text": [
            "Mounted at /content/drive\n"
          ]
        }
      ]
    },
    {
      "cell_type": "markdown",
      "source": [
        "**LOADING DATASET**"
      ],
      "metadata": {
        "id": "BUNFsyAXjWRm"
      },
      "id": "BUNFsyAXjWRm"
    },
    {
      "cell_type": "code",
      "execution_count": null,
      "id": "b0f35b5d",
      "metadata": {
        "id": "b0f35b5d"
      },
      "outputs": [],
      "source": [
        "df_review = spark.read.json('drive/MyDrive/Yelp_review/Yelp-Extracted/yelp_academic_dataset_review.json')"
      ]
    },
    {
      "cell_type": "code",
      "execution_count": null,
      "id": "c0b4260a",
      "metadata": {
        "id": "c0b4260a"
      },
      "outputs": [],
      "source": [
        "df_business = spark.read.json('drive/MyDrive/Yelp_review/Yelp-Extracted/yelp_academic_dataset_business.json')"
      ]
    },
    {
      "cell_type": "code",
      "execution_count": null,
      "id": "a25c26d9",
      "metadata": {
        "id": "a25c26d9"
      },
      "outputs": [],
      "source": [
        "df_checkin = spark.read.json('drive/MyDrive/Yelp_review/Yelp-Extracted/yelp_academic_dataset_checkin.json')"
      ]
    },
    {
      "cell_type": "code",
      "execution_count": null,
      "id": "89d23f9e",
      "metadata": {
        "id": "89d23f9e"
      },
      "outputs": [],
      "source": [
        "df_tip = spark.read.json('drive/MyDrive/Yelp_review/Yelp-Extracted/yelp_academic_dataset_tip.json')"
      ]
    },
    {
      "cell_type": "code",
      "execution_count": null,
      "id": "b037b113",
      "metadata": {
        "id": "b037b113"
      },
      "outputs": [],
      "source": [
        "df_user = spark.read.json('drive/MyDrive/Yelp_review/Yelp-Extracted/yelp_academic_dataset_user.json')"
      ]
    },
    {
      "cell_type": "markdown",
      "source": [
        "**PENUNJUKAN DATASET**"
      ],
      "metadata": {
        "id": "EaeCdv5621mj"
      },
      "id": "EaeCdv5621mj"
    },
    {
      "cell_type": "code",
      "execution_count": null,
      "id": "2216d8a8",
      "metadata": {
        "colab": {
          "base_uri": "https://localhost:8080/"
        },
        "id": "2216d8a8",
        "outputId": "f0651445-ebbf-4b21-a240-8eb0081b0d65",
        "collapsed": true
      },
      "outputs": [
        {
          "output_type": "stream",
          "name": "stdout",
          "text": [
            "+--------------------+----+-------------------+-----+--------------------+-----+--------------------+------+--------------------+\n",
            "|         business_id|cool|               date|funny|           review_id|stars|                text|useful|             user_id|\n",
            "+--------------------+----+-------------------+-----+--------------------+-----+--------------------+------+--------------------+\n",
            "|XQfwVwDr-v0ZS3_Cb...|   0|2018-07-07 22:09:11|    0|KU_O5udG6zpxOg-Vc...|  3.0|If you decide to ...|     0|mh_-eMZ6K5RLWhZyI...|\n",
            "|7ATYjTIgM3jUlt4UM...|   1|2012-01-03 15:28:18|    0|BiTunyQ73aT9WBnpR...|  5.0|I've taken a lot ...|     1|OyoGAe7OKpv6SyGZT...|\n",
            "|YjUWPpI6HXG530lwP...|   0|2014-02-05 20:30:30|    0|saUsX_uimxRlCVr67...|  3.0|Family diner. Had...|     0|8g_iMtfSiwikVnbP2...|\n",
            "|kxX2SOes4o-D3ZQBk...|   1|2015-01-04 00:01:03|    0|AqPFMleE6RsU23_au...|  5.0|Wow!  Yummy, diff...|     1|_7bHUi9Uuf5__HHc_...|\n",
            "|e4Vwtrqf-wpJfwesg...|   1|2017-01-14 20:54:15|    0|Sx8TMOWLNuJBWer-0...|  4.0|Cute interior and...|     1|bcjbaE6dDog4jkNY9...|\n",
            "+--------------------+----+-------------------+-----+--------------------+-----+--------------------+------+--------------------+\n",
            "only showing top 5 rows\n",
            "\n",
            "+--------------------+--------------------+--------------------+--------------------+-------------+--------------------+-------+----------+------------+--------------------+-----------+------------+-----+-----+\n",
            "|             address|          attributes|         business_id|          categories|         city|               hours|is_open|  latitude|   longitude|                name|postal_code|review_count|stars|state|\n",
            "+--------------------+--------------------+--------------------+--------------------+-------------+--------------------+-------+----------+------------+--------------------+-----------+------------+-----+-----+\n",
            "|1616 Chapala St, ...|{NULL, NULL, NULL...|Pns2l4eNsfO8kk83d...|Doctors, Traditio...|Santa Barbara|                NULL|      0|34.4266787|-119.7111968|Abby Rappoport, L...|      93101|           7|  5.0|   CA|\n",
            "|87 Grasso Plaza S...|{NULL, NULL, NULL...|mpf3x-BjTdTEA3yCZ...|Shipping Centers,...|       Affton|{8:0-18:30, 0:0-0...|      1| 38.551126|  -90.335695|       The UPS Store|      63123|          15|  3.0|   MO|\n",
            "|5255 E Broadway Blvd|{NULL, NULL, NULL...|tUFrWirKiKi_TAnsV...|Department Stores...|       Tucson|{8:0-23:0, 8:0-22...|      0| 32.223236| -110.880452|              Target|      85711|          22|  3.5|   AZ|\n",
            "|         935 Race St|{NULL, NULL, u'no...|MTSW4McQd7CbVtyjq...|Restaurants, Food...| Philadelphia|{7:0-21:0, 7:0-20...|      1|39.9555052| -75.1555641|  St Honore Pastries|      19107|          80|  4.0|   PA|\n",
            "|       101 Walnut St|{NULL, NULL, NULL...|mWMc6_wTdE0EUBKIG...|Brewpubs, Breweri...|   Green Lane|{12:0-22:0, NULL,...|      1|40.3381827| -75.4716585|Perkiomen Valley ...|      18054|          13|  4.5|   PA|\n",
            "+--------------------+--------------------+--------------------+--------------------+-------------+--------------------+-------+----------+------------+--------------------+-----------+------------+-----+-----+\n",
            "only showing top 5 rows\n",
            "\n",
            "+--------------------+--------------------+\n",
            "|         business_id|                date|\n",
            "+--------------------+--------------------+\n",
            "|---kPU91CF4Lq2-Wl...|2020-03-13 21:10:...|\n",
            "|--0iUa4sNDFiZFrAd...|2010-09-13 21:43:...|\n",
            "|--30_8IhuyMHbSOcN...|2013-06-14 23:29:...|\n",
            "|--7PUidqRWpRSpXeb...|2011-02-15 17:12:...|\n",
            "|--7jw19RH9JKXgFoh...|2014-04-21 20:42:...|\n",
            "+--------------------+--------------------+\n",
            "only showing top 5 rows\n",
            "\n",
            "+--------------------+----------------+-------------------+--------------------+--------------------+\n",
            "|         business_id|compliment_count|               date|                text|             user_id|\n",
            "+--------------------+----------------+-------------------+--------------------+--------------------+\n",
            "|3uLgwr0qeCNMjKenH...|               0|2012-05-18 02:17:21|Avengers time wit...|AGNUgVwnZUey3gcPC...|\n",
            "|QoezRbYQncpRqyrLH...|               0|2013-02-05 18:35:10|They have lots of...|NBN4MgHP9D3cw--Sn...|\n",
            "|MYoRNLb5chwjQe3c_...|               0|2013-08-18 00:56:08|It's open even wh...|-copOvldyKh1qr-vz...|\n",
            "|hV-bABTK-glh5wj31...|               0|2017-06-27 23:05:38|Very decent fried...|FjMQVZjSqY8syIO-5...|\n",
            "|_uN0OudeJ3Zl_tf6n...|               0|2012-10-06 19:43:09|Appetizers.. plat...|ld0AperBXk1h6Ubqm...|\n",
            "+--------------------+----------------+-------------------+--------------------+--------------------+\n",
            "only showing top 5 rows\n",
            "\n",
            "+-------------+---------------+---------------+----------------+--------------+---------------+---------------+---------------+-----------------+----------------+------------------+-----------------+-----+--------------------+----+--------------------+-----+------+------------+------+--------------------+-------------------+\n",
            "|average_stars|compliment_cool|compliment_cute|compliment_funny|compliment_hot|compliment_list|compliment_more|compliment_note|compliment_photos|compliment_plain|compliment_profile|compliment_writer| cool|               elite|fans|             friends|funny|  name|review_count|useful|             user_id|      yelping_since|\n",
            "+-------------+---------------+---------------+----------------+--------------+---------------+---------------+---------------+-----------------+----------------+------------------+-----------------+-----+--------------------+----+--------------------+-----+------+------------+------+--------------------+-------------------+\n",
            "|         3.91|            467|             56|             467|           250|             18|             65|            232|              180|             844|                55|              239| 5994|                2007| 267|NSCy54eWehBJyZdG2...| 1259|Walker|         585|  7217|qVc8ODYU5SZjKXVBg...|2007-01-25 16:47:26|\n",
            "|         3.74|           3131|            157|            3131|          1145|            251|            264|           1847|             1946|            7054|               184|             1521|27281|2009,2010,2011,20...|3138|ueRPE0CX75ePGMqOF...|13066|Daniel|        4333| 43091|j14WgRoU_-2ZE1aw1...|2009-01-25 04:35:42|\n",
            "|         3.32|            119|             17|             119|            89|              3|             13|             66|               18|              96|                10|               35| 1003|2009,2010,2011,20...|  52|LuO3Bn4f3rlhyHIaN...| 1010| Steph|         665|  2086|2WnXYQFK0hXEoTxPt...|2008-07-25 10:41:00|\n",
            "|         4.27|             26|              6|              26|            24|              2|              4|             12|                9|              16|                 1|               10|  299|      2009,2010,2011|  28|enx1vVPnfdNUdPho6...|  330|  Gwen|         224|   512|SZDeASXq7o05mMNLs...|2005-11-29 04:38:33|\n",
            "|         3.54|              0|              0|               0|             1|              0|              1|              1|                0|               1|                 0|                0|    7|                    |   1|PBK4q9KEEBHhFvSXC...|   15| Karen|          79|    29|hA5lMy-EnncsH4JoR...|2007-01-05 19:40:59|\n",
            "+-------------+---------------+---------------+----------------+--------------+---------------+---------------+---------------+-----------------+----------------+------------------+-----------------+-----+--------------------+----+--------------------+-----+------+------------+------+--------------------+-------------------+\n",
            "only showing top 5 rows\n",
            "\n"
          ]
        }
      ],
      "source": [
        "df_review.show(5)\n",
        "df_business.show(5)\n",
        "df_checkin.show(5)\n",
        "df_tip.show(5)\n",
        "df_user.show(5)"
      ]
    },
    {
      "cell_type": "code",
      "execution_count": null,
      "id": "71ed738e",
      "metadata": {
        "colab": {
          "base_uri": "https://localhost:8080/"
        },
        "id": "71ed738e",
        "outputId": "38802d87-9866-46d0-cb07-e2d2188559f7",
        "collapsed": true
      },
      "outputs": [
        {
          "output_type": "stream",
          "name": "stdout",
          "text": [
            "root\n",
            " |-- business_id: string (nullable = true)\n",
            " |-- cool: long (nullable = true)\n",
            " |-- date: string (nullable = true)\n",
            " |-- funny: long (nullable = true)\n",
            " |-- review_id: string (nullable = true)\n",
            " |-- stars: double (nullable = true)\n",
            " |-- text: string (nullable = true)\n",
            " |-- useful: long (nullable = true)\n",
            " |-- user_id: string (nullable = true)\n",
            "\n",
            "root\n",
            " |-- address: string (nullable = true)\n",
            " |-- attributes: struct (nullable = true)\n",
            " |    |-- AcceptsInsurance: string (nullable = true)\n",
            " |    |-- AgesAllowed: string (nullable = true)\n",
            " |    |-- Alcohol: string (nullable = true)\n",
            " |    |-- Ambience: string (nullable = true)\n",
            " |    |-- BYOB: string (nullable = true)\n",
            " |    |-- BYOBCorkage: string (nullable = true)\n",
            " |    |-- BestNights: string (nullable = true)\n",
            " |    |-- BikeParking: string (nullable = true)\n",
            " |    |-- BusinessAcceptsBitcoin: string (nullable = true)\n",
            " |    |-- BusinessAcceptsCreditCards: string (nullable = true)\n",
            " |    |-- BusinessParking: string (nullable = true)\n",
            " |    |-- ByAppointmentOnly: string (nullable = true)\n",
            " |    |-- Caters: string (nullable = true)\n",
            " |    |-- CoatCheck: string (nullable = true)\n",
            " |    |-- Corkage: string (nullable = true)\n",
            " |    |-- DietaryRestrictions: string (nullable = true)\n",
            " |    |-- DogsAllowed: string (nullable = true)\n",
            " |    |-- DriveThru: string (nullable = true)\n",
            " |    |-- GoodForDancing: string (nullable = true)\n",
            " |    |-- GoodForKids: string (nullable = true)\n",
            " |    |-- GoodForMeal: string (nullable = true)\n",
            " |    |-- HairSpecializesIn: string (nullable = true)\n",
            " |    |-- HappyHour: string (nullable = true)\n",
            " |    |-- HasTV: string (nullable = true)\n",
            " |    |-- Music: string (nullable = true)\n",
            " |    |-- NoiseLevel: string (nullable = true)\n",
            " |    |-- Open24Hours: string (nullable = true)\n",
            " |    |-- OutdoorSeating: string (nullable = true)\n",
            " |    |-- RestaurantsAttire: string (nullable = true)\n",
            " |    |-- RestaurantsCounterService: string (nullable = true)\n",
            " |    |-- RestaurantsDelivery: string (nullable = true)\n",
            " |    |-- RestaurantsGoodForGroups: string (nullable = true)\n",
            " |    |-- RestaurantsPriceRange2: string (nullable = true)\n",
            " |    |-- RestaurantsReservations: string (nullable = true)\n",
            " |    |-- RestaurantsTableService: string (nullable = true)\n",
            " |    |-- RestaurantsTakeOut: string (nullable = true)\n",
            " |    |-- Smoking: string (nullable = true)\n",
            " |    |-- WheelchairAccessible: string (nullable = true)\n",
            " |    |-- WiFi: string (nullable = true)\n",
            " |-- business_id: string (nullable = true)\n",
            " |-- categories: string (nullable = true)\n",
            " |-- city: string (nullable = true)\n",
            " |-- hours: struct (nullable = true)\n",
            " |    |-- Friday: string (nullable = true)\n",
            " |    |-- Monday: string (nullable = true)\n",
            " |    |-- Saturday: string (nullable = true)\n",
            " |    |-- Sunday: string (nullable = true)\n",
            " |    |-- Thursday: string (nullable = true)\n",
            " |    |-- Tuesday: string (nullable = true)\n",
            " |    |-- Wednesday: string (nullable = true)\n",
            " |-- is_open: long (nullable = true)\n",
            " |-- latitude: double (nullable = true)\n",
            " |-- longitude: double (nullable = true)\n",
            " |-- name: string (nullable = true)\n",
            " |-- postal_code: string (nullable = true)\n",
            " |-- review_count: long (nullable = true)\n",
            " |-- stars: double (nullable = true)\n",
            " |-- state: string (nullable = true)\n",
            "\n",
            "root\n",
            " |-- business_id: string (nullable = true)\n",
            " |-- date: string (nullable = true)\n",
            "\n",
            "root\n",
            " |-- business_id: string (nullable = true)\n",
            " |-- compliment_count: long (nullable = true)\n",
            " |-- date: string (nullable = true)\n",
            " |-- text: string (nullable = true)\n",
            " |-- user_id: string (nullable = true)\n",
            "\n",
            "root\n",
            " |-- average_stars: double (nullable = true)\n",
            " |-- compliment_cool: long (nullable = true)\n",
            " |-- compliment_cute: long (nullable = true)\n",
            " |-- compliment_funny: long (nullable = true)\n",
            " |-- compliment_hot: long (nullable = true)\n",
            " |-- compliment_list: long (nullable = true)\n",
            " |-- compliment_more: long (nullable = true)\n",
            " |-- compliment_note: long (nullable = true)\n",
            " |-- compliment_photos: long (nullable = true)\n",
            " |-- compliment_plain: long (nullable = true)\n",
            " |-- compliment_profile: long (nullable = true)\n",
            " |-- compliment_writer: long (nullable = true)\n",
            " |-- cool: long (nullable = true)\n",
            " |-- elite: string (nullable = true)\n",
            " |-- fans: long (nullable = true)\n",
            " |-- friends: string (nullable = true)\n",
            " |-- funny: long (nullable = true)\n",
            " |-- name: string (nullable = true)\n",
            " |-- review_count: long (nullable = true)\n",
            " |-- useful: long (nullable = true)\n",
            " |-- user_id: string (nullable = true)\n",
            " |-- yelping_since: string (nullable = true)\n",
            "\n"
          ]
        }
      ],
      "source": [
        "df_review.printSchema()\n",
        "df_business.printSchema()\n",
        "df_checkin.printSchema()\n",
        "df_tip.printSchema()\n",
        "df_user.printSchema()"
      ]
    },
    {
      "cell_type": "markdown",
      "source": [
        "##TRANSFORMATION DATASET"
      ],
      "metadata": {
        "id": "YX7p-Pn1K8jB"
      },
      "id": "YX7p-Pn1K8jB"
    },
    {
      "cell_type": "code",
      "source": [
        "# Join reviews with businesses\n",
        "df_join = df_review.join(df_business, on=\"business_id\", how=\"left\")\n",
        "\n",
        "# Join with users\n",
        "df_join = df_join.join(df_user, on=\"user_id\", how=\"left\")\n",
        "\n",
        "# Join with checkins\n",
        "df_join = df_join.join(df_checkin, on=\"business_id\", how=\"left\")\n",
        "\n",
        "# Join with tips\n",
        "df_join = df_join.join(df_tip, on=[\"business_id\", \"user_id\"], how=\"left\")\n",
        "\n",
        "df_join.printSchema()"
      ],
      "metadata": {
        "colab": {
          "base_uri": "https://localhost:8080/"
        },
        "collapsed": true,
        "id": "PjfmBzoFNInH",
        "outputId": "7b86e242-1c02-4758-e6e6-820678dca48b"
      },
      "id": "PjfmBzoFNInH",
      "execution_count": null,
      "outputs": [
        {
          "output_type": "stream",
          "name": "stdout",
          "text": [
            "root\n",
            " |-- business_id: string (nullable = true)\n",
            " |-- user_id: string (nullable = true)\n",
            " |-- cool: long (nullable = true)\n",
            " |-- date: string (nullable = true)\n",
            " |-- funny: long (nullable = true)\n",
            " |-- review_id: string (nullable = true)\n",
            " |-- stars: double (nullable = true)\n",
            " |-- text: string (nullable = true)\n",
            " |-- useful: long (nullable = true)\n",
            " |-- address: string (nullable = true)\n",
            " |-- attributes: struct (nullable = true)\n",
            " |    |-- AcceptsInsurance: string (nullable = true)\n",
            " |    |-- AgesAllowed: string (nullable = true)\n",
            " |    |-- Alcohol: string (nullable = true)\n",
            " |    |-- Ambience: string (nullable = true)\n",
            " |    |-- BYOB: string (nullable = true)\n",
            " |    |-- BYOBCorkage: string (nullable = true)\n",
            " |    |-- BestNights: string (nullable = true)\n",
            " |    |-- BikeParking: string (nullable = true)\n",
            " |    |-- BusinessAcceptsBitcoin: string (nullable = true)\n",
            " |    |-- BusinessAcceptsCreditCards: string (nullable = true)\n",
            " |    |-- BusinessParking: string (nullable = true)\n",
            " |    |-- ByAppointmentOnly: string (nullable = true)\n",
            " |    |-- Caters: string (nullable = true)\n",
            " |    |-- CoatCheck: string (nullable = true)\n",
            " |    |-- Corkage: string (nullable = true)\n",
            " |    |-- DietaryRestrictions: string (nullable = true)\n",
            " |    |-- DogsAllowed: string (nullable = true)\n",
            " |    |-- DriveThru: string (nullable = true)\n",
            " |    |-- GoodForDancing: string (nullable = true)\n",
            " |    |-- GoodForKids: string (nullable = true)\n",
            " |    |-- GoodForMeal: string (nullable = true)\n",
            " |    |-- HairSpecializesIn: string (nullable = true)\n",
            " |    |-- HappyHour: string (nullable = true)\n",
            " |    |-- HasTV: string (nullable = true)\n",
            " |    |-- Music: string (nullable = true)\n",
            " |    |-- NoiseLevel: string (nullable = true)\n",
            " |    |-- Open24Hours: string (nullable = true)\n",
            " |    |-- OutdoorSeating: string (nullable = true)\n",
            " |    |-- RestaurantsAttire: string (nullable = true)\n",
            " |    |-- RestaurantsCounterService: string (nullable = true)\n",
            " |    |-- RestaurantsDelivery: string (nullable = true)\n",
            " |    |-- RestaurantsGoodForGroups: string (nullable = true)\n",
            " |    |-- RestaurantsPriceRange2: string (nullable = true)\n",
            " |    |-- RestaurantsReservations: string (nullable = true)\n",
            " |    |-- RestaurantsTableService: string (nullable = true)\n",
            " |    |-- RestaurantsTakeOut: string (nullable = true)\n",
            " |    |-- Smoking: string (nullable = true)\n",
            " |    |-- WheelchairAccessible: string (nullable = true)\n",
            " |    |-- WiFi: string (nullable = true)\n",
            " |-- categories: string (nullable = true)\n",
            " |-- city: string (nullable = true)\n",
            " |-- hours: struct (nullable = true)\n",
            " |    |-- Friday: string (nullable = true)\n",
            " |    |-- Monday: string (nullable = true)\n",
            " |    |-- Saturday: string (nullable = true)\n",
            " |    |-- Sunday: string (nullable = true)\n",
            " |    |-- Thursday: string (nullable = true)\n",
            " |    |-- Tuesday: string (nullable = true)\n",
            " |    |-- Wednesday: string (nullable = true)\n",
            " |-- is_open: long (nullable = true)\n",
            " |-- latitude: double (nullable = true)\n",
            " |-- longitude: double (nullable = true)\n",
            " |-- name: string (nullable = true)\n",
            " |-- postal_code: string (nullable = true)\n",
            " |-- review_count: long (nullable = true)\n",
            " |-- stars: double (nullable = true)\n",
            " |-- state: string (nullable = true)\n",
            " |-- average_stars: double (nullable = true)\n",
            " |-- compliment_cool: long (nullable = true)\n",
            " |-- compliment_cute: long (nullable = true)\n",
            " |-- compliment_funny: long (nullable = true)\n",
            " |-- compliment_hot: long (nullable = true)\n",
            " |-- compliment_list: long (nullable = true)\n",
            " |-- compliment_more: long (nullable = true)\n",
            " |-- compliment_note: long (nullable = true)\n",
            " |-- compliment_photos: long (nullable = true)\n",
            " |-- compliment_plain: long (nullable = true)\n",
            " |-- compliment_profile: long (nullable = true)\n",
            " |-- compliment_writer: long (nullable = true)\n",
            " |-- cool: long (nullable = true)\n",
            " |-- elite: string (nullable = true)\n",
            " |-- fans: long (nullable = true)\n",
            " |-- friends: string (nullable = true)\n",
            " |-- funny: long (nullable = true)\n",
            " |-- name: string (nullable = true)\n",
            " |-- review_count: long (nullable = true)\n",
            " |-- useful: long (nullable = true)\n",
            " |-- yelping_since: string (nullable = true)\n",
            " |-- date: string (nullable = true)\n",
            " |-- compliment_count: long (nullable = true)\n",
            " |-- date: string (nullable = true)\n",
            " |-- text: string (nullable = true)\n",
            "\n"
          ]
        }
      ]
    },
    {
      "cell_type": "markdown",
      "source": [
        "cells ini menggabungkan beberapa dataset dari review, bisnis, user, check-in, dan tip, menggunakan left join berdasarkan ID yang sama. Hasilnya adalah satu DataFrame lengkap yang berisi semua informasi terkait."
      ],
      "metadata": {
        "id": "wPJ7LeKBLBIs"
      },
      "id": "wPJ7LeKBLBIs"
    },
    {
      "cell_type": "code",
      "source": [
        "df_join.show(5)"
      ],
      "metadata": {
        "colab": {
          "base_uri": "https://localhost:8080/"
        },
        "id": "yeQiI6hDXxl_",
        "outputId": "038cbcf9-0257-4ab3-ff89-346bd0c6cf14"
      },
      "id": "yeQiI6hDXxl_",
      "execution_count": null,
      "outputs": [
        {
          "output_type": "stream",
          "name": "stdout",
          "text": [
            "+--------------------+--------------------+----+-------------------+-----+--------------------+-----+--------------------+------+--------------------+--------------------+--------------------+------------+--------------------+-------+----------+-----------+--------------------+-----------+------------+-----+-----+-------------+---------------+---------------+----------------+--------------+---------------+---------------+---------------+-----------------+----------------+------------------+-----------------+------+--------------------+----+--------------------+------+-------+------------+------+-------------------+--------------------+----------------+----+----+\n",
            "|         business_id|             user_id|cool|               date|funny|           review_id|stars|                text|useful|             address|          attributes|          categories|        city|               hours|is_open|  latitude|  longitude|                name|postal_code|review_count|stars|state|average_stars|compliment_cool|compliment_cute|compliment_funny|compliment_hot|compliment_list|compliment_more|compliment_note|compliment_photos|compliment_plain|compliment_profile|compliment_writer|  cool|               elite|fans|             friends| funny|   name|review_count|useful|      yelping_since|                date|compliment_count|date|text|\n",
            "+--------------------+--------------------+----+-------------------+-----+--------------------+-----+--------------------+------+--------------------+--------------------+--------------------+------------+--------------------+-------+----------+-----------+--------------------+-----------+------------+-----+-----+-------------+---------------+---------------+----------------+--------------+---------------+---------------+---------------+-----------------+----------------+------------------+-----------------+------+--------------------+----+--------------------+------+-------+------------+------+-------------------+--------------------+----------------+----+----+\n",
            "|-99CauTgdResVER5N...|Ird9MT5P8ifqEKeJp...|   0|2014-07-26 00:35:21|    0|ZKAD5_Z56GhTxK4rf...|  3.0|Some of the drive...|     0|    7940 Michigan Rd|{NULL, NULL, u'no...|Pizza, Chicken Wi...|Indianapolis|{10:30-1:0, 10:30...|      1|39.8978377|-86.2172076|      Domino's Pizza|      46268|          32|  1.5|   IN|         3.11|              0|              0|               0|             0|              0|              0|              0|                0|               0|                 0|                0|     0|                    |   0|OsWTm2KNm-7BrwQwp...|     1|   Debi|           6|     4|2013-09-16 12:33:58|2012-05-30 15:36:...|            NULL|NULL|NULL|\n",
            "|-AxGGm4yvhedkmN1g...|B0vJtiBvhs-ulfLER...|   0|2016-02-29 00:09:50|    0|sL29eWWhV68YZTm2n...|  3.0|Typical fast food...|     0| 150 Salem Church Rd|{NULL, NULL, u'no...|Chinese, Restaurants|      Newark|{11:0-22:30, 11:0...|      1|39.6677815|-75.6952625|        Ming Kitchen|      19713|          14|  2.5|   DE|          3.5|              0|              0|               0|             0|              0|              1|              0|                0|               0|                 0|                0|     1|                    |   0|hooSpRiSjG6p_75hW...|     1|  Amber|          10|     0|2016-01-10 23:00:50|2012-12-22 01:15:...|            NULL|NULL|NULL|\n",
            "|-e9MepGs8piOYdwuP...|z1hbssfhvQCKF1Yd4...|   1|2015-08-05 02:59:54|    0|HXp5PP4qS9R2MTsU0...|  5.0|Great, safe space...|     1|     2321 Arsenal St|{NULL, NULL, u'fu...|Music Venues, Ame...| Saint Louis|{17:0-1:0, NULL, ...|      0| 38.599064| -90.223947|Lilly's Music & S...|      63118|          15|  4.5|   MO|         3.38|              0|              0|               0|             0|              0|              0|              0|                0|               2|                 0|                0|     9|                    |   0|yyoBPpHCpuLDoLk6Z...|    11|Crystal|          34|    50|2010-06-18 17:18:42|2015-07-30 01:58:...|            NULL|NULL|NULL|\n",
            "|-3e3CP3FFc-rvJj_-...|--2vR0DIsmQ6WfcSz...| 102|2015-02-19 05:08:44|   95|m3QNG3Ni7--EsiFv3...|  4.0|Da uns der erste ...|   105|601 N Christopher...|{NULL, NULL, u'no...|Arts & Entertainm...|Philadelphia|                NULL|      1|39.9600237|-75.1371563|      Penn's Landing|      19106|          80|  3.5|   PA|         4.18|          23476|           1277|           23476|         12073|           1096|           2986|           4751|            28205|           24260|              3144|             8607|199878|2013,2014,2015,20...| 880|I0OmbiekW2dhHVczV...|173096| Harald|        1534|205765|2012-11-27 14:19:33|2010-07-02 23:27:...|            NULL|NULL|NULL|\n",
            "|-KNgMklrxgRX2-T6x...|fLRkVwyKb2qQpOSGR...|   0|2018-02-01 22:18:28|    0|NBn9UqKjChpvS-zS9...|  3.0|Love the pizza he...|     0|710 Stewarts Ferr...|{NULL, NULL, u'be...|Italian, Salad, R...|   Nashville|{11:0-22:0, 11:0-...|      1|36.1531169|-86.6261225|         Sal's Pizza|      37214|         150|  3.5|   TN|          4.6|              0|              0|               0|             0|              0|              0|              0|                0|               0|                 0|                0|     0|                    |   0|s1WDRms7FcXVSgSzh...|     0|    Dee|           5|     0|2012-03-06 23:29:17|2010-08-07 16:56:...|            NULL|NULL|NULL|\n",
            "+--------------------+--------------------+----+-------------------+-----+--------------------+-----+--------------------+------+--------------------+--------------------+--------------------+------------+--------------------+-------+----------+-----------+--------------------+-----------+------------+-----+-----+-------------+---------------+---------------+----------------+--------------+---------------+---------------+---------------+-----------------+----------------+------------------+-----------------+------+--------------------+----+--------------------+------+-------+------------+------+-------------------+--------------------+----------------+----+----+\n",
            "only showing top 5 rows\n",
            "\n"
          ]
        }
      ]
    },
    {
      "cell_type": "code",
      "source": [
        "df_join.count()"
      ],
      "metadata": {
        "colab": {
          "base_uri": "https://localhost:8080/"
        },
        "id": "DT0gWCUxPf6B",
        "outputId": "252117db-d197-4c16-c836-1dd73e2fbe19"
      },
      "id": "DT0gWCUxPf6B",
      "execution_count": null,
      "outputs": [
        {
          "output_type": "execute_result",
          "data": {
            "text/plain": [
              "7103760"
            ]
          },
          "metadata": {},
          "execution_count": 10
        }
      ]
    },
    {
      "cell_type": "code",
      "execution_count": null,
      "id": "28015e60",
      "metadata": {
        "colab": {
          "base_uri": "https://localhost:8080/"
        },
        "id": "28015e60",
        "outputId": "6a1b1a54-fff1-4f2a-8890-9f5486594775"
      },
      "outputs": [
        {
          "output_type": "execute_result",
          "data": {
            "text/plain": [
              "150346"
            ]
          },
          "metadata": {},
          "execution_count": 12
        }
      ],
      "source": [
        "df_business.count()"
      ]
    },
    {
      "cell_type": "code",
      "execution_count": null,
      "id": "7f767216",
      "metadata": {
        "colab": {
          "base_uri": "https://localhost:8080/"
        },
        "id": "7f767216",
        "outputId": "1ae7a2f6-990e-4267-b866-70aa37a421be"
      },
      "outputs": [
        {
          "output_type": "execute_result",
          "data": {
            "text/plain": [
              "6990280"
            ]
          },
          "metadata": {},
          "execution_count": 13
        }
      ],
      "source": [
        "df_review.count()"
      ]
    },
    {
      "cell_type": "code",
      "execution_count": null,
      "id": "7a62c6bc",
      "metadata": {
        "colab": {
          "base_uri": "https://localhost:8080/"
        },
        "id": "7a62c6bc",
        "outputId": "e6d795d2-8532-471a-b844-934f4feb9b80"
      },
      "outputs": [
        {
          "output_type": "stream",
          "name": "stdout",
          "text": [
            "+--------------------+--------------------+------------+--------------------+-----------------+---------------+--------------------+--------------+------------+-------+\n",
            "|           review_id|             user_id|review_stars|                text|             name|           city|          categories|business_stars|review_count|is_open|\n",
            "+--------------------+--------------------+------------+--------------------+-----------------+---------------+--------------------+--------------+------------+-------+\n",
            "|hoLKem4XpXGt_X4li...|415SXXbQrl2-VudHa...|         4.0|Ate here for the ...|Frankie's Raw Bar|New Port Richey|Seafood, Restaura...|           4.5|          24|      1|\n",
            "|gzXaxjjTnrJJuG_gq...|ey8tdgUgC2tFqw2df...|         5.0|Absolutely fantas...|Frankie's Raw Bar|New Port Richey|Seafood, Restaura...|           4.5|          24|      1|\n",
            "|cpyLQlML0idHzCsCi...|wNo_joX2evLhIYE4h...|         3.0|I was sadly disap...|Frankie's Raw Bar|New Port Richey|Seafood, Restaura...|           4.5|          24|      1|\n",
            "|9j7uG9sA5WU7yraCQ...|nRy6-tnPPeShNhZg9...|         5.0|Great new local s...|Frankie's Raw Bar|New Port Richey|Seafood, Restaura...|           4.5|          24|      1|\n",
            "|ROpgxHN-NOZ3zSFMZ...|V8oYXtc0hMuYzG5Hf...|         3.0|This is a food tr...|Frankie's Raw Bar|New Port Richey|Seafood, Restaura...|           4.5|          24|      1|\n",
            "|rljdEt4_jgsqOgG-7...|qrCkKrEwQ-q9m1iWS...|         5.0|Great place for g...|Frankie's Raw Bar|New Port Richey|Seafood, Restaura...|           4.5|          24|      1|\n",
            "|JnfAi8vz8lcN63lvf...|UmQDlaIjLiPBZ7M6U...|         5.0|Blown away how fu...|Frankie's Raw Bar|New Port Richey|Seafood, Restaura...|           4.5|          24|      1|\n",
            "|XawsDBeNXlT_rRivc...|5jlO2REcgB6GKFeSs...|         5.0|Never would have ...|Frankie's Raw Bar|New Port Richey|Seafood, Restaura...|           4.5|          24|      1|\n",
            "|7dFBRid1QdCCr2PNs...|w2SrX4cPZqykJ5P7U...|         5.0|Finale a local Fr...|Frankie's Raw Bar|New Port Richey|Seafood, Restaura...|           4.5|          24|      1|\n",
            "|38jzE6n8lbnvSM7p6...|7F5NSUrKYEPdrewd2...|         5.0|EVERYTHING we had...|Frankie's Raw Bar|New Port Richey|Seafood, Restaura...|           4.5|          24|      1|\n",
            "+--------------------+--------------------+------------+--------------------+-----------------+---------------+--------------------+--------------+------------+-------+\n",
            "only showing top 10 rows\n",
            "\n",
            "Joined row count: 6990280\n"
          ]
        }
      ],
      "source": [
        "df_review = df_review.withColumnRenamed(\"stars\", \"review_stars\")\n",
        "df_business = df_business.withColumnRenamed(\"stars\", \"business_stars\")\n",
        "\n",
        "joined_df = df_review.join(df_business, on=\"business_id\", how=\"inner\")\n",
        "\n",
        "joined_df.select(\n",
        "    \"review_id\",\n",
        "    \"user_id\",\n",
        "    \"review_stars\",\n",
        "    \"text\",\n",
        "    \"name\",\n",
        "    \"city\",\n",
        "    \"categories\",\n",
        "    \"business_stars\",\n",
        "    \"review_count\",\n",
        "    \"is_open\"\n",
        ").show(10, truncate=True)\n",
        "\n",
        "print(\"Joined row count:\", joined_df.count())"
      ]
    },
    {
      "cell_type": "markdown",
      "source": [
        "code cells ini mengganti nama kolom stars di dataset review dan bisnis agar tidak membingungkan, setelah itu dilakukan inner join berdasarkan business_id"
      ],
      "metadata": {
        "id": "sGKvF9ueLo6j"
      },
      "id": "sGKvF9ueLo6j"
    },
    {
      "cell_type": "code",
      "execution_count": null,
      "id": "81436777",
      "metadata": {
        "colab": {
          "base_uri": "https://localhost:8080/"
        },
        "id": "81436777",
        "outputId": "7372bf48-c589-404d-b255-4074366b58d0"
      },
      "outputs": [
        {
          "output_type": "stream",
          "name": "stdout",
          "text": [
            "+--------------------+--------------------+--------------+------------+--------------------+\n",
            "|          categories|                name|business_stars|review_stars|                text|\n",
            "+--------------------+--------------------+--------------+------------+--------------------+\n",
            "|Restaurants, Brea...|Turning Point of ...|           3.0|         3.0|If you decide to ...|\n",
            "|Active Life, Cycl...|Body Cycle Spinni...|           5.0|         5.0|I've taken a lot ...|\n",
            "|Restaurants, Brea...|   Kettle Restaurant|           3.5|         3.0|Family diner. Had...|\n",
            "|Halal, Pakistani,...|               Zaika|           4.0|         5.0|Wow!  Yummy, diff...|\n",
            "|Sandwiches, Beer,...|                Melt|           4.0|         4.0|Cute interior and...|\n",
            "+--------------------+--------------------+--------------+------------+--------------------+\n",
            "only showing top 5 rows\n",
            "\n"
          ]
        }
      ],
      "source": [
        "joined_df.select('categories','name','business_stars','review_stars','text').show(5)"
      ]
    },
    {
      "cell_type": "code",
      "execution_count": null,
      "id": "7fc72efa",
      "metadata": {
        "id": "7fc72efa"
      },
      "outputs": [],
      "source": [
        "df_restaurants = joined_df.filter(F.col(\"categories\").rlike(\"(?i).*restaurant.*\"))\n"
      ]
    },
    {
      "cell_type": "markdown",
      "source": [
        "code cells ini memfilter data hasil join agar hanya menampilkan bisnis yang berhubungan dengan restoran, mengunakan wildcard dengan regular expression yang tidak peka huruf besar-kecil untuk mencocokkan kategori yang mengandung kata “restaurant”, karena terdapat banyak variasi nama kategori."
      ],
      "metadata": {
        "id": "gU7_rodMMGFp"
      },
      "id": "gU7_rodMMGFp"
    },
    {
      "cell_type": "code",
      "execution_count": null,
      "id": "902ecdcd",
      "metadata": {
        "colab": {
          "base_uri": "https://localhost:8080/"
        },
        "id": "902ecdcd",
        "outputId": "36394c43-58bf-4127-baab-5bb7f25ef54f"
      },
      "outputs": [
        {
          "output_type": "stream",
          "name": "stdout",
          "text": [
            "+--------------------+\n",
            "|          categories|\n",
            "+--------------------+\n",
            "|Mediterranean, Fo...|\n",
            "|Seafood, Restaura...|\n",
            "|Restaurants, Comf...|\n",
            "|Restaurants, Crep...|\n",
            "|Specialty Food, F...|\n",
            "+--------------------+\n",
            "only showing top 5 rows\n",
            "\n"
          ]
        }
      ],
      "source": [
        "df_restaurants.select('categories').distinct().show(5)"
      ]
    },
    {
      "cell_type": "code",
      "execution_count": null,
      "id": "210fde74",
      "metadata": {
        "colab": {
          "base_uri": "https://localhost:8080/"
        },
        "id": "210fde74",
        "outputId": "8d7893d8-5eed-418d-d931-8b2969772ee7"
      },
      "outputs": [
        {
          "output_type": "stream",
          "name": "stdout",
          "text": [
            "+--------------------+----+-------------------+-----+--------------------+------------+--------------------+------+--------------------+----------------+--------------------+--------------------+---------------+--------------------+-------+----------+-----------+-----------------+-----------+------------+--------------+-----+\n",
            "|         business_id|cool|               date|funny|           review_id|review_stars|                text|useful|             user_id|         address|          attributes|          categories|           city|               hours|is_open|  latitude|  longitude|             name|postal_code|review_count|business_stars|state|\n",
            "+--------------------+----+-------------------+-----+--------------------+------------+--------------------+------+--------------------+----------------+--------------------+--------------------+---------------+--------------------+-------+----------+-----------+-----------------+-----------+------------+--------------+-----+\n",
            "|---kPU91CF4Lq2-Wl...|   0|2020-08-09 19:19:16|    0|hoLKem4XpXGt_X4li...|         4.0|Ate here for the ...|     0|415SXXbQrl2-VudHa...|4903 State Rd 54|{NULL, NULL, u'no...|Seafood, Restaura...|New Port Richey|{11:0-22:0, 0:0-0...|      1|28.2172884|-82.7333444|Frankie's Raw Bar|      34652|          24|           4.5|   FL|\n",
            "|---kPU91CF4Lq2-Wl...|   0|2020-09-05 20:09:03|    0|gzXaxjjTnrJJuG_gq...|         5.0|Absolutely fantas...|     0|ey8tdgUgC2tFqw2df...|4903 State Rd 54|{NULL, NULL, u'no...|Seafood, Restaura...|New Port Richey|{11:0-22:0, 0:0-0...|      1|28.2172884|-82.7333444|Frankie's Raw Bar|      34652|          24|           4.5|   FL|\n",
            "|---kPU91CF4Lq2-Wl...|   0|2020-06-13 22:03:50|    0|cpyLQlML0idHzCsCi...|         3.0|I was sadly disap...|     0|wNo_joX2evLhIYE4h...|4903 State Rd 54|{NULL, NULL, u'no...|Seafood, Restaura...|New Port Richey|{11:0-22:0, 0:0-0...|      1|28.2172884|-82.7333444|Frankie's Raw Bar|      34652|          24|           4.5|   FL|\n",
            "|---kPU91CF4Lq2-Wl...|   0|2020-02-11 00:30:51|    0|9j7uG9sA5WU7yraCQ...|         5.0|Great new local s...|     0|nRy6-tnPPeShNhZg9...|4903 State Rd 54|{NULL, NULL, u'no...|Seafood, Restaura...|New Port Richey|{11:0-22:0, 0:0-0...|      1|28.2172884|-82.7333444|Frankie's Raw Bar|      34652|          24|           4.5|   FL|\n",
            "|---kPU91CF4Lq2-Wl...|   1|2021-03-06 01:39:34|    0|ROpgxHN-NOZ3zSFMZ...|         3.0|This is a food tr...|     1|V8oYXtc0hMuYzG5Hf...|4903 State Rd 54|{NULL, NULL, u'no...|Seafood, Restaura...|New Port Richey|{11:0-22:0, 0:0-0...|      1|28.2172884|-82.7333444|Frankie's Raw Bar|      34652|          24|           4.5|   FL|\n",
            "|---kPU91CF4Lq2-Wl...|   0|2020-03-18 01:34:18|    0|rljdEt4_jgsqOgG-7...|         5.0|Great place for g...|     2|qrCkKrEwQ-q9m1iWS...|4903 State Rd 54|{NULL, NULL, u'no...|Seafood, Restaura...|New Port Richey|{11:0-22:0, 0:0-0...|      1|28.2172884|-82.7333444|Frankie's Raw Bar|      34652|          24|           4.5|   FL|\n",
            "|---kPU91CF4Lq2-Wl...|   1|2020-12-12 17:48:38|    0|JnfAi8vz8lcN63lvf...|         5.0|Blown away how fu...|     1|UmQDlaIjLiPBZ7M6U...|4903 State Rd 54|{NULL, NULL, u'no...|Seafood, Restaura...|New Port Richey|{11:0-22:0, 0:0-0...|      1|28.2172884|-82.7333444|Frankie's Raw Bar|      34652|          24|           4.5|   FL|\n",
            "|---kPU91CF4Lq2-Wl...|   0|2020-02-20 00:50:49|    0|XawsDBeNXlT_rRivc...|         5.0|Never would have ...|     1|5jlO2REcgB6GKFeSs...|4903 State Rd 54|{NULL, NULL, u'no...|Seafood, Restaura...|New Port Richey|{11:0-22:0, 0:0-0...|      1|28.2172884|-82.7333444|Frankie's Raw Bar|      34652|          24|           4.5|   FL|\n",
            "|---kPU91CF4Lq2-Wl...|   1|2020-09-26 20:42:25|    0|7dFBRid1QdCCr2PNs...|         5.0|Finale a local Fr...|     0|w2SrX4cPZqykJ5P7U...|4903 State Rd 54|{NULL, NULL, u'no...|Seafood, Restaura...|New Port Richey|{11:0-22:0, 0:0-0...|      1|28.2172884|-82.7333444|Frankie's Raw Bar|      34652|          24|           4.5|   FL|\n",
            "|---kPU91CF4Lq2-Wl...|   0|2021-11-24 16:27:56|    0|38jzE6n8lbnvSM7p6...|         5.0|EVERYTHING we had...|     0|7F5NSUrKYEPdrewd2...|4903 State Rd 54|{NULL, NULL, u'no...|Seafood, Restaura...|New Port Richey|{11:0-22:0, 0:0-0...|      1|28.2172884|-82.7333444|Frankie's Raw Bar|      34652|          24|           4.5|   FL|\n",
            "+--------------------+----+-------------------+-----+--------------------+------------+--------------------+------+--------------------+----------------+--------------------+--------------------+---------------+--------------------+-------+----------+-----------+-----------------+-----------+------------+--------------+-----+\n",
            "only showing top 10 rows\n",
            "\n"
          ]
        }
      ],
      "source": [
        "df_restaurants.show(10)"
      ]
    },
    {
      "cell_type": "code",
      "execution_count": null,
      "id": "2c409fae",
      "metadata": {
        "colab": {
          "base_uri": "https://localhost:8080/"
        },
        "id": "2c409fae",
        "outputId": "699b75d1-1a76-491e-c6f0-dad41bcee723"
      },
      "outputs": [
        {
          "output_type": "stream",
          "name": "stdout",
          "text": [
            "+-------------------+--------------------+------------+------------+-----+\n",
            "|               date|                text|review_stars|        city|state|\n",
            "+-------------------+--------------------+------------+------------+-----+\n",
            "|2018-07-07 22:09:11|If you decide to ...|         3.0| North Wales|   PA|\n",
            "|2014-02-05 20:30:30|Family diner. Had...|         3.0|      Tucson|   AZ|\n",
            "|2015-01-04 00:01:03|Wow!  Yummy, diff...|         5.0|Philadelphia|   PA|\n",
            "|2017-01-14 20:54:15|Cute interior and...|         4.0| New Orleans|   LA|\n",
            "|2015-09-23 23:10:31|I am a long term ...|         1.0|Philadelphia|   PA|\n",
            "+-------------------+--------------------+------------+------------+-----+\n",
            "only showing top 5 rows\n",
            "\n"
          ]
        }
      ],
      "source": [
        "df_restaurants.select('date','text','review_stars','city','state').show(5)"
      ]
    },
    {
      "cell_type": "code",
      "execution_count": null,
      "id": "080e7d4f",
      "metadata": {
        "colab": {
          "base_uri": "https://localhost:8080/"
        },
        "id": "080e7d4f",
        "outputId": "34d9a132-24fa-4899-efe3-8c8c52b8d26a"
      },
      "outputs": [
        {
          "output_type": "execute_result",
          "data": {
            "text/plain": [
              "4724684"
            ]
          },
          "metadata": {},
          "execution_count": 20
        }
      ],
      "source": [
        "df_restaurants.select('text').count()"
      ]
    },
    {
      "cell_type": "code",
      "execution_count": null,
      "id": "dd5b93ce",
      "metadata": {
        "colab": {
          "base_uri": "https://localhost:8080/"
        },
        "id": "dd5b93ce",
        "outputId": "0f07fc6c-9cdf-4edc-9823-a53ba92d3049"
      },
      "outputs": [
        {
          "output_type": "stream",
          "name": "stdout",
          "text": [
            "+--------------------------------------------------+------------+---------+---------------+\n",
            "|                                              text|review_stars|sentiment|sentiment_label|\n",
            "+--------------------------------------------------+------------+---------+---------------+\n",
            "|If you decide to eat here, just be aware it is ...|         3.0|        1|        Neutral|\n",
            "|Family diner. Had the buffet. Eclectic assortme...|         3.0|        1|        Neutral|\n",
            "|Wow!  Yummy, different,  delicious.   Our favor...|         5.0|        2|       Positive|\n",
            "|Cute interior and owner (?) gave us tour of upc...|         4.0|        2|       Positive|\n",
            "|I am a long term frequent customer of this esta...|         1.0|        0|       Negative|\n",
            "|Amazingly amazing wings and homemade bleu chees...|         5.0|        2|       Positive|\n",
            "|Had a party of 6 here for hibachi. Our waitress...|         3.0|        1|        Neutral|\n",
            "|Locals recommended Milktooth, and it's an amazi...|         4.0|        2|       Positive|\n",
            "|Love going here for happy hour or dinner!  Grea...|         4.0|        2|       Positive|\n",
            "|Good food--loved the gnocchi with marinara\\nthe...|         4.0|        2|       Positive|\n",
            "+--------------------------------------------------+------------+---------+---------------+\n",
            "only showing top 10 rows\n",
            "\n"
          ]
        }
      ],
      "source": [
        "df_labeled = df_restaurants.withColumn(\n",
        "    \"sentiment\",\n",
        "    when(col(\"review_stars\") <= 2, 0)  # Negative\n",
        "    .when(col(\"review_stars\") == 3, 1) # Neutral\n",
        "    .when(col(\"review_stars\") >= 4, 2) # Positive\n",
        ").withColumn(\n",
        "    \"sentiment_label\",\n",
        "    when(col(\"review_stars\") <= 2, \"Negative\")\n",
        "    .when(col(\"review_stars\") == 3, \"Neutral\")\n",
        "    .when(col(\"review_stars\") >= 4, \"Positive\")\n",
        ")\n",
        "\n",
        "# Show sample\n",
        "df_labeled.select(\"text\", \"review_stars\", \"sentiment\", \"sentiment_label\").show(10, truncate=50)"
      ]
    },
    {
      "cell_type": "markdown",
      "source": [
        "code cells ini memberikan label sentimen pada setiap review restoran berdasarkan rating-nya, review dengan 1–2 bintang diberi label Negative, 3 bintang sebagai Neutral, dan 4–5 bintang sebagai Positive, hasilnya ditambahkan sebagai nilai numerik dan label teks, lalu ditampilkan beberapa contohnya."
      ],
      "metadata": {
        "id": "DzSYaeLKNg1X"
      },
      "id": "DzSYaeLKNg1X"
    },
    {
      "cell_type": "code",
      "source": [
        "df_labeled.select('date','text','city','state','review_stars','sentiment','sentiment_label').show(5)"
      ],
      "metadata": {
        "colab": {
          "base_uri": "https://localhost:8080/"
        },
        "id": "fI42c_qezynD",
        "outputId": "3c8e86b7-4a76-4069-93e4-1c0e50380f12"
      },
      "id": "fI42c_qezynD",
      "execution_count": null,
      "outputs": [
        {
          "output_type": "stream",
          "name": "stdout",
          "text": [
            "+-------------------+--------------------+------------+-----+------------+---------+---------------+\n",
            "|               date|                text|        city|state|review_stars|sentiment|sentiment_label|\n",
            "+-------------------+--------------------+------------+-----+------------+---------+---------------+\n",
            "|2018-07-07 22:09:11|If you decide to ...| North Wales|   PA|         3.0|        1|        Neutral|\n",
            "|2014-02-05 20:30:30|Family diner. Had...|      Tucson|   AZ|         3.0|        1|        Neutral|\n",
            "|2015-01-04 00:01:03|Wow!  Yummy, diff...|Philadelphia|   PA|         5.0|        2|       Positive|\n",
            "|2017-01-14 20:54:15|Cute interior and...| New Orleans|   LA|         4.0|        2|       Positive|\n",
            "|2015-09-23 23:10:31|I am a long term ...|Philadelphia|   PA|         1.0|        0|       Negative|\n",
            "+-------------------+--------------------+------------+-----+------------+---------+---------------+\n",
            "only showing top 5 rows\n",
            "\n"
          ]
        }
      ]
    },
    {
      "cell_type": "markdown",
      "source": [
        "##SAVING DATASET"
      ],
      "metadata": {
        "id": "vZSvj9DXN8bM"
      },
      "id": "vZSvj9DXN8bM"
    },
    {
      "cell_type": "code",
      "source": [
        "df_labeled.select('date','text','city','state','review_stars','sentiment','sentiment_label').coalesce(1).write.parquet(\"restaurant_data_parquet\",mode=\"overwrite\")"
      ],
      "metadata": {
        "id": "Mauo-oj41rHa"
      },
      "id": "Mauo-oj41rHa",
      "execution_count": null,
      "outputs": []
    },
    {
      "cell_type": "markdown",
      "source": [
        "code cells ini menyimpan data review restoran yang dipilih seperti tanggal, teks, kota, provinsi, rating, dan sentimen ke dalam satu file Parquet bernama \"restaurant_data_parquet\"."
      ],
      "metadata": {
        "id": "6vLon3JDPnae"
      },
      "id": "6vLon3JDPnae"
    },
    {
      "cell_type": "code",
      "source": [
        "df_labeled = spark.read.parquet(\"/content/drive/MyDrive/restaurant_data_parquet/part-00000-39c7b949-dd62-4da8-9bcf-b26ce00f6ee5-c000.snappy.parquet\")"
      ],
      "metadata": {
        "id": "4invShtp8faP"
      },
      "id": "4invShtp8faP",
      "execution_count": null,
      "outputs": []
    },
    {
      "cell_type": "code",
      "source": [
        "df_labeled.show(5)"
      ],
      "metadata": {
        "colab": {
          "base_uri": "https://localhost:8080/"
        },
        "id": "6k6qLCmUjxJ_",
        "outputId": "0d984a1a-d428-4055-b812-82eb9fb14c1f"
      },
      "id": "6k6qLCmUjxJ_",
      "execution_count": null,
      "outputs": [
        {
          "output_type": "stream",
          "name": "stdout",
          "text": [
            "+-------------------+--------------------+------------+-----+------------+---------+---------------+\n",
            "|               date|                text|        city|state|review_stars|sentiment|sentiment_label|\n",
            "+-------------------+--------------------+------------+-----+------------+---------+---------------+\n",
            "|2018-07-07 22:09:11|If you decide to ...| North Wales|   PA|         3.0|        1|        Neutral|\n",
            "|2014-02-05 20:30:30|Family diner. Had...|      Tucson|   AZ|         3.0|        1|        Neutral|\n",
            "|2015-01-04 00:01:03|Wow!  Yummy, diff...|Philadelphia|   PA|         5.0|        2|       Positive|\n",
            "|2017-01-14 20:54:15|Cute interior and...| New Orleans|   LA|         4.0|        2|       Positive|\n",
            "|2015-09-23 23:10:31|I am a long term ...|Philadelphia|   PA|         1.0|        0|       Negative|\n",
            "+-------------------+--------------------+------------+-----+------------+---------+---------------+\n",
            "only showing top 5 rows\n",
            "\n"
          ]
        }
      ]
    },
    {
      "cell_type": "code",
      "source": [
        "df_state_counts = (\n",
        "    df_labeled\n",
        "    .groupBy(\"state\", \"sentiment_label\")\n",
        "    .count()\n",
        "    .groupBy(\"state\")\n",
        "    .pivot(\"sentiment_label\", [\"Negative\", \"Positive\", \"Neutral\"])\n",
        "    .sum(\"count\")\n",
        "    .fillna(0)\n",
        ")\n",
        "\n",
        "df_state_counts = df_state_counts.withColumn(\n",
        "    \"total_reviews\",\n",
        "    F.col(\"Negative\") + F.col(\"Positive\") + F.col(\"Neutral\")\n",
        ")\n",
        "\n",
        "df_state_counts.orderBy(F.desc(\"total_reviews\")).show(20, truncate=False)"
      ],
      "metadata": {
        "colab": {
          "base_uri": "https://localhost:8080/"
        },
        "id": "YT4QlILaQkGK",
        "outputId": "bf6fb959-fd58-463f-c29d-6c0321759b51"
      },
      "id": "YT4QlILaQkGK",
      "execution_count": null,
      "outputs": [
        {
          "output_type": "stream",
          "name": "stdout",
          "text": [
            "+-----+--------+--------+-------+-------------+\n",
            "|state|Negative|Positive|Neutral|total_reviews|\n",
            "+-----+--------+--------+-------+-------------+\n",
            "|PA   |227705  |732388  |140183 |1100276      |\n",
            "|FL   |162630  |546874  |82637  |792141       |\n",
            "|LA   |98700   |396429  |63218  |558347       |\n",
            "|TN   |89233   |296904  |48572  |434709       |\n",
            "|MO   |73149   |239932  |41532  |354613       |\n",
            "|IN   |65217   |232019  |38607  |335843       |\n",
            "|AZ   |61095   |176073  |29920  |267088       |\n",
            "|NV   |55555   |162523  |25571  |243649       |\n",
            "|CA   |37587   |152257  |21904  |211748       |\n",
            "|NJ   |42096   |109212  |19898  |171206       |\n",
            "|ID   |22339   |67363   |10380  |100082       |\n",
            "|AB   |14239   |44223   |10420  |68882        |\n",
            "|DE   |12235   |30892   |6032   |49159        |\n",
            "|IL   |9911    |22715   |4244   |36870        |\n",
            "|NC   |24      |4       |1      |29           |\n",
            "|HI   |7       |12      |0      |19           |\n",
            "|CO   |0       |6       |6      |12           |\n",
            "|MT   |0       |6       |0      |6            |\n",
            "|XMS  |0       |4       |1      |5            |\n",
            "+-----+--------+--------+-------+-------------+\n",
            "\n"
          ]
        }
      ]
    },
    {
      "cell_type": "markdown",
      "source": [
        "Kode ini mengelompokkan review restoran berdasarkan state dan label sentimen, menghitung jumlahnya, lalu memutar tabel agar setiap sentimen menjadi kolom tersendiri (Negative, Positive, Neutral). Nilai kosong diganti dengan 0"
      ],
      "metadata": {
        "id": "9M2cd_nEP9gi"
      },
      "id": "9M2cd_nEP9gi"
    },
    {
      "cell_type": "markdown",
      "source": [
        "## UNDERSAMPLING DATA"
      ],
      "metadata": {
        "id": "M9heXaSW3dik"
      },
      "id": "M9heXaSW3dik"
    },
    {
      "cell_type": "code",
      "source": [
        "df_pa_balanced = spark.read.parquet('/content/drive/MyDrive/restaurant_data_parquet/part-00000-39c7b949-dd62-4da8-9bcf-b26ce00f6ee5-c000.snappy.parquet')"
      ],
      "metadata": {
        "id": "RVuN7iaL-ukh"
      },
      "id": "RVuN7iaL-ukh",
      "execution_count": 5,
      "outputs": []
    },
    {
      "cell_type": "code",
      "source": [
        "df_pa_balanced.groupBy(\"sentiment_label\").count().show()"
      ],
      "metadata": {
        "colab": {
          "base_uri": "https://localhost:8080/"
        },
        "id": "btm-R1aqfE7M",
        "outputId": "c68f7714-8b7f-41bf-ac56-7c8754d02317"
      },
      "id": "btm-R1aqfE7M",
      "execution_count": 7,
      "outputs": [
        {
          "output_type": "stream",
          "name": "stdout",
          "text": [
            "+---------------+-------+\n",
            "|sentiment_label|  count|\n",
            "+---------------+-------+\n",
            "|        Neutral| 543126|\n",
            "|       Positive|3209836|\n",
            "|       Negative| 971722|\n",
            "+---------------+-------+\n",
            "\n"
          ]
        }
      ]
    },
    {
      "cell_type": "code",
      "source": [
        "df_pa_balanced.show(5)"
      ],
      "metadata": {
        "colab": {
          "base_uri": "https://localhost:8080/"
        },
        "id": "pmKJWfU7flTD",
        "outputId": "6097b603-f367-439f-e958-3c63c80e51fb"
      },
      "id": "pmKJWfU7flTD",
      "execution_count": 8,
      "outputs": [
        {
          "output_type": "stream",
          "name": "stdout",
          "text": [
            "+-------------------+--------------------+------------+-----+------------+---------+---------------+\n",
            "|               date|                text|        city|state|review_stars|sentiment|sentiment_label|\n",
            "+-------------------+--------------------+------------+-----+------------+---------+---------------+\n",
            "|2018-07-07 22:09:11|If you decide to ...| North Wales|   PA|         3.0|        1|        Neutral|\n",
            "|2014-02-05 20:30:30|Family diner. Had...|      Tucson|   AZ|         3.0|        1|        Neutral|\n",
            "|2015-01-04 00:01:03|Wow!  Yummy, diff...|Philadelphia|   PA|         5.0|        2|       Positive|\n",
            "|2017-01-14 20:54:15|Cute interior and...| New Orleans|   LA|         4.0|        2|       Positive|\n",
            "|2015-09-23 23:10:31|I am a long term ...|Philadelphia|   PA|         1.0|        0|       Negative|\n",
            "+-------------------+--------------------+------------+-----+------------+---------+---------------+\n",
            "only showing top 5 rows\n",
            "\n"
          ]
        }
      ]
    },
    {
      "cell_type": "code",
      "source": [
        "df_pa = df_pa_balanced.filter(col(\"state\") == \"PA\")"
      ],
      "metadata": {
        "id": "31-_Dzhr4j7n"
      },
      "id": "31-_Dzhr4j7n",
      "execution_count": 10,
      "outputs": []
    },
    {
      "cell_type": "code",
      "source": [
        "def undersample(df: DataFrame, label_col: str, n: int) -> DataFrame:\n",
        "    sampled_dfs = []\n",
        "    for label in df.select(label_col).distinct().rdd.flatMap(lambda x: x).collect():\n",
        "        sampled = df.filter(col(label_col) == label).sample(False, 1.0).limit(n)\n",
        "        sampled_dfs.append(sampled)\n",
        "    return sampled_dfs[0].union(sampled_dfs[1]).union(sampled_dfs[2])\n",
        "\n",
        "df_pa_balanced = undersample(df_pa, \"sentiment_label\", 20000)"
      ],
      "metadata": {
        "id": "ATWpW8fl0I1N"
      },
      "id": "ATWpW8fl0I1N",
      "execution_count": 11,
      "outputs": []
    },
    {
      "cell_type": "code",
      "source": [
        "df_pa_balanced.groupBy(\"sentiment_label\").count().show()"
      ],
      "metadata": {
        "colab": {
          "base_uri": "https://localhost:8080/"
        },
        "id": "tAPZZvvP4t9e",
        "outputId": "db76e639-1805-4e2f-9dff-fa399fbf32b1"
      },
      "id": "tAPZZvvP4t9e",
      "execution_count": 12,
      "outputs": [
        {
          "output_type": "stream",
          "name": "stdout",
          "text": [
            "+---------------+-----+\n",
            "|sentiment_label|count|\n",
            "+---------------+-----+\n",
            "|        Neutral|20000|\n",
            "|       Positive|20000|\n",
            "|       Negative|20000|\n",
            "+---------------+-----+\n",
            "\n"
          ]
        }
      ]
    },
    {
      "cell_type": "code",
      "source": [
        "df_pa_balanced.show(5)"
      ],
      "metadata": {
        "colab": {
          "base_uri": "https://localhost:8080/"
        },
        "id": "-WJqvHgM5Al6",
        "outputId": "35344ef0-739a-44ae-c25d-afc63ca05580"
      },
      "id": "-WJqvHgM5Al6",
      "execution_count": 13,
      "outputs": [
        {
          "output_type": "stream",
          "name": "stdout",
          "text": [
            "+-------------------+--------------------+------------+-----+------------+---------+---------------+\n",
            "|               date|                text|        city|state|review_stars|sentiment|sentiment_label|\n",
            "+-------------------+--------------------+------------+-----+------------+---------+---------------+\n",
            "|2018-07-07 22:09:11|If you decide to ...| North Wales|   PA|         3.0|        1|        Neutral|\n",
            "|2013-10-03 16:24:30|A couple friends ...|Philadelphia|   PA|         3.0|        1|        Neutral|\n",
            "|2017-08-08 01:37:37|Sometimes this fo...|West Chester|   PA|         3.0|        1|        Neutral|\n",
            "|2014-07-13 18:28:58|After trying a fe...|Philadelphia|   PA|         3.0|        1|        Neutral|\n",
            "|2016-01-30 15:10:41|Great food. Terri...|    Broomall|   PA|         3.0|        1|        Neutral|\n",
            "+-------------------+--------------------+------------+-----+------------+---------+---------------+\n",
            "only showing top 5 rows\n",
            "\n"
          ]
        }
      ]
    },
    {
      "cell_type": "code",
      "source": [
        "df_pa_balanced.select('text','sentiment').coalesce(1).write.parquet(\"restaurant_data_pa\",mode=\"overwrite\")"
      ],
      "metadata": {
        "id": "LjEaLxTLfbM-"
      },
      "id": "LjEaLxTLfbM-",
      "execution_count": null,
      "outputs": []
    },
    {
      "cell_type": "markdown",
      "source": [
        "##DATA SIAP TRAINING"
      ],
      "metadata": {
        "id": "DM-CtsQRftQI"
      },
      "id": "DM-CtsQRftQI"
    },
    {
      "cell_type": "code",
      "source": [
        "df_svm_unclean = df_pa_balanced.withColumn(\n",
        "    \"clean_text\",\n",
        "    lower(regexp_replace(col(\"text\"), r\"[^a-zA-Z\\s]\", \"\"))\n",
        ")"
      ],
      "metadata": {
        "id": "au3BrIublul_"
      },
      "id": "au3BrIublul_",
      "execution_count": null,
      "outputs": []
    },
    {
      "cell_type": "markdown",
      "source": [
        "code cells ini membersihkan data teks dengan menghapus semua karakter selain huruf (seperti angka dan tanda baca) serta mengubah seluruh teks menjadi huruf kecil. Hasilnya disimpan pada kolom baru bernama clean_text yang akan digunakan untuk training model SVM"
      ],
      "metadata": {
        "id": "-RQKcJNkQKGJ"
      },
      "id": "-RQKcJNkQKGJ"
    },
    {
      "cell_type": "code",
      "source": [
        "df_svm_unclean.show(5)"
      ],
      "metadata": {
        "colab": {
          "base_uri": "https://localhost:8080/"
        },
        "id": "jWHuNnmaoz4v",
        "outputId": "f9ff54ec-f367-4d56-db3a-160e2bc64323"
      },
      "id": "jWHuNnmaoz4v",
      "execution_count": null,
      "outputs": [
        {
          "output_type": "stream",
          "name": "stdout",
          "text": [
            "+-------------------+--------------------+------------+-----+------------+---------+---------------+--------------------+\n",
            "|               date|                text|        city|state|review_stars|sentiment|sentiment_label|          clean_text|\n",
            "+-------------------+--------------------+------------+-----+------------+---------+---------------+--------------------+\n",
            "|2018-07-07 22:09:11|If you decide to ...| North Wales|   PA|         3.0|        1|        Neutral|if you decide to ...|\n",
            "|2014-02-05 20:30:30|Family diner. Had...|      Tucson|   AZ|         3.0|        1|        Neutral|family diner had ...|\n",
            "|2015-01-04 00:01:03|Wow!  Yummy, diff...|Philadelphia|   PA|         5.0|        2|       Positive|wow  yummy differ...|\n",
            "|2017-01-14 20:54:15|Cute interior and...| New Orleans|   LA|         4.0|        2|       Positive|cute interior and...|\n",
            "|2015-09-23 23:10:31|I am a long term ...|Philadelphia|   PA|         1.0|        0|       Negative|i am a long term ...|\n",
            "+-------------------+--------------------+------------+-----+------------+---------+---------------+--------------------+\n",
            "only showing top 5 rows\n",
            "\n"
          ]
        }
      ]
    },
    {
      "cell_type": "code",
      "source": [
        "df_svm = df_svm_unclean.select('clean_text','sentiment')"
      ],
      "metadata": {
        "id": "Z70EqmdupABf"
      },
      "id": "Z70EqmdupABf",
      "execution_count": null,
      "outputs": []
    },
    {
      "cell_type": "code",
      "source": [
        "df_svm.show(5)"
      ],
      "metadata": {
        "colab": {
          "base_uri": "https://localhost:8080/"
        },
        "id": "eVnAJGOxscDv",
        "outputId": "3e6ea61a-9e0d-4abd-d473-e68242bf32c4"
      },
      "id": "eVnAJGOxscDv",
      "execution_count": null,
      "outputs": [
        {
          "output_type": "stream",
          "name": "stdout",
          "text": [
            "+--------------------+---------+\n",
            "|          clean_text|sentiment|\n",
            "+--------------------+---------+\n",
            "|if you decide to ...|        1|\n",
            "|family diner had ...|        1|\n",
            "|wow  yummy differ...|        2|\n",
            "|cute interior and...|        2|\n",
            "|i am a long term ...|        0|\n",
            "+--------------------+---------+\n",
            "only showing top 5 rows\n",
            "\n"
          ]
        }
      ]
    },
    {
      "cell_type": "code",
      "source": [
        "df_svm.coalesce(1).write.parquet(\"svm_data_pa\",mode=\"overwrite\")"
      ],
      "metadata": {
        "id": "WCu47-pPtRUp"
      },
      "id": "WCu47-pPtRUp",
      "execution_count": null,
      "outputs": []
    },
    {
      "cell_type": "code",
      "source": [
        "df_bert = df_pa_balanced.select('text','sentiment')"
      ],
      "metadata": {
        "id": "ZKttipw0qMsj"
      },
      "id": "ZKttipw0qMsj",
      "execution_count": null,
      "outputs": []
    },
    {
      "cell_type": "code",
      "source": [
        "df_bert.show(5)"
      ],
      "metadata": {
        "colab": {
          "base_uri": "https://localhost:8080/"
        },
        "id": "xbkgGykpsRsY",
        "outputId": "ec91e254-6b05-4ca7-89b1-138ff257d9c4"
      },
      "id": "xbkgGykpsRsY",
      "execution_count": null,
      "outputs": [
        {
          "output_type": "stream",
          "name": "stdout",
          "text": [
            "+--------------------+---------+\n",
            "|                text|sentiment|\n",
            "+--------------------+---------+\n",
            "|If you decide to ...|        1|\n",
            "|Family diner. Had...|        1|\n",
            "|Wow!  Yummy, diff...|        2|\n",
            "|Cute interior and...|        2|\n",
            "|I am a long term ...|        0|\n",
            "+--------------------+---------+\n",
            "only showing top 5 rows\n",
            "\n"
          ]
        }
      ]
    },
    {
      "cell_type": "code",
      "source": [
        "df_bert.coalesce(1).write.parquet(\"bert_data_pa\",mode=\"overwrite\")"
      ],
      "metadata": {
        "id": "nowz6mNBtHUO"
      },
      "id": "nowz6mNBtHUO",
      "execution_count": null,
      "outputs": []
    },
    {
      "cell_type": "code",
      "source": [],
      "metadata": {
        "id": "f8xGluk7tijB"
      },
      "id": "f8xGluk7tijB",
      "execution_count": null,
      "outputs": []
    }
  ],
  "metadata": {
    "kernelspec": {
      "display_name": "Python (myenv)",
      "language": "python",
      "name": "myenv"
    },
    "language_info": {
      "codemirror_mode": {
        "name": "ipython",
        "version": 3
      },
      "file_extension": ".py",
      "mimetype": "text/x-python",
      "name": "python",
      "nbconvert_exporter": "python",
      "pygments_lexer": "ipython3",
      "version": "3.10.13"
    },
    "colab": {
      "provenance": [],
      "gpuType": "T4",
      "toc_visible": true
    },
    "accelerator": "GPU"
  },
  "nbformat": 4,
  "nbformat_minor": 5
}