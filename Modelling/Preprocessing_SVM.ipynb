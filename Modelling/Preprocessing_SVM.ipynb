{
  "cells": [
    {
      "cell_type": "markdown",
      "metadata": {
        "id": "PHbIll07j7ow"
      },
      "source": [
        "## PREPROCESSING DATASET UNTUK SVM"
      ]
    },
    {
      "cell_type": "code",
      "execution_count": 1,
      "metadata": {},
      "outputs": [],
      "source": [
        "from pyspark.sql import SparkSession\n",
        "import spacy, pandas as pd\n",
        "import os\n",
        "import glob\n",
        "from tqdm import tqdm"
      ]
    },
    {
      "cell_type": "code",
      "execution_count": 1,
      "metadata": {
        "id": "bvduPWpbI8NG"
      },
      "outputs": [],
      "source": [
        "import pandas as pd\n",
        "import nltk\n",
        "import spacy\n",
        "from google.colab import drive\n",
        "from nltk.stem import PorterStemmer, WordNetLemmatizer\n",
        "from nltk import pos_tag, word_tokenize\n",
        "from nltk.corpus import wordnet"
      ]
    },
    {
      "cell_type": "code",
      "execution_count": 3,
      "metadata": {
        "colab": {
          "base_uri": "https://localhost:8080/"
        },
        "id": "C8DXJpoIIlPl",
        "outputId": "4ae7ca22-1c34-4167-8134-996a3825412b"
      },
      "outputs": [
        {
          "name": "stdout",
          "output_type": "stream",
          "text": [
            "Mounted at /content/drive\n"
          ]
        }
      ],
      "source": [
        "drive.mount('/content/drive')"
      ]
    },
    {
      "cell_type": "code",
      "execution_count": 2,
      "metadata": {},
      "outputs": [
        {
          "name": "stderr",
          "output_type": "stream",
          "text": [
            "25/10/15 09:43:31 WARN Utils: Your hostname, mothership resolves to a loopback address: 127.0.0.1; using 192.168.1.12 instead (on interface enp3s0)\n",
            "25/10/15 09:43:31 WARN Utils: Set SPARK_LOCAL_IP if you need to bind to another address\n",
            "WARNING: An illegal reflective access operation has occurred\n",
            "WARNING: Illegal reflective access by org.apache.spark.unsafe.Platform (file:/home/parasite/.pyenv/versions/3.10.13/lib/python3.10/site-packages/pyspark/jars/spark-unsafe_2.12-3.1.2.jar) to constructor java.nio.DirectByteBuffer(long,int)\n",
            "WARNING: Please consider reporting this to the maintainers of org.apache.spark.unsafe.Platform\n",
            "WARNING: Use --illegal-access=warn to enable warnings of further illegal reflective access operations\n",
            "WARNING: All illegal access operations will be denied in a future release\n",
            "25/10/15 09:43:31 WARN NativeCodeLoader: Unable to load native-hadoop library for your platform... using builtin-java classes where applicable\n",
            "Using Spark's default log4j profile: org/apache/spark/log4j-defaults.properties\n",
            "Setting default log level to \"WARN\".\n",
            "To adjust logging level use sc.setLogLevel(newLevel). For SparkR, use setLogLevel(newLevel).\n"
          ]
        }
      ],
      "source": [
        "os.environ['JAVA_HOME'] = \"/usr/lib/jvm/openjdk11\"\n",
        "spark = SparkSession.builder.appName(\"Load Lemma Chunks\").getOrCreate()"
      ]
    },
    {
      "cell_type": "code",
      "execution_count": 2,
      "metadata": {
        "colab": {
          "base_uri": "https://localhost:8080/"
        },
        "id": "9NE4_052JRSN",
        "outputId": "b6b7847b-d9dc-4d07-cdbb-e271ed462a09"
      },
      "outputs": [
        {
          "name": "stderr",
          "output_type": "stream",
          "text": [
            "[nltk_data] Downloading package punkt to /root/nltk_data...\n",
            "[nltk_data]   Unzipping tokenizers/punkt.zip.\n",
            "[nltk_data] Downloading package averaged_perceptron_tagger_eng to\n",
            "[nltk_data]     /root/nltk_data...\n",
            "[nltk_data]   Unzipping taggers/averaged_perceptron_tagger_eng.zip.\n",
            "[nltk_data] Downloading package wordnet to /root/nltk_data...\n",
            "[nltk_data] Downloading package omw-1.4 to /root/nltk_data...\n",
            "[nltk_data] Downloading package punkt_tab to /root/nltk_data...\n",
            "[nltk_data]   Unzipping tokenizers/punkt_tab.zip.\n"
          ]
        },
        {
          "data": {
            "text/plain": [
              "True"
            ]
          },
          "execution_count": 2,
          "metadata": {},
          "output_type": "execute_result"
        }
      ],
      "source": [
        "nltk.download('punkt')\n",
        "nltk.download('averaged_perceptron_tagger_eng')\n",
        "nltk.download('wordnet')\n",
        "nltk.download('omw-1.4')\n",
        "nltk.download('punkt_tab')"
      ]
    },
    {
      "cell_type": "markdown",
      "metadata": {
        "id": "y0JfvdN_kJWP"
      },
      "source": [
        "code cells ini mengunduh berbagai dataset dan lexical resources dari NLTK yang dibutuhkan untuk preprocessing teks sebelum training SVM, resource tersebut meliputi punkt untuk tokenisasi kalimat dan kata, averaged_perceptron_tagger_eng untuk part-of-speech tagging, serta wordnet dan omw-1.4 yang digunakan dalam proses lemmatization."
      ]
    },
    {
      "cell_type": "code",
      "execution_count": 2,
      "metadata": {
        "id": "WZ1B03vO4U49"
      },
      "outputs": [],
      "source": [
        "df = pd.read_parquet('./dataset/data_restaurant.parquet')"
      ]
    },
    {
      "cell_type": "code",
      "execution_count": 3,
      "metadata": {},
      "outputs": [],
      "source": [
        "df1 = pd.read_csv('./lemma_chunk_2250000_2300000.csv')"
      ]
    },
    {
      "cell_type": "code",
      "execution_count": 3,
      "metadata": {
        "colab": {
          "base_uri": "https://localhost:8080/",
          "height": 147
        },
        "id": "KyGS2hnB4gli",
        "outputId": "56a4ea55-aa6e-4d5c-ec75-187a06d51135"
      },
      "outputs": [
        {
          "data": {
            "text/plain": [
              "clean_text    4724684\n",
              "sentiment     4724684\n",
              "dtype: int64"
            ]
          },
          "execution_count": 3,
          "metadata": {},
          "output_type": "execute_result"
        }
      ],
      "source": [
        "df.count()"
      ]
    },
    {
      "cell_type": "markdown",
      "metadata": {
        "id": "12nFeUth4OSy"
      },
      "source": [
        "**Data Post Transformation**"
      ]
    },
    {
      "cell_type": "code",
      "execution_count": null,
      "metadata": {
        "id": "LFcqz3TeJZZO"
      },
      "outputs": [],
      "source": [
        "df = pd.read_parquet('/content/drive/MyDrive/svm_data_pa/part-00000-27e2daf8-89c1-4f0a-93b6-51d02ed43deb-c000.snappy.parquet')"
      ]
    },
    {
      "cell_type": "code",
      "execution_count": null,
      "metadata": {
        "colab": {
          "base_uri": "https://localhost:8080/",
          "height": 147
        },
        "id": "ybTT0G78Jnlb",
        "outputId": "1296fc4e-5c44-490c-a463-88b16e6297c4"
      },
      "outputs": [
        {
          "data": {
            "text/html": [
              "<div>\n",
              "<style scoped>\n",
              "    .dataframe tbody tr th:only-of-type {\n",
              "        vertical-align: middle;\n",
              "    }\n",
              "\n",
              "    .dataframe tbody tr th {\n",
              "        vertical-align: top;\n",
              "    }\n",
              "\n",
              "    .dataframe thead th {\n",
              "        text-align: right;\n",
              "    }\n",
              "</style>\n",
              "<table border=\"1\" class=\"dataframe\">\n",
              "  <thead>\n",
              "    <tr style=\"text-align: right;\">\n",
              "      <th></th>\n",
              "      <th>0</th>\n",
              "    </tr>\n",
              "  </thead>\n",
              "  <tbody>\n",
              "    <tr>\n",
              "      <th>clean_text</th>\n",
              "      <td>60000</td>\n",
              "    </tr>\n",
              "    <tr>\n",
              "      <th>sentiment</th>\n",
              "      <td>60000</td>\n",
              "    </tr>\n",
              "  </tbody>\n",
              "</table>\n",
              "</div><br><label><b>dtype:</b> int64</label>"
            ],
            "text/plain": [
              "clean_text    60000\n",
              "sentiment     60000\n",
              "dtype: int64"
            ]
          },
          "execution_count": 8,
          "metadata": {},
          "output_type": "execute_result"
        }
      ],
      "source": [
        "df.count()"
      ]
    },
    {
      "cell_type": "code",
      "execution_count": 6,
      "metadata": {
        "id": "VXOupNvWJWyU"
      },
      "outputs": [],
      "source": [
        "def get_wordnet_pos(tag):\n",
        "    if tag.startswith('J'):\n",
        "        return wordnet.ADJ\n",
        "    elif tag.startswith('V'):\n",
        "        return wordnet.VERB\n",
        "    elif tag.startswith('N'):\n",
        "        return wordnet.NOUN\n",
        "    elif tag.startswith('R'):\n",
        "        return wordnet.ADV\n",
        "    else:\n",
        "        return wordnet.NOUN\n",
        "\n",
        "lemmatizer = WordNetLemmatizer()\n",
        "\n",
        "def lemmatize_with_pos(text):\n",
        "    tokens = word_tokenize(text)\n",
        "    tagged = pos_tag(tokens)\n",
        "    lemmatized = [lemmatizer.lemmatize(word, get_wordnet_pos(tag)) for word, tag in tagged]\n",
        "    return \" \".join(lemmatized)"
      ]
    },
    {
      "cell_type": "code",
      "execution_count": null,
      "metadata": {
        "colab": {
          "base_uri": "https://localhost:8080/",
          "height": 322
        },
        "id": "8TJikpjNJrb3",
        "outputId": "09f236ac-c122-431f-ad0b-3eb584852490"
      },
      "outputs": [],
      "source": [
        "df['lemma_text'] = df['clean_text'].apply(lemmatize_with_pos)"
      ]
    },
    {
      "cell_type": "code",
      "execution_count": null,
      "metadata": {
        "colab": {
          "base_uri": "https://localhost:8080/",
          "height": 206
        },
        "id": "3Dl0MyKZJvJM",
        "outputId": "88f922cb-aee5-4296-91c9-8747d41288b6"
      },
      "outputs": [
        {
          "data": {
            "application/vnd.google.colaboratory.intrinsic+json": {
              "summary": "{\n  \"name\": \"df\",\n  \"rows\": 60000,\n  \"fields\": [\n    {\n      \"column\": \"clean_text\",\n      \"properties\": {\n        \"dtype\": \"string\",\n        \"num_unique_values\": 59930,\n        \"samples\": [\n          \"my family visited this red lobster last weekend we are a big family and are almost always complicated which is annoying as i used to be a server our server who if i remember correctly was tikel h was amazing he was very friendly and laid back they had the endless shrimp deal going on and he was always ready to put in another order for us and constantly checked back in to make sure we were happy our cups were never empty and he was very attentive he never showed a bit of annoyance even though we are a needy bunch tikel gave great service and i just wanted to make sure he got the recognition he deserves  thanks\",\n          \"the place is on the small size but the food is cheap and good i would avoid the smoothies and bubbles you can taste the powder in the fruit smoothie and bubbles are hard you have to look carefully when driving down the street you may pass it\",\n          \"decent waitress decent food however for some reason she seemed terrified to be serving us and like she just wanted us to leave meanwhile the creepy owner was looming in the background i have been here multiple times and this place makes money as most diners do but this time i felt guilty being there and i hope the waitress got the tip and the greedy owner didnt steal it off of the table\"\n        ],\n        \"semantic_type\": \"\",\n        \"description\": \"\"\n      }\n    },\n    {\n      \"column\": \"sentiment\",\n      \"properties\": {\n        \"dtype\": \"int32\",\n        \"num_unique_values\": 3,\n        \"samples\": [\n          1,\n          2,\n          0\n        ],\n        \"semantic_type\": \"\",\n        \"description\": \"\"\n      }\n    },\n    {\n      \"column\": \"lemma_text\",\n      \"properties\": {\n        \"dtype\": \"string\",\n        \"num_unique_values\": 59927,\n        \"samples\": [\n          \"my family visit this red lobster last weekend we be a big family and be almost always complicate which be annoy a i use to be a server our server who if i remember correctly be tikel h be amaze he be very friendly and lay back they have the endless shrimp deal go on and he be always ready to put in another order for u and constantly check back in to make sure we be happy our cup be never empty and he be very attentive he never show a bit of annoyance even though we be a needy bunch tikel give great service and i just want to make sure he get the recognition he deserve thanks\",\n          \"the place be on the small size but the food be cheap and good i would avoid the smoothy and bubble you can taste the powder in the fruit smoothie and bubble be hard you have to look carefully when drive down the street you may pass it\",\n          \"you know what these jerky have be promise a dumpling kitchen since june susannah foos dumpling kitchen open soon be all i ever see and it a big fat lie i want me some dumpling and it not nice to tease me with your b about how it come soon because you know what it november people almost december and still no dumpling every week i go to check thing out and my heart break over the lack of tasty little purse of deliciousness where be my dumpling so always fill with disappointment i go to dibrunos and pay too much for soup or a piece of quiche or that scalis pizza place where they have the nerve to charge buck for a piece of notgreat pizza thats be sit there all day and hate my life because once again i have no dumpling dumpling please\"\n        ],\n        \"semantic_type\": \"\",\n        \"description\": \"\"\n      }\n    }\n  ]\n}",
              "type": "dataframe",
              "variable_name": "df"
            },
            "text/html": [
              "\n",
              "  <div id=\"df-98e84d96-a3cb-4e3a-a4c0-0cc8a9d50d5d\" class=\"colab-df-container\">\n",
              "    <div>\n",
              "<style scoped>\n",
              "    .dataframe tbody tr th:only-of-type {\n",
              "        vertical-align: middle;\n",
              "    }\n",
              "\n",
              "    .dataframe tbody tr th {\n",
              "        vertical-align: top;\n",
              "    }\n",
              "\n",
              "    .dataframe thead th {\n",
              "        text-align: right;\n",
              "    }\n",
              "</style>\n",
              "<table border=\"1\" class=\"dataframe\">\n",
              "  <thead>\n",
              "    <tr style=\"text-align: right;\">\n",
              "      <th></th>\n",
              "      <th>clean_text</th>\n",
              "      <th>sentiment</th>\n",
              "      <th>lemma_text</th>\n",
              "    </tr>\n",
              "  </thead>\n",
              "  <tbody>\n",
              "    <tr>\n",
              "      <th>0</th>\n",
              "      <td>if you decide to eat here just be aware it is ...</td>\n",
              "      <td>1</td>\n",
              "      <td>if you decide to eat here just be aware it be ...</td>\n",
              "    </tr>\n",
              "    <tr>\n",
              "      <th>1</th>\n",
              "      <td>a couple friends and i stopped by for some lat...</td>\n",
              "      <td>1</td>\n",
              "      <td>a couple friend and i stop by for some late ni...</td>\n",
              "    </tr>\n",
              "    <tr>\n",
              "      <th>2</th>\n",
              "      <td>sometimes this food is very very good  unfortu...</td>\n",
              "      <td>1</td>\n",
              "      <td>sometimes this food be very very good unfortun...</td>\n",
              "    </tr>\n",
              "    <tr>\n",
              "      <th>3</th>\n",
              "      <td>after trying a few ramen places with crazy var...</td>\n",
              "      <td>1</td>\n",
              "      <td>after try a few ramen place with crazy variety...</td>\n",
              "    </tr>\n",
              "    <tr>\n",
              "      <th>4</th>\n",
              "      <td>great food terrible customer service ive been ...</td>\n",
              "      <td>1</td>\n",
              "      <td>great food terrible customer service ive be th...</td>\n",
              "    </tr>\n",
              "  </tbody>\n",
              "</table>\n",
              "</div>\n",
              "    <div class=\"colab-df-buttons\">\n",
              "\n",
              "  <div class=\"colab-df-container\">\n",
              "    <button class=\"colab-df-convert\" onclick=\"convertToInteractive('df-98e84d96-a3cb-4e3a-a4c0-0cc8a9d50d5d')\"\n",
              "            title=\"Convert this dataframe to an interactive table.\"\n",
              "            style=\"display:none;\">\n",
              "\n",
              "  <svg xmlns=\"http://www.w3.org/2000/svg\" height=\"24px\" viewBox=\"0 -960 960 960\">\n",
              "    <path d=\"M120-120v-720h720v720H120Zm60-500h600v-160H180v160Zm220 220h160v-160H400v160Zm0 220h160v-160H400v160ZM180-400h160v-160H180v160Zm440 0h160v-160H620v160ZM180-180h160v-160H180v160Zm440 0h160v-160H620v160Z\"/>\n",
              "  </svg>\n",
              "    </button>\n",
              "\n",
              "  <style>\n",
              "    .colab-df-container {\n",
              "      display:flex;\n",
              "      gap: 12px;\n",
              "    }\n",
              "\n",
              "    .colab-df-convert {\n",
              "      background-color: #E8F0FE;\n",
              "      border: none;\n",
              "      border-radius: 50%;\n",
              "      cursor: pointer;\n",
              "      display: none;\n",
              "      fill: #1967D2;\n",
              "      height: 32px;\n",
              "      padding: 0 0 0 0;\n",
              "      width: 32px;\n",
              "    }\n",
              "\n",
              "    .colab-df-convert:hover {\n",
              "      background-color: #E2EBFA;\n",
              "      box-shadow: 0px 1px 2px rgba(60, 64, 67, 0.3), 0px 1px 3px 1px rgba(60, 64, 67, 0.15);\n",
              "      fill: #174EA6;\n",
              "    }\n",
              "\n",
              "    .colab-df-buttons div {\n",
              "      margin-bottom: 4px;\n",
              "    }\n",
              "\n",
              "    [theme=dark] .colab-df-convert {\n",
              "      background-color: #3B4455;\n",
              "      fill: #D2E3FC;\n",
              "    }\n",
              "\n",
              "    [theme=dark] .colab-df-convert:hover {\n",
              "      background-color: #434B5C;\n",
              "      box-shadow: 0px 1px 3px 1px rgba(0, 0, 0, 0.15);\n",
              "      filter: drop-shadow(0px 1px 2px rgba(0, 0, 0, 0.3));\n",
              "      fill: #FFFFFF;\n",
              "    }\n",
              "  </style>\n",
              "\n",
              "    <script>\n",
              "      const buttonEl =\n",
              "        document.querySelector('#df-98e84d96-a3cb-4e3a-a4c0-0cc8a9d50d5d button.colab-df-convert');\n",
              "      buttonEl.style.display =\n",
              "        google.colab.kernel.accessAllowed ? 'block' : 'none';\n",
              "\n",
              "      async function convertToInteractive(key) {\n",
              "        const element = document.querySelector('#df-98e84d96-a3cb-4e3a-a4c0-0cc8a9d50d5d');\n",
              "        const dataTable =\n",
              "          await google.colab.kernel.invokeFunction('convertToInteractive',\n",
              "                                                    [key], {});\n",
              "        if (!dataTable) return;\n",
              "\n",
              "        const docLinkHtml = 'Like what you see? Visit the ' +\n",
              "          '<a target=\"_blank\" href=https://colab.research.google.com/notebooks/data_table.ipynb>data table notebook</a>'\n",
              "          + ' to learn more about interactive tables.';\n",
              "        element.innerHTML = '';\n",
              "        dataTable['output_type'] = 'display_data';\n",
              "        await google.colab.output.renderOutput(dataTable, element);\n",
              "        const docLink = document.createElement('div');\n",
              "        docLink.innerHTML = docLinkHtml;\n",
              "        element.appendChild(docLink);\n",
              "      }\n",
              "    </script>\n",
              "  </div>\n",
              "\n",
              "\n",
              "    <div id=\"df-af869b1c-d1f8-438a-9a33-defb3c060b39\">\n",
              "      <button class=\"colab-df-quickchart\" onclick=\"quickchart('df-af869b1c-d1f8-438a-9a33-defb3c060b39')\"\n",
              "                title=\"Suggest charts\"\n",
              "                style=\"display:none;\">\n",
              "\n",
              "<svg xmlns=\"http://www.w3.org/2000/svg\" height=\"24px\"viewBox=\"0 0 24 24\"\n",
              "     width=\"24px\">\n",
              "    <g>\n",
              "        <path d=\"M19 3H5c-1.1 0-2 .9-2 2v14c0 1.1.9 2 2 2h14c1.1 0 2-.9 2-2V5c0-1.1-.9-2-2-2zM9 17H7v-7h2v7zm4 0h-2V7h2v10zm4 0h-2v-4h2v4z\"/>\n",
              "    </g>\n",
              "</svg>\n",
              "      </button>\n",
              "\n",
              "<style>\n",
              "  .colab-df-quickchart {\n",
              "      --bg-color: #E8F0FE;\n",
              "      --fill-color: #1967D2;\n",
              "      --hover-bg-color: #E2EBFA;\n",
              "      --hover-fill-color: #174EA6;\n",
              "      --disabled-fill-color: #AAA;\n",
              "      --disabled-bg-color: #DDD;\n",
              "  }\n",
              "\n",
              "  [theme=dark] .colab-df-quickchart {\n",
              "      --bg-color: #3B4455;\n",
              "      --fill-color: #D2E3FC;\n",
              "      --hover-bg-color: #434B5C;\n",
              "      --hover-fill-color: #FFFFFF;\n",
              "      --disabled-bg-color: #3B4455;\n",
              "      --disabled-fill-color: #666;\n",
              "  }\n",
              "\n",
              "  .colab-df-quickchart {\n",
              "    background-color: var(--bg-color);\n",
              "    border: none;\n",
              "    border-radius: 50%;\n",
              "    cursor: pointer;\n",
              "    display: none;\n",
              "    fill: var(--fill-color);\n",
              "    height: 32px;\n",
              "    padding: 0;\n",
              "    width: 32px;\n",
              "  }\n",
              "\n",
              "  .colab-df-quickchart:hover {\n",
              "    background-color: var(--hover-bg-color);\n",
              "    box-shadow: 0 1px 2px rgba(60, 64, 67, 0.3), 0 1px 3px 1px rgba(60, 64, 67, 0.15);\n",
              "    fill: var(--button-hover-fill-color);\n",
              "  }\n",
              "\n",
              "  .colab-df-quickchart-complete:disabled,\n",
              "  .colab-df-quickchart-complete:disabled:hover {\n",
              "    background-color: var(--disabled-bg-color);\n",
              "    fill: var(--disabled-fill-color);\n",
              "    box-shadow: none;\n",
              "  }\n",
              "\n",
              "  .colab-df-spinner {\n",
              "    border: 2px solid var(--fill-color);\n",
              "    border-color: transparent;\n",
              "    border-bottom-color: var(--fill-color);\n",
              "    animation:\n",
              "      spin 1s steps(1) infinite;\n",
              "  }\n",
              "\n",
              "  @keyframes spin {\n",
              "    0% {\n",
              "      border-color: transparent;\n",
              "      border-bottom-color: var(--fill-color);\n",
              "      border-left-color: var(--fill-color);\n",
              "    }\n",
              "    20% {\n",
              "      border-color: transparent;\n",
              "      border-left-color: var(--fill-color);\n",
              "      border-top-color: var(--fill-color);\n",
              "    }\n",
              "    30% {\n",
              "      border-color: transparent;\n",
              "      border-left-color: var(--fill-color);\n",
              "      border-top-color: var(--fill-color);\n",
              "      border-right-color: var(--fill-color);\n",
              "    }\n",
              "    40% {\n",
              "      border-color: transparent;\n",
              "      border-right-color: var(--fill-color);\n",
              "      border-top-color: var(--fill-color);\n",
              "    }\n",
              "    60% {\n",
              "      border-color: transparent;\n",
              "      border-right-color: var(--fill-color);\n",
              "    }\n",
              "    80% {\n",
              "      border-color: transparent;\n",
              "      border-right-color: var(--fill-color);\n",
              "      border-bottom-color: var(--fill-color);\n",
              "    }\n",
              "    90% {\n",
              "      border-color: transparent;\n",
              "      border-bottom-color: var(--fill-color);\n",
              "    }\n",
              "  }\n",
              "</style>\n",
              "\n",
              "      <script>\n",
              "        async function quickchart(key) {\n",
              "          const quickchartButtonEl =\n",
              "            document.querySelector('#' + key + ' button');\n",
              "          quickchartButtonEl.disabled = true;  // To prevent multiple clicks.\n",
              "          quickchartButtonEl.classList.add('colab-df-spinner');\n",
              "          try {\n",
              "            const charts = await google.colab.kernel.invokeFunction(\n",
              "                'suggestCharts', [key], {});\n",
              "          } catch (error) {\n",
              "            console.error('Error during call to suggestCharts:', error);\n",
              "          }\n",
              "          quickchartButtonEl.classList.remove('colab-df-spinner');\n",
              "          quickchartButtonEl.classList.add('colab-df-quickchart-complete');\n",
              "        }\n",
              "        (() => {\n",
              "          let quickchartButtonEl =\n",
              "            document.querySelector('#df-af869b1c-d1f8-438a-9a33-defb3c060b39 button');\n",
              "          quickchartButtonEl.style.display =\n",
              "            google.colab.kernel.accessAllowed ? 'block' : 'none';\n",
              "        })();\n",
              "      </script>\n",
              "    </div>\n",
              "\n",
              "    </div>\n",
              "  </div>\n"
            ],
            "text/plain": [
              "                                          clean_text  sentiment  \\\n",
              "0  if you decide to eat here just be aware it is ...          1   \n",
              "1  a couple friends and i stopped by for some lat...          1   \n",
              "2  sometimes this food is very very good  unfortu...          1   \n",
              "3  after trying a few ramen places with crazy var...          1   \n",
              "4  great food terrible customer service ive been ...          1   \n",
              "\n",
              "                                          lemma_text  \n",
              "0  if you decide to eat here just be aware it be ...  \n",
              "1  a couple friend and i stop by for some late ni...  \n",
              "2  sometimes this food be very very good unfortun...  \n",
              "3  after try a few ramen place with crazy variety...  \n",
              "4  great food terrible customer service ive be th...  "
            ]
          },
          "execution_count": 16,
          "metadata": {},
          "output_type": "execute_result"
        }
      ],
      "source": [
        "df.head()"
      ]
    },
    {
      "cell_type": "markdown",
      "metadata": {
        "id": "Q-T-8XGnkiLp"
      },
      "source": [
        "code cells ini melakukan lemmatization pada teks, yaitu mengubah kata ke bentuk dasarnya dengan mempertimbangkan jenis katanya.\n",
        "\n",
        "fungsi get_wordnet_pos menentukan tipe kata berdasarkan tag POS (seperti adjective, verb, noun, adverb) agar hasil lemmatization lebih akurat,\n",
        "\n",
        "fungsi lemmatize_with_pos kemudian melakukan tokenisasi, memberi tag POS pada tiap kata, lalu menerapkan lemmatizer sesuai jenis katanya. Hasil akhirnya disimpan ke kolom baru lemma_text dalam DataFrame."
      ]
    },
    {
      "cell_type": "code",
      "execution_count": null,
      "metadata": {
        "id": "v13v1YVKLRrF"
      },
      "outputs": [],
      "source": [
        "def get_pos_tags(text):\n",
        "    tokens = word_tokenize(text)\n",
        "    tagged = pos_tag(tokens)\n",
        "    return tagged"
      ]
    },
    {
      "cell_type": "code",
      "execution_count": null,
      "metadata": {
        "id": "j7am3uGfLreM"
      },
      "outputs": [],
      "source": [
        "df['pos_tags'] = df['clean_text'].apply(get_pos_tags)"
      ]
    },
    {
      "cell_type": "markdown",
      "metadata": {
        "id": "gpR7sIofk1qH"
      },
      "source": [
        "code cells ini menambahkan kolom baru berisi Part-of-Speech tags untuk setiap teks, fungsi get_pos_tags melakukan tokenisasi menggunakan word_tokenize, lalu memberi label jenis kata (seperti noun, verb, adjective, dll.) dengan pos_tag"
      ]
    },
    {
      "cell_type": "code",
      "execution_count": null,
      "metadata": {
        "colab": {
          "base_uri": "https://localhost:8080/",
          "height": 206
        },
        "id": "eiTojkb3Ls3n",
        "outputId": "f12c59f3-2ef4-47fb-9b8e-9b64c134e917"
      },
      "outputs": [
        {
          "data": {
            "application/vnd.google.colaboratory.intrinsic+json": {
              "summary": "{\n  \"name\": \"df\",\n  \"rows\": 60000,\n  \"fields\": [\n    {\n      \"column\": \"clean_text\",\n      \"properties\": {\n        \"dtype\": \"string\",\n        \"num_unique_values\": 59930,\n        \"samples\": [\n          \"my family visited this red lobster last weekend we are a big family and are almost always complicated which is annoying as i used to be a server our server who if i remember correctly was tikel h was amazing he was very friendly and laid back they had the endless shrimp deal going on and he was always ready to put in another order for us and constantly checked back in to make sure we were happy our cups were never empty and he was very attentive he never showed a bit of annoyance even though we are a needy bunch tikel gave great service and i just wanted to make sure he got the recognition he deserves  thanks\",\n          \"the place is on the small size but the food is cheap and good i would avoid the smoothies and bubbles you can taste the powder in the fruit smoothie and bubbles are hard you have to look carefully when driving down the street you may pass it\",\n          \"decent waitress decent food however for some reason she seemed terrified to be serving us and like she just wanted us to leave meanwhile the creepy owner was looming in the background i have been here multiple times and this place makes money as most diners do but this time i felt guilty being there and i hope the waitress got the tip and the greedy owner didnt steal it off of the table\"\n        ],\n        \"semantic_type\": \"\",\n        \"description\": \"\"\n      }\n    },\n    {\n      \"column\": \"sentiment\",\n      \"properties\": {\n        \"dtype\": \"int32\",\n        \"num_unique_values\": 3,\n        \"samples\": [\n          1,\n          2,\n          0\n        ],\n        \"semantic_type\": \"\",\n        \"description\": \"\"\n      }\n    },\n    {\n      \"column\": \"lemma_text\",\n      \"properties\": {\n        \"dtype\": \"string\",\n        \"num_unique_values\": 59927,\n        \"samples\": [\n          \"my family visit this red lobster last weekend we be a big family and be almost always complicate which be annoy a i use to be a server our server who if i remember correctly be tikel h be amaze he be very friendly and lay back they have the endless shrimp deal go on and he be always ready to put in another order for u and constantly check back in to make sure we be happy our cup be never empty and he be very attentive he never show a bit of annoyance even though we be a needy bunch tikel give great service and i just want to make sure he get the recognition he deserve thanks\",\n          \"the place be on the small size but the food be cheap and good i would avoid the smoothy and bubble you can taste the powder in the fruit smoothie and bubble be hard you have to look carefully when drive down the street you may pass it\",\n          \"you know what these jerky have be promise a dumpling kitchen since june susannah foos dumpling kitchen open soon be all i ever see and it a big fat lie i want me some dumpling and it not nice to tease me with your b about how it come soon because you know what it november people almost december and still no dumpling every week i go to check thing out and my heart break over the lack of tasty little purse of deliciousness where be my dumpling so always fill with disappointment i go to dibrunos and pay too much for soup or a piece of quiche or that scalis pizza place where they have the nerve to charge buck for a piece of notgreat pizza thats be sit there all day and hate my life because once again i have no dumpling dumpling please\"\n        ],\n        \"semantic_type\": \"\",\n        \"description\": \"\"\n      }\n    },\n    {\n      \"column\": \"pos_tags\",\n      \"properties\": {\n        \"dtype\": \"object\",\n        \"semantic_type\": \"\",\n        \"description\": \"\"\n      }\n    }\n  ]\n}",
              "type": "dataframe",
              "variable_name": "df"
            },
            "text/html": [
              "\n",
              "  <div id=\"df-42d430bd-8fa7-42e5-b4e7-3dc402695ba7\" class=\"colab-df-container\">\n",
              "    <div>\n",
              "<style scoped>\n",
              "    .dataframe tbody tr th:only-of-type {\n",
              "        vertical-align: middle;\n",
              "    }\n",
              "\n",
              "    .dataframe tbody tr th {\n",
              "        vertical-align: top;\n",
              "    }\n",
              "\n",
              "    .dataframe thead th {\n",
              "        text-align: right;\n",
              "    }\n",
              "</style>\n",
              "<table border=\"1\" class=\"dataframe\">\n",
              "  <thead>\n",
              "    <tr style=\"text-align: right;\">\n",
              "      <th></th>\n",
              "      <th>clean_text</th>\n",
              "      <th>sentiment</th>\n",
              "      <th>lemma_text</th>\n",
              "      <th>pos_tags</th>\n",
              "    </tr>\n",
              "  </thead>\n",
              "  <tbody>\n",
              "    <tr>\n",
              "      <th>0</th>\n",
              "      <td>if you decide to eat here just be aware it is ...</td>\n",
              "      <td>1</td>\n",
              "      <td>if you decide to eat here just be aware it be ...</td>\n",
              "      <td>[(if, IN), (you, PRP), (decide, VBP), (to, TO)...</td>\n",
              "    </tr>\n",
              "    <tr>\n",
              "      <th>1</th>\n",
              "      <td>a couple friends and i stopped by for some lat...</td>\n",
              "      <td>1</td>\n",
              "      <td>a couple friend and i stop by for some late ni...</td>\n",
              "      <td>[(a, DT), (couple, JJ), (friends, NNS), (and, ...</td>\n",
              "    </tr>\n",
              "    <tr>\n",
              "      <th>2</th>\n",
              "      <td>sometimes this food is very very good  unfortu...</td>\n",
              "      <td>1</td>\n",
              "      <td>sometimes this food be very very good unfortun...</td>\n",
              "      <td>[(sometimes, RB), (this, DT), (food, NN), (is,...</td>\n",
              "    </tr>\n",
              "    <tr>\n",
              "      <th>3</th>\n",
              "      <td>after trying a few ramen places with crazy var...</td>\n",
              "      <td>1</td>\n",
              "      <td>after try a few ramen place with crazy variety...</td>\n",
              "      <td>[(after, IN), (trying, VBG), (a, DT), (few, JJ...</td>\n",
              "    </tr>\n",
              "    <tr>\n",
              "      <th>4</th>\n",
              "      <td>great food terrible customer service ive been ...</td>\n",
              "      <td>1</td>\n",
              "      <td>great food terrible customer service ive be th...</td>\n",
              "      <td>[(great, JJ), (food, NN), (terrible, JJ), (cus...</td>\n",
              "    </tr>\n",
              "  </tbody>\n",
              "</table>\n",
              "</div>\n",
              "    <div class=\"colab-df-buttons\">\n",
              "\n",
              "  <div class=\"colab-df-container\">\n",
              "    <button class=\"colab-df-convert\" onclick=\"convertToInteractive('df-42d430bd-8fa7-42e5-b4e7-3dc402695ba7')\"\n",
              "            title=\"Convert this dataframe to an interactive table.\"\n",
              "            style=\"display:none;\">\n",
              "\n",
              "  <svg xmlns=\"http://www.w3.org/2000/svg\" height=\"24px\" viewBox=\"0 -960 960 960\">\n",
              "    <path d=\"M120-120v-720h720v720H120Zm60-500h600v-160H180v160Zm220 220h160v-160H400v160Zm0 220h160v-160H400v160ZM180-400h160v-160H180v160Zm440 0h160v-160H620v160ZM180-180h160v-160H180v160Zm440 0h160v-160H620v160Z\"/>\n",
              "  </svg>\n",
              "    </button>\n",
              "\n",
              "  <style>\n",
              "    .colab-df-container {\n",
              "      display:flex;\n",
              "      gap: 12px;\n",
              "    }\n",
              "\n",
              "    .colab-df-convert {\n",
              "      background-color: #E8F0FE;\n",
              "      border: none;\n",
              "      border-radius: 50%;\n",
              "      cursor: pointer;\n",
              "      display: none;\n",
              "      fill: #1967D2;\n",
              "      height: 32px;\n",
              "      padding: 0 0 0 0;\n",
              "      width: 32px;\n",
              "    }\n",
              "\n",
              "    .colab-df-convert:hover {\n",
              "      background-color: #E2EBFA;\n",
              "      box-shadow: 0px 1px 2px rgba(60, 64, 67, 0.3), 0px 1px 3px 1px rgba(60, 64, 67, 0.15);\n",
              "      fill: #174EA6;\n",
              "    }\n",
              "\n",
              "    .colab-df-buttons div {\n",
              "      margin-bottom: 4px;\n",
              "    }\n",
              "\n",
              "    [theme=dark] .colab-df-convert {\n",
              "      background-color: #3B4455;\n",
              "      fill: #D2E3FC;\n",
              "    }\n",
              "\n",
              "    [theme=dark] .colab-df-convert:hover {\n",
              "      background-color: #434B5C;\n",
              "      box-shadow: 0px 1px 3px 1px rgba(0, 0, 0, 0.15);\n",
              "      filter: drop-shadow(0px 1px 2px rgba(0, 0, 0, 0.3));\n",
              "      fill: #FFFFFF;\n",
              "    }\n",
              "  </style>\n",
              "\n",
              "    <script>\n",
              "      const buttonEl =\n",
              "        document.querySelector('#df-42d430bd-8fa7-42e5-b4e7-3dc402695ba7 button.colab-df-convert');\n",
              "      buttonEl.style.display =\n",
              "        google.colab.kernel.accessAllowed ? 'block' : 'none';\n",
              "\n",
              "      async function convertToInteractive(key) {\n",
              "        const element = document.querySelector('#df-42d430bd-8fa7-42e5-b4e7-3dc402695ba7');\n",
              "        const dataTable =\n",
              "          await google.colab.kernel.invokeFunction('convertToInteractive',\n",
              "                                                    [key], {});\n",
              "        if (!dataTable) return;\n",
              "\n",
              "        const docLinkHtml = 'Like what you see? Visit the ' +\n",
              "          '<a target=\"_blank\" href=https://colab.research.google.com/notebooks/data_table.ipynb>data table notebook</a>'\n",
              "          + ' to learn more about interactive tables.';\n",
              "        element.innerHTML = '';\n",
              "        dataTable['output_type'] = 'display_data';\n",
              "        await google.colab.output.renderOutput(dataTable, element);\n",
              "        const docLink = document.createElement('div');\n",
              "        docLink.innerHTML = docLinkHtml;\n",
              "        element.appendChild(docLink);\n",
              "      }\n",
              "    </script>\n",
              "  </div>\n",
              "\n",
              "\n",
              "    <div id=\"df-124210a3-4ce9-415c-a660-fe913433c6f5\">\n",
              "      <button class=\"colab-df-quickchart\" onclick=\"quickchart('df-124210a3-4ce9-415c-a660-fe913433c6f5')\"\n",
              "                title=\"Suggest charts\"\n",
              "                style=\"display:none;\">\n",
              "\n",
              "<svg xmlns=\"http://www.w3.org/2000/svg\" height=\"24px\"viewBox=\"0 0 24 24\"\n",
              "     width=\"24px\">\n",
              "    <g>\n",
              "        <path d=\"M19 3H5c-1.1 0-2 .9-2 2v14c0 1.1.9 2 2 2h14c1.1 0 2-.9 2-2V5c0-1.1-.9-2-2-2zM9 17H7v-7h2v7zm4 0h-2V7h2v10zm4 0h-2v-4h2v4z\"/>\n",
              "    </g>\n",
              "</svg>\n",
              "      </button>\n",
              "\n",
              "<style>\n",
              "  .colab-df-quickchart {\n",
              "      --bg-color: #E8F0FE;\n",
              "      --fill-color: #1967D2;\n",
              "      --hover-bg-color: #E2EBFA;\n",
              "      --hover-fill-color: #174EA6;\n",
              "      --disabled-fill-color: #AAA;\n",
              "      --disabled-bg-color: #DDD;\n",
              "  }\n",
              "\n",
              "  [theme=dark] .colab-df-quickchart {\n",
              "      --bg-color: #3B4455;\n",
              "      --fill-color: #D2E3FC;\n",
              "      --hover-bg-color: #434B5C;\n",
              "      --hover-fill-color: #FFFFFF;\n",
              "      --disabled-bg-color: #3B4455;\n",
              "      --disabled-fill-color: #666;\n",
              "  }\n",
              "\n",
              "  .colab-df-quickchart {\n",
              "    background-color: var(--bg-color);\n",
              "    border: none;\n",
              "    border-radius: 50%;\n",
              "    cursor: pointer;\n",
              "    display: none;\n",
              "    fill: var(--fill-color);\n",
              "    height: 32px;\n",
              "    padding: 0;\n",
              "    width: 32px;\n",
              "  }\n",
              "\n",
              "  .colab-df-quickchart:hover {\n",
              "    background-color: var(--hover-bg-color);\n",
              "    box-shadow: 0 1px 2px rgba(60, 64, 67, 0.3), 0 1px 3px 1px rgba(60, 64, 67, 0.15);\n",
              "    fill: var(--button-hover-fill-color);\n",
              "  }\n",
              "\n",
              "  .colab-df-quickchart-complete:disabled,\n",
              "  .colab-df-quickchart-complete:disabled:hover {\n",
              "    background-color: var(--disabled-bg-color);\n",
              "    fill: var(--disabled-fill-color);\n",
              "    box-shadow: none;\n",
              "  }\n",
              "\n",
              "  .colab-df-spinner {\n",
              "    border: 2px solid var(--fill-color);\n",
              "    border-color: transparent;\n",
              "    border-bottom-color: var(--fill-color);\n",
              "    animation:\n",
              "      spin 1s steps(1) infinite;\n",
              "  }\n",
              "\n",
              "  @keyframes spin {\n",
              "    0% {\n",
              "      border-color: transparent;\n",
              "      border-bottom-color: var(--fill-color);\n",
              "      border-left-color: var(--fill-color);\n",
              "    }\n",
              "    20% {\n",
              "      border-color: transparent;\n",
              "      border-left-color: var(--fill-color);\n",
              "      border-top-color: var(--fill-color);\n",
              "    }\n",
              "    30% {\n",
              "      border-color: transparent;\n",
              "      border-left-color: var(--fill-color);\n",
              "      border-top-color: var(--fill-color);\n",
              "      border-right-color: var(--fill-color);\n",
              "    }\n",
              "    40% {\n",
              "      border-color: transparent;\n",
              "      border-right-color: var(--fill-color);\n",
              "      border-top-color: var(--fill-color);\n",
              "    }\n",
              "    60% {\n",
              "      border-color: transparent;\n",
              "      border-right-color: var(--fill-color);\n",
              "    }\n",
              "    80% {\n",
              "      border-color: transparent;\n",
              "      border-right-color: var(--fill-color);\n",
              "      border-bottom-color: var(--fill-color);\n",
              "    }\n",
              "    90% {\n",
              "      border-color: transparent;\n",
              "      border-bottom-color: var(--fill-color);\n",
              "    }\n",
              "  }\n",
              "</style>\n",
              "\n",
              "      <script>\n",
              "        async function quickchart(key) {\n",
              "          const quickchartButtonEl =\n",
              "            document.querySelector('#' + key + ' button');\n",
              "          quickchartButtonEl.disabled = true;  // To prevent multiple clicks.\n",
              "          quickchartButtonEl.classList.add('colab-df-spinner');\n",
              "          try {\n",
              "            const charts = await google.colab.kernel.invokeFunction(\n",
              "                'suggestCharts', [key], {});\n",
              "          } catch (error) {\n",
              "            console.error('Error during call to suggestCharts:', error);\n",
              "          }\n",
              "          quickchartButtonEl.classList.remove('colab-df-spinner');\n",
              "          quickchartButtonEl.classList.add('colab-df-quickchart-complete');\n",
              "        }\n",
              "        (() => {\n",
              "          let quickchartButtonEl =\n",
              "            document.querySelector('#df-124210a3-4ce9-415c-a660-fe913433c6f5 button');\n",
              "          quickchartButtonEl.style.display =\n",
              "            google.colab.kernel.accessAllowed ? 'block' : 'none';\n",
              "        })();\n",
              "      </script>\n",
              "    </div>\n",
              "\n",
              "    </div>\n",
              "  </div>\n"
            ],
            "text/plain": [
              "                                          clean_text  sentiment  \\\n",
              "0  if you decide to eat here just be aware it is ...          1   \n",
              "1  a couple friends and i stopped by for some lat...          1   \n",
              "2  sometimes this food is very very good  unfortu...          1   \n",
              "3  after trying a few ramen places with crazy var...          1   \n",
              "4  great food terrible customer service ive been ...          1   \n",
              "\n",
              "                                          lemma_text  \\\n",
              "0  if you decide to eat here just be aware it be ...   \n",
              "1  a couple friend and i stop by for some late ni...   \n",
              "2  sometimes this food be very very good unfortun...   \n",
              "3  after try a few ramen place with crazy variety...   \n",
              "4  great food terrible customer service ive be th...   \n",
              "\n",
              "                                            pos_tags  \n",
              "0  [(if, IN), (you, PRP), (decide, VBP), (to, TO)...  \n",
              "1  [(a, DT), (couple, JJ), (friends, NNS), (and, ...  \n",
              "2  [(sometimes, RB), (this, DT), (food, NN), (is,...  \n",
              "3  [(after, IN), (trying, VBG), (a, DT), (few, JJ...  \n",
              "4  [(great, JJ), (food, NN), (terrible, JJ), (cus...  "
            ]
          },
          "execution_count": 20,
          "metadata": {},
          "output_type": "execute_result"
        }
      ],
      "source": [
        "df.head()"
      ]
    },
    {
      "cell_type": "code",
      "execution_count": null,
      "metadata": {
        "colab": {
          "base_uri": "https://localhost:8080/",
          "height": 206
        },
        "id": "v0Nn8fDsNiyV",
        "outputId": "05c54910-a21e-4ffc-c7d8-1cca835b4712"
      },
      "outputs": [
        {
          "data": {
            "application/vnd.google.colaboratory.intrinsic+json": {
              "summary": "{\n  \"name\": \"df[['clean_text','lemma_text','pos_tags','sentiment']]\",\n  \"rows\": 5,\n  \"fields\": [\n    {\n      \"column\": \"clean_text\",\n      \"properties\": {\n        \"dtype\": \"string\",\n        \"num_unique_values\": 5,\n        \"samples\": [\n          \"a couple friends and i stopped by for some late night milkshakes and found ourselves at more than just ice cream well we just got ice creamnot fully taking advantage of what the name implies but maybe next time\\n\\n milkshakes  coffee  chocolate and  blackwhite malt \\n\\nall were pretty good definitely satisfied the ice cream craving i thought my coffee milkshake could have been thicker same goes for the chocolate the blackwhite was plenty thick and was probably the best of the three unfortunately i did not order that one so i settled for my not so creamy coffee\\n\\ni did sample some ice cream flavors before setting on a milkshake i tried the pumpkin pie which was amazing i dont know why i didnt just get this maybe a milkshake isnt the way to go here\",\n          \"great food terrible customer service ive been three times and ive had two different older waitresses not pleasant to deal with whatsoever the owner on the other hand is lovely\",\n          \"sometimes this food is very very good  unfortunately its not consistent   ordered something ive been getting for years and every other time it tastes incredible its like they have different people in the kitchen and you dont know who you will get so   of the time its excellent  ugh\"\n        ],\n        \"semantic_type\": \"\",\n        \"description\": \"\"\n      }\n    },\n    {\n      \"column\": \"lemma_text\",\n      \"properties\": {\n        \"dtype\": \"string\",\n        \"num_unique_values\": 5,\n        \"samples\": [\n          \"a couple friend and i stop by for some late night milkshake and find ourselves at more than just ice cream well we just get ice creamnot fully take advantage of what the name implies but maybe next time milkshake coffee chocolate and blackwhite malt all be pretty good definitely satisfy the ice cream crave i think my coffee milkshake could have be thick same go for the chocolate the blackwhite be plenty thick and be probably the best of the three unfortunately i do not order that one so i settle for my not so creamy coffee i do sample some ice cream flavor before set on a milkshake i try the pumpkin pie which be amaze i dont know why i didnt just get this maybe a milkshake isnt the way to go here\",\n          \"great food terrible customer service ive be three time and ive have two different old waitress not pleasant to deal with whatsoever the owner on the other hand be lovely\",\n          \"sometimes this food be very very good unfortunately it not consistent order something ive be get for year and every other time it taste incredible it like they have different people in the kitchen and you dont know who you will get so of the time it excellent ugh\"\n        ],\n        \"semantic_type\": \"\",\n        \"description\": \"\"\n      }\n    },\n    {\n      \"column\": \"pos_tags\",\n      \"properties\": {\n        \"dtype\": \"object\",\n        \"semantic_type\": \"\",\n        \"description\": \"\"\n      }\n    },\n    {\n      \"column\": \"sentiment\",\n      \"properties\": {\n        \"dtype\": \"int32\",\n        \"num_unique_values\": 1,\n        \"samples\": [\n          1\n        ],\n        \"semantic_type\": \"\",\n        \"description\": \"\"\n      }\n    }\n  ]\n}",
              "type": "dataframe"
            },
            "text/html": [
              "\n",
              "  <div id=\"df-53255248-49ad-4744-a277-8e8af978612e\" class=\"colab-df-container\">\n",
              "    <div>\n",
              "<style scoped>\n",
              "    .dataframe tbody tr th:only-of-type {\n",
              "        vertical-align: middle;\n",
              "    }\n",
              "\n",
              "    .dataframe tbody tr th {\n",
              "        vertical-align: top;\n",
              "    }\n",
              "\n",
              "    .dataframe thead th {\n",
              "        text-align: right;\n",
              "    }\n",
              "</style>\n",
              "<table border=\"1\" class=\"dataframe\">\n",
              "  <thead>\n",
              "    <tr style=\"text-align: right;\">\n",
              "      <th></th>\n",
              "      <th>clean_text</th>\n",
              "      <th>lemma_text</th>\n",
              "      <th>pos_tags</th>\n",
              "      <th>sentiment</th>\n",
              "    </tr>\n",
              "  </thead>\n",
              "  <tbody>\n",
              "    <tr>\n",
              "      <th>0</th>\n",
              "      <td>if you decide to eat here just be aware it is ...</td>\n",
              "      <td>if you decide to eat here just be aware it be ...</td>\n",
              "      <td>[(if, IN), (you, PRP), (decide, VBP), (to, TO)...</td>\n",
              "      <td>1</td>\n",
              "    </tr>\n",
              "    <tr>\n",
              "      <th>1</th>\n",
              "      <td>a couple friends and i stopped by for some lat...</td>\n",
              "      <td>a couple friend and i stop by for some late ni...</td>\n",
              "      <td>[(a, DT), (couple, JJ), (friends, NNS), (and, ...</td>\n",
              "      <td>1</td>\n",
              "    </tr>\n",
              "    <tr>\n",
              "      <th>2</th>\n",
              "      <td>sometimes this food is very very good  unfortu...</td>\n",
              "      <td>sometimes this food be very very good unfortun...</td>\n",
              "      <td>[(sometimes, RB), (this, DT), (food, NN), (is,...</td>\n",
              "      <td>1</td>\n",
              "    </tr>\n",
              "    <tr>\n",
              "      <th>3</th>\n",
              "      <td>after trying a few ramen places with crazy var...</td>\n",
              "      <td>after try a few ramen place with crazy variety...</td>\n",
              "      <td>[(after, IN), (trying, VBG), (a, DT), (few, JJ...</td>\n",
              "      <td>1</td>\n",
              "    </tr>\n",
              "    <tr>\n",
              "      <th>4</th>\n",
              "      <td>great food terrible customer service ive been ...</td>\n",
              "      <td>great food terrible customer service ive be th...</td>\n",
              "      <td>[(great, JJ), (food, NN), (terrible, JJ), (cus...</td>\n",
              "      <td>1</td>\n",
              "    </tr>\n",
              "  </tbody>\n",
              "</table>\n",
              "</div>\n",
              "    <div class=\"colab-df-buttons\">\n",
              "\n",
              "  <div class=\"colab-df-container\">\n",
              "    <button class=\"colab-df-convert\" onclick=\"convertToInteractive('df-53255248-49ad-4744-a277-8e8af978612e')\"\n",
              "            title=\"Convert this dataframe to an interactive table.\"\n",
              "            style=\"display:none;\">\n",
              "\n",
              "  <svg xmlns=\"http://www.w3.org/2000/svg\" height=\"24px\" viewBox=\"0 -960 960 960\">\n",
              "    <path d=\"M120-120v-720h720v720H120Zm60-500h600v-160H180v160Zm220 220h160v-160H400v160Zm0 220h160v-160H400v160ZM180-400h160v-160H180v160Zm440 0h160v-160H620v160ZM180-180h160v-160H180v160Zm440 0h160v-160H620v160Z\"/>\n",
              "  </svg>\n",
              "    </button>\n",
              "\n",
              "  <style>\n",
              "    .colab-df-container {\n",
              "      display:flex;\n",
              "      gap: 12px;\n",
              "    }\n",
              "\n",
              "    .colab-df-convert {\n",
              "      background-color: #E8F0FE;\n",
              "      border: none;\n",
              "      border-radius: 50%;\n",
              "      cursor: pointer;\n",
              "      display: none;\n",
              "      fill: #1967D2;\n",
              "      height: 32px;\n",
              "      padding: 0 0 0 0;\n",
              "      width: 32px;\n",
              "    }\n",
              "\n",
              "    .colab-df-convert:hover {\n",
              "      background-color: #E2EBFA;\n",
              "      box-shadow: 0px 1px 2px rgba(60, 64, 67, 0.3), 0px 1px 3px 1px rgba(60, 64, 67, 0.15);\n",
              "      fill: #174EA6;\n",
              "    }\n",
              "\n",
              "    .colab-df-buttons div {\n",
              "      margin-bottom: 4px;\n",
              "    }\n",
              "\n",
              "    [theme=dark] .colab-df-convert {\n",
              "      background-color: #3B4455;\n",
              "      fill: #D2E3FC;\n",
              "    }\n",
              "\n",
              "    [theme=dark] .colab-df-convert:hover {\n",
              "      background-color: #434B5C;\n",
              "      box-shadow: 0px 1px 3px 1px rgba(0, 0, 0, 0.15);\n",
              "      filter: drop-shadow(0px 1px 2px rgba(0, 0, 0, 0.3));\n",
              "      fill: #FFFFFF;\n",
              "    }\n",
              "  </style>\n",
              "\n",
              "    <script>\n",
              "      const buttonEl =\n",
              "        document.querySelector('#df-53255248-49ad-4744-a277-8e8af978612e button.colab-df-convert');\n",
              "      buttonEl.style.display =\n",
              "        google.colab.kernel.accessAllowed ? 'block' : 'none';\n",
              "\n",
              "      async function convertToInteractive(key) {\n",
              "        const element = document.querySelector('#df-53255248-49ad-4744-a277-8e8af978612e');\n",
              "        const dataTable =\n",
              "          await google.colab.kernel.invokeFunction('convertToInteractive',\n",
              "                                                    [key], {});\n",
              "        if (!dataTable) return;\n",
              "\n",
              "        const docLinkHtml = 'Like what you see? Visit the ' +\n",
              "          '<a target=\"_blank\" href=https://colab.research.google.com/notebooks/data_table.ipynb>data table notebook</a>'\n",
              "          + ' to learn more about interactive tables.';\n",
              "        element.innerHTML = '';\n",
              "        dataTable['output_type'] = 'display_data';\n",
              "        await google.colab.output.renderOutput(dataTable, element);\n",
              "        const docLink = document.createElement('div');\n",
              "        docLink.innerHTML = docLinkHtml;\n",
              "        element.appendChild(docLink);\n",
              "      }\n",
              "    </script>\n",
              "  </div>\n",
              "\n",
              "\n",
              "    <div id=\"df-dec807ac-1414-42c1-a353-2dfea23d7feb\">\n",
              "      <button class=\"colab-df-quickchart\" onclick=\"quickchart('df-dec807ac-1414-42c1-a353-2dfea23d7feb')\"\n",
              "                title=\"Suggest charts\"\n",
              "                style=\"display:none;\">\n",
              "\n",
              "<svg xmlns=\"http://www.w3.org/2000/svg\" height=\"24px\"viewBox=\"0 0 24 24\"\n",
              "     width=\"24px\">\n",
              "    <g>\n",
              "        <path d=\"M19 3H5c-1.1 0-2 .9-2 2v14c0 1.1.9 2 2 2h14c1.1 0 2-.9 2-2V5c0-1.1-.9-2-2-2zM9 17H7v-7h2v7zm4 0h-2V7h2v10zm4 0h-2v-4h2v4z\"/>\n",
              "    </g>\n",
              "</svg>\n",
              "      </button>\n",
              "\n",
              "<style>\n",
              "  .colab-df-quickchart {\n",
              "      --bg-color: #E8F0FE;\n",
              "      --fill-color: #1967D2;\n",
              "      --hover-bg-color: #E2EBFA;\n",
              "      --hover-fill-color: #174EA6;\n",
              "      --disabled-fill-color: #AAA;\n",
              "      --disabled-bg-color: #DDD;\n",
              "  }\n",
              "\n",
              "  [theme=dark] .colab-df-quickchart {\n",
              "      --bg-color: #3B4455;\n",
              "      --fill-color: #D2E3FC;\n",
              "      --hover-bg-color: #434B5C;\n",
              "      --hover-fill-color: #FFFFFF;\n",
              "      --disabled-bg-color: #3B4455;\n",
              "      --disabled-fill-color: #666;\n",
              "  }\n",
              "\n",
              "  .colab-df-quickchart {\n",
              "    background-color: var(--bg-color);\n",
              "    border: none;\n",
              "    border-radius: 50%;\n",
              "    cursor: pointer;\n",
              "    display: none;\n",
              "    fill: var(--fill-color);\n",
              "    height: 32px;\n",
              "    padding: 0;\n",
              "    width: 32px;\n",
              "  }\n",
              "\n",
              "  .colab-df-quickchart:hover {\n",
              "    background-color: var(--hover-bg-color);\n",
              "    box-shadow: 0 1px 2px rgba(60, 64, 67, 0.3), 0 1px 3px 1px rgba(60, 64, 67, 0.15);\n",
              "    fill: var(--button-hover-fill-color);\n",
              "  }\n",
              "\n",
              "  .colab-df-quickchart-complete:disabled,\n",
              "  .colab-df-quickchart-complete:disabled:hover {\n",
              "    background-color: var(--disabled-bg-color);\n",
              "    fill: var(--disabled-fill-color);\n",
              "    box-shadow: none;\n",
              "  }\n",
              "\n",
              "  .colab-df-spinner {\n",
              "    border: 2px solid var(--fill-color);\n",
              "    border-color: transparent;\n",
              "    border-bottom-color: var(--fill-color);\n",
              "    animation:\n",
              "      spin 1s steps(1) infinite;\n",
              "  }\n",
              "\n",
              "  @keyframes spin {\n",
              "    0% {\n",
              "      border-color: transparent;\n",
              "      border-bottom-color: var(--fill-color);\n",
              "      border-left-color: var(--fill-color);\n",
              "    }\n",
              "    20% {\n",
              "      border-color: transparent;\n",
              "      border-left-color: var(--fill-color);\n",
              "      border-top-color: var(--fill-color);\n",
              "    }\n",
              "    30% {\n",
              "      border-color: transparent;\n",
              "      border-left-color: var(--fill-color);\n",
              "      border-top-color: var(--fill-color);\n",
              "      border-right-color: var(--fill-color);\n",
              "    }\n",
              "    40% {\n",
              "      border-color: transparent;\n",
              "      border-right-color: var(--fill-color);\n",
              "      border-top-color: var(--fill-color);\n",
              "    }\n",
              "    60% {\n",
              "      border-color: transparent;\n",
              "      border-right-color: var(--fill-color);\n",
              "    }\n",
              "    80% {\n",
              "      border-color: transparent;\n",
              "      border-right-color: var(--fill-color);\n",
              "      border-bottom-color: var(--fill-color);\n",
              "    }\n",
              "    90% {\n",
              "      border-color: transparent;\n",
              "      border-bottom-color: var(--fill-color);\n",
              "    }\n",
              "  }\n",
              "</style>\n",
              "\n",
              "      <script>\n",
              "        async function quickchart(key) {\n",
              "          const quickchartButtonEl =\n",
              "            document.querySelector('#' + key + ' button');\n",
              "          quickchartButtonEl.disabled = true;  // To prevent multiple clicks.\n",
              "          quickchartButtonEl.classList.add('colab-df-spinner');\n",
              "          try {\n",
              "            const charts = await google.colab.kernel.invokeFunction(\n",
              "                'suggestCharts', [key], {});\n",
              "          } catch (error) {\n",
              "            console.error('Error during call to suggestCharts:', error);\n",
              "          }\n",
              "          quickchartButtonEl.classList.remove('colab-df-spinner');\n",
              "          quickchartButtonEl.classList.add('colab-df-quickchart-complete');\n",
              "        }\n",
              "        (() => {\n",
              "          let quickchartButtonEl =\n",
              "            document.querySelector('#df-dec807ac-1414-42c1-a353-2dfea23d7feb button');\n",
              "          quickchartButtonEl.style.display =\n",
              "            google.colab.kernel.accessAllowed ? 'block' : 'none';\n",
              "        })();\n",
              "      </script>\n",
              "    </div>\n",
              "\n",
              "    </div>\n",
              "  </div>\n"
            ],
            "text/plain": [
              "                                          clean_text  \\\n",
              "0  if you decide to eat here just be aware it is ...   \n",
              "1  a couple friends and i stopped by for some lat...   \n",
              "2  sometimes this food is very very good  unfortu...   \n",
              "3  after trying a few ramen places with crazy var...   \n",
              "4  great food terrible customer service ive been ...   \n",
              "\n",
              "                                          lemma_text  \\\n",
              "0  if you decide to eat here just be aware it be ...   \n",
              "1  a couple friend and i stop by for some late ni...   \n",
              "2  sometimes this food be very very good unfortun...   \n",
              "3  after try a few ramen place with crazy variety...   \n",
              "4  great food terrible customer service ive be th...   \n",
              "\n",
              "                                            pos_tags  sentiment  \n",
              "0  [(if, IN), (you, PRP), (decide, VBP), (to, TO)...          1  \n",
              "1  [(a, DT), (couple, JJ), (friends, NNS), (and, ...          1  \n",
              "2  [(sometimes, RB), (this, DT), (food, NN), (is,...          1  \n",
              "3  [(after, IN), (trying, VBG), (a, DT), (few, JJ...          1  \n",
              "4  [(great, JJ), (food, NN), (terrible, JJ), (cus...          1  "
            ]
          },
          "execution_count": 22,
          "metadata": {},
          "output_type": "execute_result"
        }
      ],
      "source": [
        "df[['clean_text','lemma_text','pos_tags','sentiment']].head(5)"
      ]
    },
    {
      "cell_type": "code",
      "execution_count": null,
      "metadata": {
        "id": "saJkEgEmO-Da"
      },
      "outputs": [],
      "source": [
        "df[['clean_text','lemma_text','pos_tags','sentiment']].to_parquet('/content/drive/MyDrive/svm_data_pa_preprocessing/svm_data_preprocessed.parquet')"
      ]
    },
    {
      "cell_type": "markdown",
      "metadata": {},
      "source": [
        "**Data lemmetization full**"
      ]
    },
    {
      "cell_type": "code",
      "execution_count": 10,
      "metadata": {},
      "outputs": [
        {
          "name": "stderr",
          "output_type": "stream",
          "text": [
            "/home/parasite/.pyenv/versions/3.10.13/lib/python3.10/site-packages/spacy/util.py:910: UserWarning: [W095] Model 'en_core_web_sm' (3.8.0) was trained with spaCy v3.8.0 and may not be 100% compatible with the current version (3.7.2). If you see errors or degraded performance, download a newer compatible model or retrain your custom model with the current spaCy version. For more details and available updates, run: python -m spacy validate\n",
            "  warnings.warn(warn_msg)\n"
          ]
        }
      ],
      "source": [
        "nlp = spacy.load(\"en_core_web_sm\", disable=[\"ner\", \"parser\"])\n",
        "nlp.max_length = 3_000_000\n",
        "\n",
        "texts = df[\"clean_text\"].tolist()\n",
        "docs = nlp.pipe(texts, n_process=12, batch_size=1000)"
      ]
    },
    {
      "cell_type": "code",
      "execution_count": null,
      "metadata": {},
      "outputs": [
        {
          "name": "stderr",
          "output_type": "stream",
          "text": [
            "50000it [01:59, 420.13it/s] \n",
            "/tmp/ipykernel_10631/4243060105.py:7: SettingWithCopyWarning: \n",
            "A value is trying to be set on a copy of a slice from a DataFrame.\n",
            "Try using .loc[row_indexer,col_indexer] = value instead\n",
            "\n",
            "See the caveats in the documentation: https://pandas.pydata.org/pandas-docs/stable/user_guide/indexing.html#returning-a-view-versus-a-copy\n",
            "  chunk[\"lemma_text\"] = [\n"
          ]
        },
        {
          "name": "stdout",
          "output_type": "stream",
          "text": [
            "Saved 0-50000\n"
          ]
        },
        {
          "name": "stderr",
          "output_type": "stream",
          "text": [
            "50000it [01:57, 426.75it/s] \n",
            "/tmp/ipykernel_10631/4243060105.py:7: SettingWithCopyWarning: \n",
            "A value is trying to be set on a copy of a slice from a DataFrame.\n",
            "Try using .loc[row_indexer,col_indexer] = value instead\n",
            "\n",
            "See the caveats in the documentation: https://pandas.pydata.org/pandas-docs/stable/user_guide/indexing.html#returning-a-view-versus-a-copy\n",
            "  chunk[\"lemma_text\"] = [\n"
          ]
        },
        {
          "name": "stdout",
          "output_type": "stream",
          "text": [
            "Saved 50000-100000\n"
          ]
        },
        {
          "name": "stderr",
          "output_type": "stream",
          "text": [
            "50000it [01:50, 450.67it/s] \n",
            "/tmp/ipykernel_10631/4243060105.py:7: SettingWithCopyWarning: \n",
            "A value is trying to be set on a copy of a slice from a DataFrame.\n",
            "Try using .loc[row_indexer,col_indexer] = value instead\n",
            "\n",
            "See the caveats in the documentation: https://pandas.pydata.org/pandas-docs/stable/user_guide/indexing.html#returning-a-view-versus-a-copy\n",
            "  chunk[\"lemma_text\"] = [\n"
          ]
        },
        {
          "name": "stdout",
          "output_type": "stream",
          "text": [
            "Saved 100000-150000\n"
          ]
        },
        {
          "name": "stderr",
          "output_type": "stream",
          "text": [
            "50000it [01:48, 459.06it/s] \n",
            "/tmp/ipykernel_10631/4243060105.py:7: SettingWithCopyWarning: \n",
            "A value is trying to be set on a copy of a slice from a DataFrame.\n",
            "Try using .loc[row_indexer,col_indexer] = value instead\n",
            "\n",
            "See the caveats in the documentation: https://pandas.pydata.org/pandas-docs/stable/user_guide/indexing.html#returning-a-view-versus-a-copy\n",
            "  chunk[\"lemma_text\"] = [\n"
          ]
        },
        {
          "name": "stdout",
          "output_type": "stream",
          "text": [
            "Saved 150000-200000\n"
          ]
        },
        {
          "name": "stderr",
          "output_type": "stream",
          "text": [
            "50000it [01:57, 423.91it/s] \n",
            "/tmp/ipykernel_10631/4243060105.py:7: SettingWithCopyWarning: \n",
            "A value is trying to be set on a copy of a slice from a DataFrame.\n",
            "Try using .loc[row_indexer,col_indexer] = value instead\n",
            "\n",
            "See the caveats in the documentation: https://pandas.pydata.org/pandas-docs/stable/user_guide/indexing.html#returning-a-view-versus-a-copy\n",
            "  chunk[\"lemma_text\"] = [\n"
          ]
        },
        {
          "name": "stdout",
          "output_type": "stream",
          "text": [
            "Saved 200000-250000\n"
          ]
        },
        {
          "name": "stderr",
          "output_type": "stream",
          "text": [
            "50000it [01:56, 428.05it/s] \n",
            "/tmp/ipykernel_10631/4243060105.py:7: SettingWithCopyWarning: \n",
            "A value is trying to be set on a copy of a slice from a DataFrame.\n",
            "Try using .loc[row_indexer,col_indexer] = value instead\n",
            "\n",
            "See the caveats in the documentation: https://pandas.pydata.org/pandas-docs/stable/user_guide/indexing.html#returning-a-view-versus-a-copy\n",
            "  chunk[\"lemma_text\"] = [\n"
          ]
        },
        {
          "name": "stdout",
          "output_type": "stream",
          "text": [
            "Saved 250000-300000\n"
          ]
        },
        {
          "name": "stderr",
          "output_type": "stream",
          "text": [
            "50000it [01:54, 436.30it/s] \n",
            "/tmp/ipykernel_10631/4243060105.py:7: SettingWithCopyWarning: \n",
            "A value is trying to be set on a copy of a slice from a DataFrame.\n",
            "Try using .loc[row_indexer,col_indexer] = value instead\n",
            "\n",
            "See the caveats in the documentation: https://pandas.pydata.org/pandas-docs/stable/user_guide/indexing.html#returning-a-view-versus-a-copy\n",
            "  chunk[\"lemma_text\"] = [\n"
          ]
        },
        {
          "name": "stdout",
          "output_type": "stream",
          "text": [
            "Saved 300000-350000\n"
          ]
        },
        {
          "name": "stderr",
          "output_type": "stream",
          "text": [
            "50000it [01:49, 456.85it/s] \n",
            "/tmp/ipykernel_10631/4243060105.py:7: SettingWithCopyWarning: \n",
            "A value is trying to be set on a copy of a slice from a DataFrame.\n",
            "Try using .loc[row_indexer,col_indexer] = value instead\n",
            "\n",
            "See the caveats in the documentation: https://pandas.pydata.org/pandas-docs/stable/user_guide/indexing.html#returning-a-view-versus-a-copy\n",
            "  chunk[\"lemma_text\"] = [\n"
          ]
        },
        {
          "name": "stdout",
          "output_type": "stream",
          "text": [
            "Saved 350000-400000\n"
          ]
        },
        {
          "name": "stderr",
          "output_type": "stream",
          "text": [
            "50000it [01:58, 420.91it/s] \n",
            "/tmp/ipykernel_10631/4243060105.py:7: SettingWithCopyWarning: \n",
            "A value is trying to be set on a copy of a slice from a DataFrame.\n",
            "Try using .loc[row_indexer,col_indexer] = value instead\n",
            "\n",
            "See the caveats in the documentation: https://pandas.pydata.org/pandas-docs/stable/user_guide/indexing.html#returning-a-view-versus-a-copy\n",
            "  chunk[\"lemma_text\"] = [\n"
          ]
        },
        {
          "name": "stdout",
          "output_type": "stream",
          "text": [
            "Saved 400000-450000\n"
          ]
        },
        {
          "name": "stderr",
          "output_type": "stream",
          "text": [
            "50000it [01:51, 446.49it/s] \n",
            "/tmp/ipykernel_10631/4243060105.py:7: SettingWithCopyWarning: \n",
            "A value is trying to be set on a copy of a slice from a DataFrame.\n",
            "Try using .loc[row_indexer,col_indexer] = value instead\n",
            "\n",
            "See the caveats in the documentation: https://pandas.pydata.org/pandas-docs/stable/user_guide/indexing.html#returning-a-view-versus-a-copy\n",
            "  chunk[\"lemma_text\"] = [\n"
          ]
        },
        {
          "name": "stdout",
          "output_type": "stream",
          "text": [
            "Saved 450000-500000\n"
          ]
        },
        {
          "name": "stderr",
          "output_type": "stream",
          "text": [
            "50000it [01:49, 455.99it/s] \n",
            "/tmp/ipykernel_10631/4243060105.py:7: SettingWithCopyWarning: \n",
            "A value is trying to be set on a copy of a slice from a DataFrame.\n",
            "Try using .loc[row_indexer,col_indexer] = value instead\n",
            "\n",
            "See the caveats in the documentation: https://pandas.pydata.org/pandas-docs/stable/user_guide/indexing.html#returning-a-view-versus-a-copy\n",
            "  chunk[\"lemma_text\"] = [\n"
          ]
        },
        {
          "name": "stdout",
          "output_type": "stream",
          "text": [
            "Saved 500000-550000\n"
          ]
        },
        {
          "name": "stderr",
          "output_type": "stream",
          "text": [
            "50000it [01:51, 449.72it/s] \n",
            "/tmp/ipykernel_10631/4243060105.py:7: SettingWithCopyWarning: \n",
            "A value is trying to be set on a copy of a slice from a DataFrame.\n",
            "Try using .loc[row_indexer,col_indexer] = value instead\n",
            "\n",
            "See the caveats in the documentation: https://pandas.pydata.org/pandas-docs/stable/user_guide/indexing.html#returning-a-view-versus-a-copy\n",
            "  chunk[\"lemma_text\"] = [\n"
          ]
        },
        {
          "name": "stdout",
          "output_type": "stream",
          "text": [
            "Saved 550000-600000\n"
          ]
        },
        {
          "name": "stderr",
          "output_type": "stream",
          "text": [
            "50000it [01:51, 446.92it/s] \n",
            "/tmp/ipykernel_10631/4243060105.py:7: SettingWithCopyWarning: \n",
            "A value is trying to be set on a copy of a slice from a DataFrame.\n",
            "Try using .loc[row_indexer,col_indexer] = value instead\n",
            "\n",
            "See the caveats in the documentation: https://pandas.pydata.org/pandas-docs/stable/user_guide/indexing.html#returning-a-view-versus-a-copy\n",
            "  chunk[\"lemma_text\"] = [\n"
          ]
        },
        {
          "name": "stdout",
          "output_type": "stream",
          "text": [
            "Saved 600000-650000\n"
          ]
        },
        {
          "name": "stderr",
          "output_type": "stream",
          "text": [
            "50000it [01:52, 445.91it/s] \n",
            "/tmp/ipykernel_10631/4243060105.py:7: SettingWithCopyWarning: \n",
            "A value is trying to be set on a copy of a slice from a DataFrame.\n",
            "Try using .loc[row_indexer,col_indexer] = value instead\n",
            "\n",
            "See the caveats in the documentation: https://pandas.pydata.org/pandas-docs/stable/user_guide/indexing.html#returning-a-view-versus-a-copy\n",
            "  chunk[\"lemma_text\"] = [\n"
          ]
        },
        {
          "name": "stdout",
          "output_type": "stream",
          "text": [
            "Saved 650000-700000\n"
          ]
        },
        {
          "name": "stderr",
          "output_type": "stream",
          "text": [
            "50000it [01:52, 445.27it/s] \n",
            "/tmp/ipykernel_10631/4243060105.py:7: SettingWithCopyWarning: \n",
            "A value is trying to be set on a copy of a slice from a DataFrame.\n",
            "Try using .loc[row_indexer,col_indexer] = value instead\n",
            "\n",
            "See the caveats in the documentation: https://pandas.pydata.org/pandas-docs/stable/user_guide/indexing.html#returning-a-view-versus-a-copy\n",
            "  chunk[\"lemma_text\"] = [\n"
          ]
        },
        {
          "name": "stdout",
          "output_type": "stream",
          "text": [
            "Saved 700000-750000\n"
          ]
        },
        {
          "name": "stderr",
          "output_type": "stream",
          "text": [
            "50000it [01:47, 465.29it/s] \n",
            "/tmp/ipykernel_10631/4243060105.py:7: SettingWithCopyWarning: \n",
            "A value is trying to be set on a copy of a slice from a DataFrame.\n",
            "Try using .loc[row_indexer,col_indexer] = value instead\n",
            "\n",
            "See the caveats in the documentation: https://pandas.pydata.org/pandas-docs/stable/user_guide/indexing.html#returning-a-view-versus-a-copy\n",
            "  chunk[\"lemma_text\"] = [\n"
          ]
        },
        {
          "name": "stdout",
          "output_type": "stream",
          "text": [
            "Saved 750000-800000\n"
          ]
        },
        {
          "name": "stderr",
          "output_type": "stream",
          "text": [
            "50000it [01:48, 461.96it/s] \n",
            "/tmp/ipykernel_10631/4243060105.py:7: SettingWithCopyWarning: \n",
            "A value is trying to be set on a copy of a slice from a DataFrame.\n",
            "Try using .loc[row_indexer,col_indexer] = value instead\n",
            "\n",
            "See the caveats in the documentation: https://pandas.pydata.org/pandas-docs/stable/user_guide/indexing.html#returning-a-view-versus-a-copy\n",
            "  chunk[\"lemma_text\"] = [\n"
          ]
        },
        {
          "name": "stdout",
          "output_type": "stream",
          "text": [
            "Saved 800000-850000\n"
          ]
        },
        {
          "name": "stderr",
          "output_type": "stream",
          "text": [
            "50000it [01:50, 454.37it/s] \n",
            "/tmp/ipykernel_10631/4243060105.py:7: SettingWithCopyWarning: \n",
            "A value is trying to be set on a copy of a slice from a DataFrame.\n",
            "Try using .loc[row_indexer,col_indexer] = value instead\n",
            "\n",
            "See the caveats in the documentation: https://pandas.pydata.org/pandas-docs/stable/user_guide/indexing.html#returning-a-view-versus-a-copy\n",
            "  chunk[\"lemma_text\"] = [\n"
          ]
        },
        {
          "name": "stdout",
          "output_type": "stream",
          "text": [
            "Saved 850000-900000\n"
          ]
        },
        {
          "name": "stderr",
          "output_type": "stream",
          "text": [
            "50000it [01:59, 420.01it/s] \n",
            "/tmp/ipykernel_10631/4243060105.py:7: SettingWithCopyWarning: \n",
            "A value is trying to be set on a copy of a slice from a DataFrame.\n",
            "Try using .loc[row_indexer,col_indexer] = value instead\n",
            "\n",
            "See the caveats in the documentation: https://pandas.pydata.org/pandas-docs/stable/user_guide/indexing.html#returning-a-view-versus-a-copy\n",
            "  chunk[\"lemma_text\"] = [\n"
          ]
        },
        {
          "name": "stdout",
          "output_type": "stream",
          "text": [
            "Saved 900000-950000\n"
          ]
        },
        {
          "name": "stderr",
          "output_type": "stream",
          "text": [
            "50000it [01:56, 427.42it/s] \n",
            "/tmp/ipykernel_10631/4243060105.py:7: SettingWithCopyWarning: \n",
            "A value is trying to be set on a copy of a slice from a DataFrame.\n",
            "Try using .loc[row_indexer,col_indexer] = value instead\n",
            "\n",
            "See the caveats in the documentation: https://pandas.pydata.org/pandas-docs/stable/user_guide/indexing.html#returning-a-view-versus-a-copy\n",
            "  chunk[\"lemma_text\"] = [\n"
          ]
        },
        {
          "name": "stdout",
          "output_type": "stream",
          "text": [
            "Saved 950000-1000000\n"
          ]
        },
        {
          "name": "stderr",
          "output_type": "stream",
          "text": [
            "50000it [01:59, 416.69it/s] \n",
            "/tmp/ipykernel_10631/4243060105.py:7: SettingWithCopyWarning: \n",
            "A value is trying to be set on a copy of a slice from a DataFrame.\n",
            "Try using .loc[row_indexer,col_indexer] = value instead\n",
            "\n",
            "See the caveats in the documentation: https://pandas.pydata.org/pandas-docs/stable/user_guide/indexing.html#returning-a-view-versus-a-copy\n",
            "  chunk[\"lemma_text\"] = [\n"
          ]
        },
        {
          "name": "stdout",
          "output_type": "stream",
          "text": [
            "Saved 1000000-1050000\n"
          ]
        },
        {
          "name": "stderr",
          "output_type": "stream",
          "text": [
            "50000it [01:53, 439.81it/s] \n",
            "/tmp/ipykernel_10631/4243060105.py:7: SettingWithCopyWarning: \n",
            "A value is trying to be set on a copy of a slice from a DataFrame.\n",
            "Try using .loc[row_indexer,col_indexer] = value instead\n",
            "\n",
            "See the caveats in the documentation: https://pandas.pydata.org/pandas-docs/stable/user_guide/indexing.html#returning-a-view-versus-a-copy\n",
            "  chunk[\"lemma_text\"] = [\n"
          ]
        },
        {
          "name": "stdout",
          "output_type": "stream",
          "text": [
            "Saved 1050000-1100000\n"
          ]
        },
        {
          "name": "stderr",
          "output_type": "stream",
          "text": [
            "50000it [01:49, 457.01it/s] \n",
            "/tmp/ipykernel_10631/4243060105.py:7: SettingWithCopyWarning: \n",
            "A value is trying to be set on a copy of a slice from a DataFrame.\n",
            "Try using .loc[row_indexer,col_indexer] = value instead\n",
            "\n",
            "See the caveats in the documentation: https://pandas.pydata.org/pandas-docs/stable/user_guide/indexing.html#returning-a-view-versus-a-copy\n",
            "  chunk[\"lemma_text\"] = [\n"
          ]
        },
        {
          "name": "stdout",
          "output_type": "stream",
          "text": [
            "Saved 1100000-1150000\n"
          ]
        },
        {
          "name": "stderr",
          "output_type": "stream",
          "text": [
            "50000it [01:49, 454.93it/s] \n",
            "/tmp/ipykernel_10631/4243060105.py:7: SettingWithCopyWarning: \n",
            "A value is trying to be set on a copy of a slice from a DataFrame.\n",
            "Try using .loc[row_indexer,col_indexer] = value instead\n",
            "\n",
            "See the caveats in the documentation: https://pandas.pydata.org/pandas-docs/stable/user_guide/indexing.html#returning-a-view-versus-a-copy\n",
            "  chunk[\"lemma_text\"] = [\n"
          ]
        },
        {
          "name": "stdout",
          "output_type": "stream",
          "text": [
            "Saved 1150000-1200000\n"
          ]
        },
        {
          "name": "stderr",
          "output_type": "stream",
          "text": [
            "50000it [01:48, 461.05it/s] \n",
            "/tmp/ipykernel_10631/4243060105.py:7: SettingWithCopyWarning: \n",
            "A value is trying to be set on a copy of a slice from a DataFrame.\n",
            "Try using .loc[row_indexer,col_indexer] = value instead\n",
            "\n",
            "See the caveats in the documentation: https://pandas.pydata.org/pandas-docs/stable/user_guide/indexing.html#returning-a-view-versus-a-copy\n",
            "  chunk[\"lemma_text\"] = [\n"
          ]
        },
        {
          "name": "stdout",
          "output_type": "stream",
          "text": [
            "Saved 1200000-1250000\n"
          ]
        },
        {
          "name": "stderr",
          "output_type": "stream",
          "text": [
            "50000it [01:47, 463.24it/s] \n",
            "/tmp/ipykernel_10631/4243060105.py:7: SettingWithCopyWarning: \n",
            "A value is trying to be set on a copy of a slice from a DataFrame.\n",
            "Try using .loc[row_indexer,col_indexer] = value instead\n",
            "\n",
            "See the caveats in the documentation: https://pandas.pydata.org/pandas-docs/stable/user_guide/indexing.html#returning-a-view-versus-a-copy\n",
            "  chunk[\"lemma_text\"] = [\n"
          ]
        },
        {
          "name": "stdout",
          "output_type": "stream",
          "text": [
            "Saved 1250000-1300000\n"
          ]
        },
        {
          "name": "stderr",
          "output_type": "stream",
          "text": [
            "50000it [01:44, 476.47it/s] \n",
            "/tmp/ipykernel_10631/4243060105.py:7: SettingWithCopyWarning: \n",
            "A value is trying to be set on a copy of a slice from a DataFrame.\n",
            "Try using .loc[row_indexer,col_indexer] = value instead\n",
            "\n",
            "See the caveats in the documentation: https://pandas.pydata.org/pandas-docs/stable/user_guide/indexing.html#returning-a-view-versus-a-copy\n",
            "  chunk[\"lemma_text\"] = [\n"
          ]
        },
        {
          "name": "stdout",
          "output_type": "stream",
          "text": [
            "Saved 1300000-1350000\n"
          ]
        },
        {
          "name": "stderr",
          "output_type": "stream",
          "text": [
            "50000it [01:47, 467.04it/s] \n",
            "/tmp/ipykernel_10631/4243060105.py:7: SettingWithCopyWarning: \n",
            "A value is trying to be set on a copy of a slice from a DataFrame.\n",
            "Try using .loc[row_indexer,col_indexer] = value instead\n",
            "\n",
            "See the caveats in the documentation: https://pandas.pydata.org/pandas-docs/stable/user_guide/indexing.html#returning-a-view-versus-a-copy\n",
            "  chunk[\"lemma_text\"] = [\n"
          ]
        },
        {
          "name": "stdout",
          "output_type": "stream",
          "text": [
            "Saved 1350000-1400000\n"
          ]
        },
        {
          "name": "stderr",
          "output_type": "stream",
          "text": [
            "50000it [01:58, 423.61it/s] \n",
            "/tmp/ipykernel_10631/4243060105.py:7: SettingWithCopyWarning: \n",
            "A value is trying to be set on a copy of a slice from a DataFrame.\n",
            "Try using .loc[row_indexer,col_indexer] = value instead\n",
            "\n",
            "See the caveats in the documentation: https://pandas.pydata.org/pandas-docs/stable/user_guide/indexing.html#returning-a-view-versus-a-copy\n",
            "  chunk[\"lemma_text\"] = [\n"
          ]
        },
        {
          "name": "stdout",
          "output_type": "stream",
          "text": [
            "Saved 1400000-1450000\n"
          ]
        },
        {
          "name": "stderr",
          "output_type": "stream",
          "text": [
            "50000it [01:46, 469.41it/s] \n",
            "/tmp/ipykernel_10631/4243060105.py:7: SettingWithCopyWarning: \n",
            "A value is trying to be set on a copy of a slice from a DataFrame.\n",
            "Try using .loc[row_indexer,col_indexer] = value instead\n",
            "\n",
            "See the caveats in the documentation: https://pandas.pydata.org/pandas-docs/stable/user_guide/indexing.html#returning-a-view-versus-a-copy\n",
            "  chunk[\"lemma_text\"] = [\n"
          ]
        },
        {
          "name": "stdout",
          "output_type": "stream",
          "text": [
            "Saved 1450000-1500000\n"
          ]
        },
        {
          "name": "stderr",
          "output_type": "stream",
          "text": [
            "50000it [01:45, 472.11it/s] \n",
            "/tmp/ipykernel_10631/4243060105.py:7: SettingWithCopyWarning: \n",
            "A value is trying to be set on a copy of a slice from a DataFrame.\n",
            "Try using .loc[row_indexer,col_indexer] = value instead\n",
            "\n",
            "See the caveats in the documentation: https://pandas.pydata.org/pandas-docs/stable/user_guide/indexing.html#returning-a-view-versus-a-copy\n",
            "  chunk[\"lemma_text\"] = [\n"
          ]
        },
        {
          "name": "stdout",
          "output_type": "stream",
          "text": [
            "Saved 1500000-1550000\n"
          ]
        },
        {
          "name": "stderr",
          "output_type": "stream",
          "text": [
            "50000it [01:46, 470.24it/s] \n",
            "/tmp/ipykernel_10631/4243060105.py:7: SettingWithCopyWarning: \n",
            "A value is trying to be set on a copy of a slice from a DataFrame.\n",
            "Try using .loc[row_indexer,col_indexer] = value instead\n",
            "\n",
            "See the caveats in the documentation: https://pandas.pydata.org/pandas-docs/stable/user_guide/indexing.html#returning-a-view-versus-a-copy\n",
            "  chunk[\"lemma_text\"] = [\n"
          ]
        },
        {
          "name": "stdout",
          "output_type": "stream",
          "text": [
            "Saved 1550000-1600000\n"
          ]
        },
        {
          "name": "stderr",
          "output_type": "stream",
          "text": [
            "50000it [01:48, 461.65it/s] \n",
            "/tmp/ipykernel_10631/4243060105.py:7: SettingWithCopyWarning: \n",
            "A value is trying to be set on a copy of a slice from a DataFrame.\n",
            "Try using .loc[row_indexer,col_indexer] = value instead\n",
            "\n",
            "See the caveats in the documentation: https://pandas.pydata.org/pandas-docs/stable/user_guide/indexing.html#returning-a-view-versus-a-copy\n",
            "  chunk[\"lemma_text\"] = [\n"
          ]
        },
        {
          "name": "stdout",
          "output_type": "stream",
          "text": [
            "Saved 1600000-1650000\n"
          ]
        },
        {
          "name": "stderr",
          "output_type": "stream",
          "text": [
            "50000it [01:46, 468.33it/s] \n",
            "/tmp/ipykernel_10631/4243060105.py:7: SettingWithCopyWarning: \n",
            "A value is trying to be set on a copy of a slice from a DataFrame.\n",
            "Try using .loc[row_indexer,col_indexer] = value instead\n",
            "\n",
            "See the caveats in the documentation: https://pandas.pydata.org/pandas-docs/stable/user_guide/indexing.html#returning-a-view-versus-a-copy\n",
            "  chunk[\"lemma_text\"] = [\n"
          ]
        },
        {
          "name": "stdout",
          "output_type": "stream",
          "text": [
            "Saved 1650000-1700000\n"
          ]
        },
        {
          "name": "stderr",
          "output_type": "stream",
          "text": [
            "50000it [01:45, 475.26it/s] \n",
            "/tmp/ipykernel_10631/4243060105.py:7: SettingWithCopyWarning: \n",
            "A value is trying to be set on a copy of a slice from a DataFrame.\n",
            "Try using .loc[row_indexer,col_indexer] = value instead\n",
            "\n",
            "See the caveats in the documentation: https://pandas.pydata.org/pandas-docs/stable/user_guide/indexing.html#returning-a-view-versus-a-copy\n",
            "  chunk[\"lemma_text\"] = [\n"
          ]
        },
        {
          "name": "stdout",
          "output_type": "stream",
          "text": [
            "Saved 1700000-1750000\n"
          ]
        },
        {
          "name": "stderr",
          "output_type": "stream",
          "text": [
            "50000it [01:47, 466.87it/s] \n",
            "/tmp/ipykernel_10631/4243060105.py:7: SettingWithCopyWarning: \n",
            "A value is trying to be set on a copy of a slice from a DataFrame.\n",
            "Try using .loc[row_indexer,col_indexer] = value instead\n",
            "\n",
            "See the caveats in the documentation: https://pandas.pydata.org/pandas-docs/stable/user_guide/indexing.html#returning-a-view-versus-a-copy\n",
            "  chunk[\"lemma_text\"] = [\n"
          ]
        },
        {
          "name": "stdout",
          "output_type": "stream",
          "text": [
            "Saved 1750000-1800000\n"
          ]
        },
        {
          "name": "stderr",
          "output_type": "stream",
          "text": [
            "50000it [01:54, 436.06it/s] \n",
            "/tmp/ipykernel_10631/4243060105.py:7: SettingWithCopyWarning: \n",
            "A value is trying to be set on a copy of a slice from a DataFrame.\n",
            "Try using .loc[row_indexer,col_indexer] = value instead\n",
            "\n",
            "See the caveats in the documentation: https://pandas.pydata.org/pandas-docs/stable/user_guide/indexing.html#returning-a-view-versus-a-copy\n",
            "  chunk[\"lemma_text\"] = [\n"
          ]
        },
        {
          "name": "stdout",
          "output_type": "stream",
          "text": [
            "Saved 1800000-1850000\n"
          ]
        },
        {
          "name": "stderr",
          "output_type": "stream",
          "text": [
            "50000it [01:55, 431.94it/s] \n",
            "/tmp/ipykernel_10631/4243060105.py:7: SettingWithCopyWarning: \n",
            "A value is trying to be set on a copy of a slice from a DataFrame.\n",
            "Try using .loc[row_indexer,col_indexer] = value instead\n",
            "\n",
            "See the caveats in the documentation: https://pandas.pydata.org/pandas-docs/stable/user_guide/indexing.html#returning-a-view-versus-a-copy\n",
            "  chunk[\"lemma_text\"] = [\n"
          ]
        },
        {
          "name": "stdout",
          "output_type": "stream",
          "text": [
            "Saved 1850000-1900000\n"
          ]
        },
        {
          "name": "stderr",
          "output_type": "stream",
          "text": [
            "50000it [01:51, 448.66it/s] \n",
            "/tmp/ipykernel_10631/4243060105.py:7: SettingWithCopyWarning: \n",
            "A value is trying to be set on a copy of a slice from a DataFrame.\n",
            "Try using .loc[row_indexer,col_indexer] = value instead\n",
            "\n",
            "See the caveats in the documentation: https://pandas.pydata.org/pandas-docs/stable/user_guide/indexing.html#returning-a-view-versus-a-copy\n",
            "  chunk[\"lemma_text\"] = [\n"
          ]
        },
        {
          "name": "stdout",
          "output_type": "stream",
          "text": [
            "Saved 1900000-1950000\n"
          ]
        },
        {
          "name": "stderr",
          "output_type": "stream",
          "text": [
            "50000it [01:45, 474.27it/s] \n",
            "/tmp/ipykernel_10631/4243060105.py:7: SettingWithCopyWarning: \n",
            "A value is trying to be set on a copy of a slice from a DataFrame.\n",
            "Try using .loc[row_indexer,col_indexer] = value instead\n",
            "\n",
            "See the caveats in the documentation: https://pandas.pydata.org/pandas-docs/stable/user_guide/indexing.html#returning-a-view-versus-a-copy\n",
            "  chunk[\"lemma_text\"] = [\n"
          ]
        },
        {
          "name": "stdout",
          "output_type": "stream",
          "text": [
            "Saved 1950000-2000000\n"
          ]
        },
        {
          "name": "stderr",
          "output_type": "stream",
          "text": [
            "50000it [01:47, 465.48it/s] \n",
            "/tmp/ipykernel_10631/4243060105.py:7: SettingWithCopyWarning: \n",
            "A value is trying to be set on a copy of a slice from a DataFrame.\n",
            "Try using .loc[row_indexer,col_indexer] = value instead\n",
            "\n",
            "See the caveats in the documentation: https://pandas.pydata.org/pandas-docs/stable/user_guide/indexing.html#returning-a-view-versus-a-copy\n",
            "  chunk[\"lemma_text\"] = [\n"
          ]
        },
        {
          "name": "stdout",
          "output_type": "stream",
          "text": [
            "Saved 2000000-2050000\n"
          ]
        },
        {
          "name": "stderr",
          "output_type": "stream",
          "text": [
            "50000it [02:21, 353.42it/s] \n",
            "/tmp/ipykernel_10631/4243060105.py:7: SettingWithCopyWarning: \n",
            "A value is trying to be set on a copy of a slice from a DataFrame.\n",
            "Try using .loc[row_indexer,col_indexer] = value instead\n",
            "\n",
            "See the caveats in the documentation: https://pandas.pydata.org/pandas-docs/stable/user_guide/indexing.html#returning-a-view-versus-a-copy\n",
            "  chunk[\"lemma_text\"] = [\n"
          ]
        },
        {
          "name": "stdout",
          "output_type": "stream",
          "text": [
            "Saved 2050000-2100000\n"
          ]
        },
        {
          "name": "stderr",
          "output_type": "stream",
          "text": [
            "50000it [01:58, 422.10it/s] \n",
            "/tmp/ipykernel_10631/4243060105.py:7: SettingWithCopyWarning: \n",
            "A value is trying to be set on a copy of a slice from a DataFrame.\n",
            "Try using .loc[row_indexer,col_indexer] = value instead\n",
            "\n",
            "See the caveats in the documentation: https://pandas.pydata.org/pandas-docs/stable/user_guide/indexing.html#returning-a-view-versus-a-copy\n",
            "  chunk[\"lemma_text\"] = [\n"
          ]
        },
        {
          "name": "stdout",
          "output_type": "stream",
          "text": [
            "Saved 2100000-2150000\n"
          ]
        },
        {
          "name": "stderr",
          "output_type": "stream",
          "text": [
            "50000it [01:52, 446.35it/s] \n",
            "/tmp/ipykernel_10631/4243060105.py:7: SettingWithCopyWarning: \n",
            "A value is trying to be set on a copy of a slice from a DataFrame.\n",
            "Try using .loc[row_indexer,col_indexer] = value instead\n",
            "\n",
            "See the caveats in the documentation: https://pandas.pydata.org/pandas-docs/stable/user_guide/indexing.html#returning-a-view-versus-a-copy\n",
            "  chunk[\"lemma_text\"] = [\n"
          ]
        },
        {
          "name": "stdout",
          "output_type": "stream",
          "text": [
            "Saved 2150000-2200000\n"
          ]
        },
        {
          "name": "stderr",
          "output_type": "stream",
          "text": [
            "50000it [01:58, 420.28it/s] \n",
            "/tmp/ipykernel_10631/4243060105.py:7: SettingWithCopyWarning: \n",
            "A value is trying to be set on a copy of a slice from a DataFrame.\n",
            "Try using .loc[row_indexer,col_indexer] = value instead\n",
            "\n",
            "See the caveats in the documentation: https://pandas.pydata.org/pandas-docs/stable/user_guide/indexing.html#returning-a-view-versus-a-copy\n",
            "  chunk[\"lemma_text\"] = [\n"
          ]
        },
        {
          "name": "stdout",
          "output_type": "stream",
          "text": [
            "Saved 2200000-2250000\n"
          ]
        },
        {
          "name": "stderr",
          "output_type": "stream",
          "text": [
            "50000it [02:34, 322.82it/s] \n",
            "/tmp/ipykernel_10631/4243060105.py:7: SettingWithCopyWarning: \n",
            "A value is trying to be set on a copy of a slice from a DataFrame.\n",
            "Try using .loc[row_indexer,col_indexer] = value instead\n",
            "\n",
            "See the caveats in the documentation: https://pandas.pydata.org/pandas-docs/stable/user_guide/indexing.html#returning-a-view-versus-a-copy\n",
            "  chunk[\"lemma_text\"] = [\n"
          ]
        },
        {
          "name": "stdout",
          "output_type": "stream",
          "text": [
            "Saved 2250000-2300000\n"
          ]
        },
        {
          "name": "stderr",
          "output_type": "stream",
          "text": [
            "0it [00:00, ?it/s]"
          ]
        }
      ],
      "source": [
        "BATCH_SIZE = 50_000\n",
        "\n",
        "for start in range(0, len(df), BATCH_SIZE):\n",
        "    end = start + BATCH_SIZE\n",
        "    chunk = df.iloc[start:end]\n",
        "    \n",
        "    chunk[\"lemma_text\"] = [\n",
        "        \" \".join([token.lemma_ for token in doc]) \n",
        "        for doc in tqdm(nlp.pipe(chunk[\"clean_text\"], n_process=12))\n",
        "    ]\n",
        "    \n",
        "    chunk.to_csv(f\"lemma_chunk_{start}_{end}.csv\", index=False)\n",
        "    print(f\"Saved {start}-{end}\")"
      ]
    },
    {
      "cell_type": "code",
      "execution_count": 11,
      "metadata": {},
      "outputs": [
        {
          "name": "stdout",
          "output_type": "stream",
          "text": [
            "Skipping chunk 0 (already processed)\n",
            "Skipping chunk 50000 (already processed)\n",
            "Skipping chunk 100000 (already processed)\n",
            "Skipping chunk 150000 (already processed)\n",
            "Skipping chunk 200000 (already processed)\n",
            "Skipping chunk 250000 (already processed)\n",
            "Skipping chunk 300000 (already processed)\n",
            "Skipping chunk 350000 (already processed)\n",
            "Skipping chunk 400000 (already processed)\n",
            "Skipping chunk 450000 (already processed)\n",
            "Skipping chunk 500000 (already processed)\n",
            "Skipping chunk 550000 (already processed)\n",
            "Skipping chunk 600000 (already processed)\n",
            "Skipping chunk 650000 (already processed)\n",
            "Skipping chunk 700000 (already processed)\n",
            "Skipping chunk 750000 (already processed)\n",
            "Skipping chunk 800000 (already processed)\n",
            "Skipping chunk 850000 (already processed)\n",
            "Skipping chunk 900000 (already processed)\n",
            "Skipping chunk 950000 (already processed)\n",
            "Skipping chunk 1000000 (already processed)\n",
            "Skipping chunk 1050000 (already processed)\n",
            "Skipping chunk 1100000 (already processed)\n",
            "Skipping chunk 1150000 (already processed)\n",
            "Skipping chunk 1200000 (already processed)\n",
            "Skipping chunk 1250000 (already processed)\n",
            "Skipping chunk 1300000 (already processed)\n",
            "Skipping chunk 1350000 (already processed)\n",
            "Skipping chunk 1400000 (already processed)\n",
            "Skipping chunk 1450000 (already processed)\n",
            "Skipping chunk 1500000 (already processed)\n",
            "Skipping chunk 1550000 (already processed)\n",
            "Skipping chunk 1600000 (already processed)\n",
            "Skipping chunk 1650000 (already processed)\n",
            "Skipping chunk 1700000 (already processed)\n",
            "Skipping chunk 1750000 (already processed)\n",
            "Skipping chunk 1800000 (already processed)\n",
            "Skipping chunk 1850000 (already processed)\n",
            "Skipping chunk 1900000 (already processed)\n",
            "Skipping chunk 1950000 (already processed)\n",
            "Skipping chunk 2000000 (already processed)\n",
            "Skipping chunk 2050000 (already processed)\n",
            "Skipping chunk 2100000 (already processed)\n",
            "Skipping chunk 2150000 (already processed)\n",
            "Skipping chunk 2200000 (already processed)\n",
            "Skipping chunk 2250000 (already processed)\n",
            "Processing chunk 2300000-2350000\n"
          ]
        },
        {
          "name": "stderr",
          "output_type": "stream",
          "text": [
            "0it [00:00, ?it/s]"
          ]
        },
        {
          "name": "stderr",
          "output_type": "stream",
          "text": [
            "50000it [02:04, 402.71it/s] \n"
          ]
        },
        {
          "name": "stdout",
          "output_type": "stream",
          "text": [
            "Saved 2300000-2350000\n",
            "Processing chunk 2350000-2400000\n"
          ]
        },
        {
          "name": "stderr",
          "output_type": "stream",
          "text": [
            "50000it [01:48, 462.91it/s] \n"
          ]
        },
        {
          "name": "stdout",
          "output_type": "stream",
          "text": [
            "Saved 2350000-2400000\n",
            "Processing chunk 2400000-2450000\n"
          ]
        },
        {
          "name": "stderr",
          "output_type": "stream",
          "text": [
            "50000it [01:49, 454.99it/s] \n"
          ]
        },
        {
          "name": "stdout",
          "output_type": "stream",
          "text": [
            "Saved 2400000-2450000\n",
            "Processing chunk 2450000-2500000\n"
          ]
        },
        {
          "name": "stderr",
          "output_type": "stream",
          "text": [
            "50000it [01:50, 451.63it/s] \n"
          ]
        },
        {
          "name": "stdout",
          "output_type": "stream",
          "text": [
            "Saved 2450000-2500000\n",
            "Processing chunk 2500000-2550000\n"
          ]
        },
        {
          "name": "stderr",
          "output_type": "stream",
          "text": [
            "50000it [01:52, 443.43it/s] \n"
          ]
        },
        {
          "name": "stdout",
          "output_type": "stream",
          "text": [
            "Saved 2500000-2550000\n",
            "Processing chunk 2550000-2600000\n"
          ]
        },
        {
          "name": "stderr",
          "output_type": "stream",
          "text": [
            "50000it [01:52, 444.21it/s] \n"
          ]
        },
        {
          "name": "stdout",
          "output_type": "stream",
          "text": [
            "Saved 2550000-2600000\n",
            "Processing chunk 2600000-2650000\n"
          ]
        },
        {
          "name": "stderr",
          "output_type": "stream",
          "text": [
            "50000it [01:49, 458.37it/s] \n"
          ]
        },
        {
          "name": "stdout",
          "output_type": "stream",
          "text": [
            "Saved 2600000-2650000\n",
            "Processing chunk 2650000-2700000\n"
          ]
        },
        {
          "name": "stderr",
          "output_type": "stream",
          "text": [
            "50000it [01:49, 457.50it/s] \n"
          ]
        },
        {
          "name": "stdout",
          "output_type": "stream",
          "text": [
            "Saved 2650000-2700000\n",
            "Processing chunk 2700000-2750000\n"
          ]
        },
        {
          "name": "stderr",
          "output_type": "stream",
          "text": [
            "50000it [01:50, 454.29it/s] \n"
          ]
        },
        {
          "name": "stdout",
          "output_type": "stream",
          "text": [
            "Saved 2700000-2750000\n",
            "Processing chunk 2750000-2800000\n"
          ]
        },
        {
          "name": "stderr",
          "output_type": "stream",
          "text": [
            "50000it [01:56, 430.89it/s] \n"
          ]
        },
        {
          "name": "stdout",
          "output_type": "stream",
          "text": [
            "Saved 2750000-2800000\n",
            "Processing chunk 2800000-2850000\n"
          ]
        },
        {
          "name": "stderr",
          "output_type": "stream",
          "text": [
            "50000it [01:50, 451.12it/s] \n"
          ]
        },
        {
          "name": "stdout",
          "output_type": "stream",
          "text": [
            "Saved 2800000-2850000\n",
            "Processing chunk 2850000-2900000\n"
          ]
        },
        {
          "name": "stderr",
          "output_type": "stream",
          "text": [
            "50000it [01:49, 454.87it/s] \n"
          ]
        },
        {
          "name": "stdout",
          "output_type": "stream",
          "text": [
            "Saved 2850000-2900000\n",
            "Processing chunk 2900000-2950000\n"
          ]
        },
        {
          "name": "stderr",
          "output_type": "stream",
          "text": [
            "50000it [01:50, 451.78it/s] \n"
          ]
        },
        {
          "name": "stdout",
          "output_type": "stream",
          "text": [
            "Saved 2900000-2950000\n",
            "Processing chunk 2950000-3000000\n"
          ]
        },
        {
          "name": "stderr",
          "output_type": "stream",
          "text": [
            "50000it [01:50, 454.29it/s] \n"
          ]
        },
        {
          "name": "stdout",
          "output_type": "stream",
          "text": [
            "Saved 2950000-3000000\n",
            "Processing chunk 3000000-3050000\n"
          ]
        },
        {
          "name": "stderr",
          "output_type": "stream",
          "text": [
            "50000it [01:52, 443.52it/s] \n"
          ]
        },
        {
          "name": "stdout",
          "output_type": "stream",
          "text": [
            "Saved 3000000-3050000\n",
            "Processing chunk 3050000-3100000\n"
          ]
        },
        {
          "name": "stderr",
          "output_type": "stream",
          "text": [
            "50000it [01:48, 460.75it/s] \n"
          ]
        },
        {
          "name": "stdout",
          "output_type": "stream",
          "text": [
            "Saved 3050000-3100000\n",
            "Processing chunk 3100000-3150000\n"
          ]
        },
        {
          "name": "stderr",
          "output_type": "stream",
          "text": [
            "50000it [01:50, 451.21it/s] \n"
          ]
        },
        {
          "name": "stdout",
          "output_type": "stream",
          "text": [
            "Saved 3100000-3150000\n",
            "Processing chunk 3150000-3200000\n"
          ]
        },
        {
          "name": "stderr",
          "output_type": "stream",
          "text": [
            "50000it [01:50, 452.82it/s] \n"
          ]
        },
        {
          "name": "stdout",
          "output_type": "stream",
          "text": [
            "Saved 3150000-3200000\n",
            "Processing chunk 3200000-3250000\n"
          ]
        },
        {
          "name": "stderr",
          "output_type": "stream",
          "text": [
            "50000it [01:49, 456.21it/s] \n"
          ]
        },
        {
          "name": "stdout",
          "output_type": "stream",
          "text": [
            "Saved 3200000-3250000\n",
            "Processing chunk 3250000-3300000\n"
          ]
        },
        {
          "name": "stderr",
          "output_type": "stream",
          "text": [
            "50000it [02:03, 404.64it/s] \n"
          ]
        },
        {
          "name": "stdout",
          "output_type": "stream",
          "text": [
            "Saved 3250000-3300000\n",
            "Processing chunk 3300000-3350000\n"
          ]
        },
        {
          "name": "stderr",
          "output_type": "stream",
          "text": [
            "50000it [01:49, 456.96it/s] \n"
          ]
        },
        {
          "name": "stdout",
          "output_type": "stream",
          "text": [
            "Saved 3300000-3350000\n",
            "Processing chunk 3350000-3400000\n"
          ]
        },
        {
          "name": "stderr",
          "output_type": "stream",
          "text": [
            "50000it [01:48, 458.75it/s] \n"
          ]
        },
        {
          "name": "stdout",
          "output_type": "stream",
          "text": [
            "Saved 3350000-3400000\n",
            "Processing chunk 3400000-3450000\n"
          ]
        },
        {
          "name": "stderr",
          "output_type": "stream",
          "text": [
            "50000it [01:50, 454.20it/s] \n"
          ]
        },
        {
          "name": "stdout",
          "output_type": "stream",
          "text": [
            "Saved 3400000-3450000\n",
            "Processing chunk 3450000-3500000\n"
          ]
        },
        {
          "name": "stderr",
          "output_type": "stream",
          "text": [
            "50000it [01:50, 452.32it/s] \n"
          ]
        },
        {
          "name": "stdout",
          "output_type": "stream",
          "text": [
            "Saved 3450000-3500000\n",
            "Processing chunk 3500000-3550000\n"
          ]
        },
        {
          "name": "stderr",
          "output_type": "stream",
          "text": [
            "50000it [01:49, 457.61it/s] \n"
          ]
        },
        {
          "name": "stdout",
          "output_type": "stream",
          "text": [
            "Saved 3500000-3550000\n",
            "Processing chunk 3550000-3600000\n"
          ]
        },
        {
          "name": "stderr",
          "output_type": "stream",
          "text": [
            "50000it [01:48, 459.27it/s] \n"
          ]
        },
        {
          "name": "stdout",
          "output_type": "stream",
          "text": [
            "Saved 3550000-3600000\n",
            "Processing chunk 3600000-3650000\n"
          ]
        },
        {
          "name": "stderr",
          "output_type": "stream",
          "text": [
            "50000it [01:49, 458.33it/s] \n"
          ]
        },
        {
          "name": "stdout",
          "output_type": "stream",
          "text": [
            "Saved 3600000-3650000\n",
            "Processing chunk 3650000-3700000\n"
          ]
        },
        {
          "name": "stderr",
          "output_type": "stream",
          "text": [
            "50000it [01:48, 459.44it/s] \n"
          ]
        },
        {
          "name": "stdout",
          "output_type": "stream",
          "text": [
            "Saved 3650000-3700000\n",
            "Processing chunk 3700000-3750000\n"
          ]
        },
        {
          "name": "stderr",
          "output_type": "stream",
          "text": [
            "50000it [01:52, 445.32it/s] \n"
          ]
        },
        {
          "name": "stdout",
          "output_type": "stream",
          "text": [
            "Saved 3700000-3750000\n",
            "Processing chunk 3750000-3800000\n"
          ]
        },
        {
          "name": "stderr",
          "output_type": "stream",
          "text": [
            "50000it [01:59, 419.91it/s] \n"
          ]
        },
        {
          "name": "stdout",
          "output_type": "stream",
          "text": [
            "Saved 3750000-3800000\n",
            "Processing chunk 3800000-3850000\n"
          ]
        },
        {
          "name": "stderr",
          "output_type": "stream",
          "text": [
            "50000it [01:49, 455.17it/s] \n"
          ]
        },
        {
          "name": "stdout",
          "output_type": "stream",
          "text": [
            "Saved 3800000-3850000\n",
            "Processing chunk 3850000-3900000\n"
          ]
        },
        {
          "name": "stderr",
          "output_type": "stream",
          "text": [
            "50000it [01:50, 452.86it/s] \n"
          ]
        },
        {
          "name": "stdout",
          "output_type": "stream",
          "text": [
            "Saved 3850000-3900000\n",
            "Processing chunk 3900000-3950000\n"
          ]
        },
        {
          "name": "stderr",
          "output_type": "stream",
          "text": [
            "50000it [01:50, 453.49it/s] \n"
          ]
        },
        {
          "name": "stdout",
          "output_type": "stream",
          "text": [
            "Saved 3900000-3950000\n",
            "Processing chunk 3950000-4000000\n"
          ]
        },
        {
          "name": "stderr",
          "output_type": "stream",
          "text": [
            "50000it [01:51, 450.33it/s] \n"
          ]
        },
        {
          "name": "stdout",
          "output_type": "stream",
          "text": [
            "Saved 3950000-4000000\n",
            "Processing chunk 4000000-4050000\n"
          ]
        },
        {
          "name": "stderr",
          "output_type": "stream",
          "text": [
            "50000it [01:47, 463.33it/s] \n"
          ]
        },
        {
          "name": "stdout",
          "output_type": "stream",
          "text": [
            "Saved 4000000-4050000\n",
            "Processing chunk 4050000-4100000\n"
          ]
        },
        {
          "name": "stderr",
          "output_type": "stream",
          "text": [
            "50000it [01:50, 453.41it/s] \n"
          ]
        },
        {
          "name": "stdout",
          "output_type": "stream",
          "text": [
            "Saved 4050000-4100000\n",
            "Processing chunk 4100000-4150000\n"
          ]
        },
        {
          "name": "stderr",
          "output_type": "stream",
          "text": [
            "50000it [01:51, 447.38it/s] \n"
          ]
        },
        {
          "name": "stdout",
          "output_type": "stream",
          "text": [
            "Saved 4100000-4150000\n",
            "Processing chunk 4150000-4200000\n"
          ]
        },
        {
          "name": "stderr",
          "output_type": "stream",
          "text": [
            "50000it [01:54, 437.33it/s] \n"
          ]
        },
        {
          "name": "stdout",
          "output_type": "stream",
          "text": [
            "Saved 4150000-4200000\n",
            "Processing chunk 4200000-4250000\n"
          ]
        },
        {
          "name": "stderr",
          "output_type": "stream",
          "text": [
            "50000it [02:00, 415.65it/s] \n"
          ]
        },
        {
          "name": "stdout",
          "output_type": "stream",
          "text": [
            "Saved 4200000-4250000\n",
            "Processing chunk 4250000-4300000\n"
          ]
        },
        {
          "name": "stderr",
          "output_type": "stream",
          "text": [
            "50000it [01:46, 467.36it/s] \n"
          ]
        },
        {
          "name": "stdout",
          "output_type": "stream",
          "text": [
            "Saved 4250000-4300000\n",
            "Processing chunk 4300000-4350000\n"
          ]
        },
        {
          "name": "stderr",
          "output_type": "stream",
          "text": [
            "50000it [01:48, 459.59it/s] \n"
          ]
        },
        {
          "name": "stdout",
          "output_type": "stream",
          "text": [
            "Saved 4300000-4350000\n",
            "Processing chunk 4350000-4400000\n"
          ]
        },
        {
          "name": "stderr",
          "output_type": "stream",
          "text": [
            "50000it [01:49, 455.45it/s] \n"
          ]
        },
        {
          "name": "stdout",
          "output_type": "stream",
          "text": [
            "Saved 4350000-4400000\n",
            "Processing chunk 4400000-4450000\n"
          ]
        },
        {
          "name": "stderr",
          "output_type": "stream",
          "text": [
            "50000it [01:51, 448.26it/s] \n"
          ]
        },
        {
          "name": "stdout",
          "output_type": "stream",
          "text": [
            "Saved 4400000-4450000\n",
            "Processing chunk 4450000-4500000\n"
          ]
        },
        {
          "name": "stderr",
          "output_type": "stream",
          "text": [
            "50000it [01:51, 449.50it/s] \n"
          ]
        },
        {
          "name": "stdout",
          "output_type": "stream",
          "text": [
            "Saved 4450000-4500000\n",
            "Processing chunk 4500000-4550000\n"
          ]
        },
        {
          "name": "stderr",
          "output_type": "stream",
          "text": [
            "50000it [01:53, 442.36it/s] \n"
          ]
        },
        {
          "name": "stdout",
          "output_type": "stream",
          "text": [
            "Saved 4500000-4550000\n",
            "Processing chunk 4550000-4600000\n"
          ]
        },
        {
          "name": "stderr",
          "output_type": "stream",
          "text": [
            "50000it [01:50, 452.12it/s] \n"
          ]
        },
        {
          "name": "stdout",
          "output_type": "stream",
          "text": [
            "Saved 4550000-4600000\n",
            "Processing chunk 4600000-4650000\n"
          ]
        },
        {
          "name": "stderr",
          "output_type": "stream",
          "text": [
            "50000it [01:53, 441.03it/s] \n"
          ]
        },
        {
          "name": "stdout",
          "output_type": "stream",
          "text": [
            "Saved 4600000-4650000\n",
            "Processing chunk 4650000-4700000\n"
          ]
        },
        {
          "name": "stderr",
          "output_type": "stream",
          "text": [
            "50000it [01:59, 417.53it/s] \n"
          ]
        },
        {
          "name": "stdout",
          "output_type": "stream",
          "text": [
            "Saved 4650000-4700000\n",
            "Processing chunk 4700000-4724684\n"
          ]
        },
        {
          "name": "stderr",
          "output_type": "stream",
          "text": [
            "24684it [01:14, 330.34it/s] \n"
          ]
        },
        {
          "name": "stdout",
          "output_type": "stream",
          "text": [
            "Saved 4700000-4724684\n"
          ]
        }
      ],
      "source": [
        "BATCH_SIZE = 50_000\n",
        "\n",
        "done_chunks = {\n",
        "    int(f.split(\"_\")[2])\n",
        "    for f in os.listdir()\n",
        "    if f.startswith(\"lemma_chunk_\") and f.endswith(\".csv\")\n",
        "}\n",
        "\n",
        "for start in range(0, len(df), BATCH_SIZE):\n",
        "    if start in done_chunks:\n",
        "        print(f\"Skipping chunk {start} (already processed)\")\n",
        "        continue\n",
        "\n",
        "    end = min(start + BATCH_SIZE, len(df))\n",
        "    print(f\"Processing chunk {start}-{end}\")\n",
        "\n",
        "    chunk = df.iloc[start:end].copy()\n",
        "\n",
        "    chunk[\"lemma_text\"] = [\n",
        "        \" \".join([token.lemma_ for token in doc])\n",
        "        for doc in tqdm(nlp.pipe(chunk[\"clean_text\"], n_process=12, batch_size=100))\n",
        "    ]\n",
        "\n",
        "    chunk.to_csv(f\"lemma_chunk_{start}_{end}.csv\", index=False)\n",
        "    print(f\"Saved {start}-{end}\")"
      ]
    },
    {
      "cell_type": "code",
      "execution_count": 3,
      "metadata": {},
      "outputs": [
        {
          "name": "stderr",
          "output_type": "stream",
          "text": [
            "                                                                                \r"
          ]
        }
      ],
      "source": [
        "input_path = \"./\" \n",
        "df = spark.read.csv(\n",
        "    input_path + \"lemma_chunk_*.csv\", \n",
        "    header=True, \n",
        "    inferSchema=True\n",
        ")"
      ]
    },
    {
      "cell_type": "code",
      "execution_count": 5,
      "metadata": {},
      "outputs": [
        {
          "name": "stdout",
          "output_type": "stream",
          "text": [
            "root\n",
            " |-- clean_text: string (nullable = true)\n",
            " |-- sentiment: integer (nullable = true)\n",
            " |-- lemma_text: string (nullable = true)\n",
            "\n",
            "+--------------------+---------+--------------------+\n",
            "|          clean_text|sentiment|          lemma_text|\n",
            "+--------------------+---------+--------------------+\n",
            "|i have grown up g...|        0|I have grow up go...|\n",
            "|when we walked in...|        0|when we walk in w...|\n",
            "|i came to paladar...|        2|I come to paladar...|\n",
            "|excellent neighbo...|        2|excellent neighbo...|\n",
            "|amazing definitel...|        2|amazing definitel...|\n",
            "+--------------------+---------+--------------------+\n",
            "only showing top 5 rows\n",
            "\n"
          ]
        },
        {
          "name": "stderr",
          "output_type": "stream",
          "text": [
            "                                                                                \r"
          ]
        },
        {
          "data": {
            "text/plain": [
              "14892622"
            ]
          },
          "execution_count": 5,
          "metadata": {},
          "output_type": "execute_result"
        }
      ],
      "source": [
        "df.printSchema()\n",
        "df.show(5)\n",
        "df.count()"
      ]
    },
    {
      "cell_type": "code",
      "execution_count": 6,
      "metadata": {},
      "outputs": [
        {
          "name": "stderr",
          "output_type": "stream",
          "text": [
            "                                                                                \r"
          ]
        }
      ],
      "source": [
        "df.coalesce(1).write.parquet(\"svm_data_lemma\",mode=\"overwrite\")"
      ]
    },
    {
      "cell_type": "code",
      "execution_count": null,
      "metadata": {},
      "outputs": [],
      "source": []
    }
  ],
  "metadata": {
    "colab": {
      "provenance": []
    },
    "kernelspec": {
      "display_name": "Python (myenv)",
      "language": "python",
      "name": "myenv"
    },
    "language_info": {
      "codemirror_mode": {
        "name": "ipython",
        "version": 3
      },
      "file_extension": ".py",
      "mimetype": "text/x-python",
      "name": "python",
      "nbconvert_exporter": "python",
      "pygments_lexer": "ipython3",
      "version": "3.10.13"
    }
  },
  "nbformat": 4,
  "nbformat_minor": 0
}
